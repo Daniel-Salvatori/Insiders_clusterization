{
 "cells": [
  {
   "cell_type": "markdown",
   "metadata": {},
   "source": [
    "# <div style=\"color:white;display:fill;border-radius:5px;background-color:#2F4F4F;letter-spacing:0.5px;overflow:hidden\\\"><p style=\"padding:20px;color:white;overflow:hidden;text-align: center;margin:0;font-size:120%\\\">Deploy</h1></div>"
   ]
  },
  {
   "cell_type": "markdown",
   "metadata": {},
   "source": [
    "# 0.0 Imports"
   ]
  },
  {
   "cell_type": "code",
   "execution_count": 1,
   "metadata": {},
   "outputs": [],
   "source": [
    "import re\n",
    "import pickle\n",
    "import dotenv\n",
    "import os\n",
    "import boto3\n",
    "import io\n",
    "import inflection\n",
    "import numpy   as np\n",
    "import pandas  as pd\n",
    "import datetime as dt\n",
    "import seaborn as sns\n",
    "from matplotlib import pyplot as plt\n",
    "from sklearn import cluster as c\n",
    "from sklearn import metrics as m\n",
    "from sqlalchemy import create_engine\n",
    "from sqlalchemy.pool import NullPool\n",
    "\n",
    "\n",
    "# import s3fs\n",
    "# from sklearn.manifold import TSNE\n",
    "# from sklearn import ensemble as en\n",
    "# from sklearn import mixture  as mx\n",
    "# from sklearn import preprocessing as pp\n",
    "# from sklearn import decomposition as dd\n",
    "# import umap.umap_ as umap\n",
    "# import matplotlib.cm as cm\n",
    "# import scipy.cluster.hierarchy as hc"
   ]
  },
  {
   "cell_type": "markdown",
   "metadata": {},
   "source": [
    "## 0.1 Helper Functions"
   ]
  },
  {
   "cell_type": "code",
   "execution_count": 2,
   "metadata": {},
   "outputs": [],
   "source": [
    "def numerical_metrics(num_attributes):\n",
    "    #ct = central tendency\n",
    "    ct_mean = pd.DataFrame(num_attributes.apply(np.mean)).T\n",
    "    ct_median = pd.DataFrame(num_attributes.apply(np.median)).T\n",
    "\n",
    "    #d = dispersion\n",
    "    d_std = pd.DataFrame(num_attributes.apply(np.std)).T\n",
    "    d_min = pd.DataFrame(num_attributes.apply(min)).T\n",
    "    d_max = pd.DataFrame(num_attributes.apply(max)).T\n",
    "    d_range = pd.DataFrame(num_attributes.apply(lambda x: x.max() - x.min())).T\n",
    "    d_skew = pd.DataFrame(num_attributes.apply(lambda x: x.skew())).T\n",
    "    d_kurtosis = pd.DataFrame(num_attributes.apply(lambda x: x.kurtosis())).T\n",
    "\n",
    "    #concat\n",
    "    num_desc = pd.concat([d_min,d_max,d_range,ct_mean,ct_median,d_std,d_skew,d_kurtosis]).T.reset_index()\n",
    "    num_desc.columns=['attributes','min','max','range','mean','median','std','skew','kurtosis']\n",
    "\n",
    "    return num_desc\n",
    "\n",
    "def cluster_label(x):\n",
    "    cluster_labels = {\n",
    "        0: 'Insiders',\n",
    "        1: 'Loyal Customers',\n",
    "        2: 'Potentials',\n",
    "        3: 'Promising',\n",
    "        8: 'Regular',\n",
    "        9: 'Need Attention',\n",
    "        7: 'At Risk',\n",
    "        5: 'Sleeping',\n",
    "        10: 'Hibernating',\n",
    "        4: 'About to lose',\n",
    "        6: 'Losing'\n",
    "    }\n",
    "    return cluster_labels.get(x)"
   ]
  },
  {
   "cell_type": "markdown",
   "metadata": {},
   "source": [
    "## 0.2 Loading Data"
   ]
  },
  {
   "cell_type": "code",
   "execution_count": 3,
   "metadata": {},
   "outputs": [
    {
     "data": {
      "text/plain": [
       "True"
      ]
     },
     "execution_count": 3,
     "metadata": {},
     "output_type": "execute_result"
    }
   ],
   "source": [
    "dotenv.load_dotenv(dotenv.find_dotenv())"
   ]
  },
  {
   "cell_type": "code",
   "execution_count": 4,
   "metadata": {},
   "outputs": [],
   "source": [
    "AWS_ACCESS_KEY_ID = os.environ.get('AWS_ACCESS_KEY_ID')\n",
    "AWS_SECRET_ACCESS_KEY = os.environ.get('AWS_SECRET_ACCESS_KEY')\n",
    "AWS_DEFAULT_REGION = os.environ.get('AWS_DEFAULT_REGION')"
   ]
  },
  {
   "cell_type": "code",
   "execution_count": 5,
   "metadata": {},
   "outputs": [],
   "source": [
    "s3 = boto3.resource(service_name='s3',\n",
    "                             region_name=AWS_DEFAULT_REGION,\n",
    "                             aws_access_key_id=AWS_ACCESS_KEY_ID,\n",
    "                             aws_secret_access_key=AWS_SECRET_ACCESS_KEY)   "
   ]
  },
  {
   "cell_type": "code",
   "execution_count": 6,
   "metadata": {},
   "outputs": [
    {
     "name": "stdout",
     "output_type": "stream",
     "text": [
      "insidersdb\n"
     ]
    }
   ],
   "source": [
    "for bucket in s3.buckets.all():\n",
    "    print(bucket.name)"
   ]
  },
  {
   "cell_type": "code",
   "execution_count": 7,
   "metadata": {},
   "outputs": [
    {
     "name": "stdout",
     "output_type": "stream",
     "text": [
      "s3.ObjectSummary(bucket_name='insidersdb', key='Ecommerce.csv')\n",
      "s3.ObjectSummary(bucket_name='insidersdb', key='frequency_scaler.pkl')\n",
      "s3.ObjectSummary(bucket_name='insidersdb', key='gross_revenue_scaler.pkl')\n",
      "s3.ObjectSummary(bucket_name='insidersdb', key='products_scaler.pkl')\n",
      "s3.ObjectSummary(bucket_name='insidersdb', key='recency_scaler.pkl')\n",
      "s3.ObjectSummary(bucket_name='insidersdb', key='returns_scaler.pkl')\n",
      "s3.ObjectSummary(bucket_name='insidersdb', key='rf_model.pkl')\n",
      "s3.ObjectSummary(bucket_name='insidersdb', key='umap_reducer.pkl')\n"
     ]
    }
   ],
   "source": [
    "for obj in s3.Bucket('insidersdb').objects.all():\n",
    "    print(obj)"
   ]
  },
  {
   "cell_type": "code",
   "execution_count": 8,
   "metadata": {},
   "outputs": [
    {
     "data": {
      "text/html": [
       "<div>\n",
       "<style scoped>\n",
       "    .dataframe tbody tr th:only-of-type {\n",
       "        vertical-align: middle;\n",
       "    }\n",
       "\n",
       "    .dataframe tbody tr th {\n",
       "        vertical-align: top;\n",
       "    }\n",
       "\n",
       "    .dataframe thead th {\n",
       "        text-align: right;\n",
       "    }\n",
       "</style>\n",
       "<table border=\"1\" class=\"dataframe\">\n",
       "  <thead>\n",
       "    <tr style=\"text-align: right;\">\n",
       "      <th></th>\n",
       "      <th>InvoiceNo</th>\n",
       "      <th>StockCode</th>\n",
       "      <th>Description</th>\n",
       "      <th>Quantity</th>\n",
       "      <th>InvoiceDate</th>\n",
       "      <th>UnitPrice</th>\n",
       "      <th>CustomerID</th>\n",
       "      <th>Country</th>\n",
       "      <th>Unnamed: 8</th>\n",
       "    </tr>\n",
       "  </thead>\n",
       "  <tbody>\n",
       "    <tr>\n",
       "      <th>0</th>\n",
       "      <td>536365</td>\n",
       "      <td>85123A</td>\n",
       "      <td>WHITE HANGING HEART T-LIGHT HOLDER</td>\n",
       "      <td>6</td>\n",
       "      <td>29-Nov-16</td>\n",
       "      <td>2.55</td>\n",
       "      <td>17850.0</td>\n",
       "      <td>United Kingdom</td>\n",
       "      <td>NaN</td>\n",
       "    </tr>\n",
       "    <tr>\n",
       "      <th>1</th>\n",
       "      <td>536365</td>\n",
       "      <td>71053</td>\n",
       "      <td>WHITE METAL LANTERN</td>\n",
       "      <td>6</td>\n",
       "      <td>29-Nov-16</td>\n",
       "      <td>3.39</td>\n",
       "      <td>17850.0</td>\n",
       "      <td>United Kingdom</td>\n",
       "      <td>NaN</td>\n",
       "    </tr>\n",
       "    <tr>\n",
       "      <th>2</th>\n",
       "      <td>536365</td>\n",
       "      <td>84406B</td>\n",
       "      <td>CREAM CUPID HEARTS COAT HANGER</td>\n",
       "      <td>8</td>\n",
       "      <td>29-Nov-16</td>\n",
       "      <td>2.75</td>\n",
       "      <td>17850.0</td>\n",
       "      <td>United Kingdom</td>\n",
       "      <td>NaN</td>\n",
       "    </tr>\n",
       "    <tr>\n",
       "      <th>3</th>\n",
       "      <td>536365</td>\n",
       "      <td>84029G</td>\n",
       "      <td>KNITTED UNION FLAG HOT WATER BOTTLE</td>\n",
       "      <td>6</td>\n",
       "      <td>29-Nov-16</td>\n",
       "      <td>3.39</td>\n",
       "      <td>17850.0</td>\n",
       "      <td>United Kingdom</td>\n",
       "      <td>NaN</td>\n",
       "    </tr>\n",
       "    <tr>\n",
       "      <th>4</th>\n",
       "      <td>536365</td>\n",
       "      <td>84029E</td>\n",
       "      <td>RED WOOLLY HOTTIE WHITE HEART.</td>\n",
       "      <td>6</td>\n",
       "      <td>29-Nov-16</td>\n",
       "      <td>3.39</td>\n",
       "      <td>17850.0</td>\n",
       "      <td>United Kingdom</td>\n",
       "      <td>NaN</td>\n",
       "    </tr>\n",
       "  </tbody>\n",
       "</table>\n",
       "</div>"
      ],
      "text/plain": [
       "  InvoiceNo StockCode                          Description  Quantity  \\\n",
       "0    536365    85123A   WHITE HANGING HEART T-LIGHT HOLDER         6   \n",
       "1    536365     71053                  WHITE METAL LANTERN         6   \n",
       "2    536365    84406B       CREAM CUPID HEARTS COAT HANGER         8   \n",
       "3    536365    84029G  KNITTED UNION FLAG HOT WATER BOTTLE         6   \n",
       "4    536365    84029E       RED WOOLLY HOTTIE WHITE HEART.         6   \n",
       "\n",
       "  InvoiceDate  UnitPrice  CustomerID         Country  Unnamed: 8  \n",
       "0   29-Nov-16       2.55     17850.0  United Kingdom         NaN  \n",
       "1   29-Nov-16       3.39     17850.0  United Kingdom         NaN  \n",
       "2   29-Nov-16       2.75     17850.0  United Kingdom         NaN  \n",
       "3   29-Nov-16       3.39     17850.0  United Kingdom         NaN  \n",
       "4   29-Nov-16       3.39     17850.0  United Kingdom         NaN  "
      ]
     },
     "execution_count": 8,
     "metadata": {},
     "output_type": "execute_result"
    }
   ],
   "source": [
    "obj = s3.Bucket('insidersdb').Object('Ecommerce.csv').get()\n",
    "df_raw = pd.read_csv(io.BytesIO(obj['Body'].read()), encoding='iso-8859-1')\n",
    "df_raw.head()"
   ]
  },
  {
   "cell_type": "markdown",
   "metadata": {},
   "source": [
    "# 1.0 Data Description"
   ]
  },
  {
   "cell_type": "markdown",
   "metadata": {},
   "source": [
    "## 1.1 Rename Columns"
   ]
  },
  {
   "cell_type": "code",
   "execution_count": 9,
   "metadata": {},
   "outputs": [],
   "source": [
    "df1 = df_raw.copy()"
   ]
  },
  {
   "cell_type": "code",
   "execution_count": 10,
   "metadata": {},
   "outputs": [],
   "source": [
    "snakecase = lambda x: inflection.underscore(x)\n",
    "cols_new = list(map(snakecase, df1.columns))\n",
    "df1.columns = cols_new"
   ]
  },
  {
   "cell_type": "markdown",
   "metadata": {},
   "source": [
    "## 1.2 Data Dimension"
   ]
  },
  {
   "cell_type": "code",
   "execution_count": 11,
   "metadata": {},
   "outputs": [
    {
     "name": "stdout",
     "output_type": "stream",
     "text": [
      "Number of Rows: 541909\n",
      "Number of Columns: 9\n"
     ]
    }
   ],
   "source": [
    "print( 'Number of Rows: {}'.format( df1.shape[0] ) )\n",
    "print( 'Number of Columns: {}'.format( df1.shape[1] ) )"
   ]
  },
  {
   "cell_type": "markdown",
   "metadata": {},
   "source": [
    "## 1.3 Check NA"
   ]
  },
  {
   "cell_type": "code",
   "execution_count": 12,
   "metadata": {},
   "outputs": [
    {
     "data": {
      "text/html": [
       "<div>\n",
       "<style scoped>\n",
       "    .dataframe tbody tr th:only-of-type {\n",
       "        vertical-align: middle;\n",
       "    }\n",
       "\n",
       "    .dataframe tbody tr th {\n",
       "        vertical-align: top;\n",
       "    }\n",
       "\n",
       "    .dataframe thead th {\n",
       "        text-align: right;\n",
       "    }\n",
       "</style>\n",
       "<table border=\"1\" class=\"dataframe\">\n",
       "  <thead>\n",
       "    <tr style=\"text-align: right;\">\n",
       "      <th></th>\n",
       "      <th>NA Count</th>\n",
       "      <th>% NA</th>\n",
       "    </tr>\n",
       "  </thead>\n",
       "  <tbody>\n",
       "    <tr>\n",
       "      <th>invoice_no</th>\n",
       "      <td>0</td>\n",
       "      <td>0.000000</td>\n",
       "    </tr>\n",
       "    <tr>\n",
       "      <th>stock_code</th>\n",
       "      <td>0</td>\n",
       "      <td>0.000000</td>\n",
       "    </tr>\n",
       "    <tr>\n",
       "      <th>description</th>\n",
       "      <td>1454</td>\n",
       "      <td>0.268311</td>\n",
       "    </tr>\n",
       "    <tr>\n",
       "      <th>quantity</th>\n",
       "      <td>0</td>\n",
       "      <td>0.000000</td>\n",
       "    </tr>\n",
       "    <tr>\n",
       "      <th>invoice_date</th>\n",
       "      <td>0</td>\n",
       "      <td>0.000000</td>\n",
       "    </tr>\n",
       "    <tr>\n",
       "      <th>unit_price</th>\n",
       "      <td>0</td>\n",
       "      <td>0.000000</td>\n",
       "    </tr>\n",
       "    <tr>\n",
       "      <th>customer_id</th>\n",
       "      <td>135080</td>\n",
       "      <td>24.926694</td>\n",
       "    </tr>\n",
       "    <tr>\n",
       "      <th>country</th>\n",
       "      <td>0</td>\n",
       "      <td>0.000000</td>\n",
       "    </tr>\n",
       "    <tr>\n",
       "      <th>unnamed: 8</th>\n",
       "      <td>541909</td>\n",
       "      <td>100.000000</td>\n",
       "    </tr>\n",
       "  </tbody>\n",
       "</table>\n",
       "</div>"
      ],
      "text/plain": [
       "              NA Count        % NA\n",
       "invoice_no           0    0.000000\n",
       "stock_code           0    0.000000\n",
       "description       1454    0.268311\n",
       "quantity             0    0.000000\n",
       "invoice_date         0    0.000000\n",
       "unit_price           0    0.000000\n",
       "customer_id     135080   24.926694\n",
       "country              0    0.000000\n",
       "unnamed: 8      541909  100.000000"
      ]
     },
     "execution_count": 12,
     "metadata": {},
     "output_type": "execute_result"
    }
   ],
   "source": [
    "null_values = pd.DataFrame({'NA Count' : df1.isna().sum(), '% NA' : (df1.isna().sum()) / (df1.shape[0]) * (100)})\n",
    "null_values"
   ]
  },
  {
   "cell_type": "markdown",
   "metadata": {},
   "source": [
    "## 1.4 Fillout NA"
   ]
  },
  {
   "cell_type": "code",
   "execution_count": 13,
   "metadata": {},
   "outputs": [
    {
     "name": "stdout",
     "output_type": "stream",
     "text": [
      "Removed data: 0.25%\n"
     ]
    }
   ],
   "source": [
    "# drop NA column\n",
    "df1 = df1.drop('unnamed: 8', axis=1)\n",
    "\n",
    "# remove NA\n",
    "df1 = df1.dropna( subset=['customer_id'] )\n",
    "\n",
    "print( 'Removed data: {:.2f}%'.format( 1 - (df1.shape[0] / df_raw.shape[0]) ) )"
   ]
  },
  {
   "cell_type": "markdown",
   "metadata": {},
   "source": [
    "## 1.5 Change dtypes"
   ]
  },
  {
   "cell_type": "code",
   "execution_count": 14,
   "metadata": {},
   "outputs": [
    {
     "data": {
      "text/plain": [
       "invoice_no       object\n",
       "stock_code       object\n",
       "description      object\n",
       "quantity          int64\n",
       "invoice_date     object\n",
       "unit_price      float64\n",
       "customer_id     float64\n",
       "country          object\n",
       "dtype: object"
      ]
     },
     "execution_count": 14,
     "metadata": {},
     "output_type": "execute_result"
    }
   ],
   "source": [
    "df1.dtypes"
   ]
  },
  {
   "cell_type": "code",
   "execution_count": 15,
   "metadata": {},
   "outputs": [],
   "source": [
    "# invoice_date\n",
    "df1['invoice_date'] = pd.to_datetime( df1['invoice_date'], format='%d-%b-%y')\n",
    "\n",
    "# customer_id\n",
    "df1['customer_id'] = df1['customer_id'].astype( 'int64' )"
   ]
  },
  {
   "cell_type": "markdown",
   "metadata": {},
   "source": [
    "## 1.6 Data Descriptive"
   ]
  },
  {
   "cell_type": "code",
   "execution_count": 16,
   "metadata": {},
   "outputs": [],
   "source": [
    "num_attributes = df1.select_dtypes( include=['int64', 'float64'] )\n",
    "cat_attributes = df1.select_dtypes( exclude=['int64', 'float64', 'datetime64[ns]'] )"
   ]
  },
  {
   "cell_type": "markdown",
   "metadata": {},
   "source": [
    "### 1.6.1 Numerical attributes"
   ]
  },
  {
   "cell_type": "code",
   "execution_count": 17,
   "metadata": {},
   "outputs": [
    {
     "data": {
      "text/html": [
       "<div>\n",
       "<style scoped>\n",
       "    .dataframe tbody tr th:only-of-type {\n",
       "        vertical-align: middle;\n",
       "    }\n",
       "\n",
       "    .dataframe tbody tr th {\n",
       "        vertical-align: top;\n",
       "    }\n",
       "\n",
       "    .dataframe thead th {\n",
       "        text-align: right;\n",
       "    }\n",
       "</style>\n",
       "<table border=\"1\" class=\"dataframe\">\n",
       "  <thead>\n",
       "    <tr style=\"text-align: right;\">\n",
       "      <th></th>\n",
       "      <th>attributes</th>\n",
       "      <th>min</th>\n",
       "      <th>max</th>\n",
       "      <th>range</th>\n",
       "      <th>mean</th>\n",
       "      <th>median</th>\n",
       "      <th>std</th>\n",
       "      <th>skew</th>\n",
       "      <th>kurtosis</th>\n",
       "    </tr>\n",
       "  </thead>\n",
       "  <tbody>\n",
       "    <tr>\n",
       "      <th>0</th>\n",
       "      <td>quantity</td>\n",
       "      <td>-80995.0</td>\n",
       "      <td>80995.0</td>\n",
       "      <td>161990.0</td>\n",
       "      <td>12.061303</td>\n",
       "      <td>5.00</td>\n",
       "      <td>248.693064</td>\n",
       "      <td>0.182663</td>\n",
       "      <td>94317.563673</td>\n",
       "    </tr>\n",
       "    <tr>\n",
       "      <th>1</th>\n",
       "      <td>unit_price</td>\n",
       "      <td>0.0</td>\n",
       "      <td>38970.0</td>\n",
       "      <td>38970.0</td>\n",
       "      <td>3.460471</td>\n",
       "      <td>1.95</td>\n",
       "      <td>69.315077</td>\n",
       "      <td>452.219019</td>\n",
       "      <td>246924.542988</td>\n",
       "    </tr>\n",
       "    <tr>\n",
       "      <th>2</th>\n",
       "      <td>customer_id</td>\n",
       "      <td>12346.0</td>\n",
       "      <td>18287.0</td>\n",
       "      <td>5941.0</td>\n",
       "      <td>15287.690570</td>\n",
       "      <td>15152.00</td>\n",
       "      <td>1713.598197</td>\n",
       "      <td>0.029835</td>\n",
       "      <td>-1.179982</td>\n",
       "    </tr>\n",
       "  </tbody>\n",
       "</table>\n",
       "</div>"
      ],
      "text/plain": [
       "    attributes      min      max     range          mean    median  \\\n",
       "0     quantity -80995.0  80995.0  161990.0     12.061303      5.00   \n",
       "1   unit_price      0.0  38970.0   38970.0      3.460471      1.95   \n",
       "2  customer_id  12346.0  18287.0    5941.0  15287.690570  15152.00   \n",
       "\n",
       "           std        skew       kurtosis  \n",
       "0   248.693064    0.182663   94317.563673  \n",
       "1    69.315077  452.219019  246924.542988  \n",
       "2  1713.598197    0.029835      -1.179982  "
      ]
     },
     "execution_count": 17,
     "metadata": {},
     "output_type": "execute_result"
    }
   ],
   "source": [
    "numerical_metrics(num_attributes)"
   ]
  },
  {
   "cell_type": "markdown",
   "metadata": {},
   "source": [
    "### 1.6.2 Categorical attributes"
   ]
  },
  {
   "cell_type": "code",
   "execution_count": 18,
   "metadata": {},
   "outputs": [
    {
     "name": "stdout",
     "output_type": "stream",
     "text": [
      "Number of invoices: 8905\n",
      "Total number of negative quantity: 8905\n"
     ]
    }
   ],
   "source": [
    "# invoice number - feature com string e int\n",
    "df_letter_invoices = df1.loc[df1['invoice_no'].apply( lambda x: bool( re.search( '[^0-9]+', x ) ) ), :]\n",
    "\n",
    "print( 'Number of invoices: {}'.format( len(df_letter_invoices) ) )\n",
    "print( 'Total number of negative quantity: {}'.format( len(df_letter_invoices['quantity'] <= 0 ) ) )"
   ]
  },
  {
   "cell_type": "code",
   "execution_count": 19,
   "metadata": {},
   "outputs": [
    {
     "data": {
      "text/plain": [
       "array(['POST', 'D', 'M', 'PADS', 'DOT', 'CRUK'], dtype=object)"
      ]
     },
     "execution_count": 19,
     "metadata": {},
     "output_type": "execute_result"
    }
   ],
   "source": [
    "# stock code - feature c string\n",
    "cat_attributes.loc[cat_attributes['stock_code'].apply( lambda x: bool( re.search( '^[a-zA-Z]+$', x ) ) ), 'stock_code'].unique()"
   ]
  },
  {
   "cell_type": "markdown",
   "metadata": {},
   "source": [
    "# 2.0 Data Filtering"
   ]
  },
  {
   "cell_type": "code",
   "execution_count": 20,
   "metadata": {},
   "outputs": [],
   "source": [
    "df2 = df1.copy()"
   ]
  },
  {
   "cell_type": "code",
   "execution_count": 21,
   "metadata": {},
   "outputs": [],
   "source": [
    "# numerical attributes\n",
    "df2 = df2.loc[df2['unit_price'] >= 0.04, : ]\n",
    "\n",
    "# categorical attributes\n",
    "df2 = df2[~df2['stock_code'].isin( ['POST', 'D', 'M', 'PADS', 'DOT', 'CRUK']) ]\n",
    "\n",
    "# description/country\n",
    "df2 = df2.drop(columns=['description', 'country'])\n",
    "\n",
    "# drop duplicate\n",
    "df2.drop_duplicates(inplace=True)\n",
    "\n",
    "# bad users\n",
    "# [16446, 12346, 15749]\n",
    "bad_users = [17548, 16546, 15823, 13672, 12346, 13762, 16446, 17900, 18268, 14557, 16878, 13364, 14792, 12607, 12454, 18274, 12558]\n",
    "df2 = df2[~df2['customer_id'].isin( bad_users )]\n",
    "\n",
    "# quantity\n",
    "df2_returns = df2.loc[df1['quantity'] < 0, :]\n",
    "df2_purchases = df2.loc[df1['quantity'] >= 0, :]"
   ]
  },
  {
   "cell_type": "markdown",
   "metadata": {},
   "source": [
    "# 3.0 Feature Engeneering"
   ]
  },
  {
   "cell_type": "code",
   "execution_count": 22,
   "metadata": {},
   "outputs": [],
   "source": [
    "df3 = df2.copy()"
   ]
  },
  {
   "cell_type": "code",
   "execution_count": 23,
   "metadata": {},
   "outputs": [],
   "source": [
    "df_ref = df3['customer_id'].drop_duplicates().reset_index(drop=True)"
   ]
  },
  {
   "cell_type": "code",
   "execution_count": 24,
   "metadata": {},
   "outputs": [],
   "source": [
    "# Gross revenue\n",
    "df2_purchases = df2_purchases.assign(gross_revenue=df2_purchases['quantity'] * df2_purchases['unit_price'])"
   ]
  },
  {
   "cell_type": "code",
   "execution_count": 25,
   "metadata": {},
   "outputs": [],
   "source": [
    "# Invoice \n",
    "df3_invoice = df2_purchases.groupby('invoice_no').agg(  customer_id = ('customer_id', 'max'), \n",
    "                                                        invoice_date = ('invoice_date', 'max'), \n",
    "                                                        gross_revenue = ('gross_revenue', 'sum'),\n",
    "                                                        unique_products = ('stock_code', 'nunique'),\n",
    "                                                        items = ('quantity', 'sum') ).reset_index()"
   ]
  },
  {
   "cell_type": "code",
   "execution_count": 26,
   "metadata": {},
   "outputs": [],
   "source": [
    "# Customer\n",
    "\n",
    "last_day = df2_purchases.invoice_date.max() + dt.timedelta(days = 1)\n",
    "\n",
    "df_customer = df3_invoice.groupby('customer_id').agg(   gross_revenue = ('gross_revenue', 'sum'),                                           \n",
    "                                                        recency = ('invoice_date', lambda x: ((last_day - x.max()).days)),       \n",
    "                                                        frequency = ('invoice_no', 'count'),\n",
    "                                                        items = ('items', 'sum'),\n",
    "                                                        products = ('unique_products', 'sum') ).reset_index()"
   ]
  },
  {
   "cell_type": "code",
   "execution_count": 27,
   "metadata": {},
   "outputs": [
    {
     "data": {
      "text/html": [
       "<div>\n",
       "<style scoped>\n",
       "    .dataframe tbody tr th:only-of-type {\n",
       "        vertical-align: middle;\n",
       "    }\n",
       "\n",
       "    .dataframe tbody tr th {\n",
       "        vertical-align: top;\n",
       "    }\n",
       "\n",
       "    .dataframe thead th {\n",
       "        text-align: right;\n",
       "    }\n",
       "</style>\n",
       "<table border=\"1\" class=\"dataframe\">\n",
       "  <thead>\n",
       "    <tr style=\"text-align: right;\">\n",
       "      <th></th>\n",
       "      <th>customer_id</th>\n",
       "      <th>gross_revenue</th>\n",
       "      <th>recency</th>\n",
       "      <th>frequency</th>\n",
       "      <th>items</th>\n",
       "      <th>products</th>\n",
       "    </tr>\n",
       "  </thead>\n",
       "  <tbody>\n",
       "    <tr>\n",
       "      <th>0</th>\n",
       "      <td>12347</td>\n",
       "      <td>4310.00</td>\n",
       "      <td>3</td>\n",
       "      <td>7</td>\n",
       "      <td>2458</td>\n",
       "      <td>182</td>\n",
       "    </tr>\n",
       "    <tr>\n",
       "      <th>1</th>\n",
       "      <td>12348</td>\n",
       "      <td>1437.24</td>\n",
       "      <td>76</td>\n",
       "      <td>4</td>\n",
       "      <td>2332</td>\n",
       "      <td>23</td>\n",
       "    </tr>\n",
       "    <tr>\n",
       "      <th>2</th>\n",
       "      <td>12349</td>\n",
       "      <td>1457.55</td>\n",
       "      <td>19</td>\n",
       "      <td>1</td>\n",
       "      <td>630</td>\n",
       "      <td>72</td>\n",
       "    </tr>\n",
       "    <tr>\n",
       "      <th>3</th>\n",
       "      <td>12350</td>\n",
       "      <td>294.40</td>\n",
       "      <td>311</td>\n",
       "      <td>1</td>\n",
       "      <td>196</td>\n",
       "      <td>16</td>\n",
       "    </tr>\n",
       "    <tr>\n",
       "      <th>4</th>\n",
       "      <td>12352</td>\n",
       "      <td>1385.74</td>\n",
       "      <td>37</td>\n",
       "      <td>7</td>\n",
       "      <td>526</td>\n",
       "      <td>77</td>\n",
       "    </tr>\n",
       "  </tbody>\n",
       "</table>\n",
       "</div>"
      ],
      "text/plain": [
       "   customer_id  gross_revenue  recency  frequency  items  products\n",
       "0        12347        4310.00        3          7   2458       182\n",
       "1        12348        1437.24       76          4   2332        23\n",
       "2        12349        1457.55       19          1    630        72\n",
       "3        12350         294.40      311          1    196        16\n",
       "4        12352        1385.74       37          7    526        77"
      ]
     },
     "execution_count": 27,
     "metadata": {},
     "output_type": "execute_result"
    }
   ],
   "source": [
    "df_customer.head()"
   ]
  },
  {
   "cell_type": "code",
   "execution_count": 28,
   "metadata": {},
   "outputs": [],
   "source": [
    "# returns\n",
    "df_returns = df2_returns[['customer_id', 'quantity']].groupby( 'customer_id' ).sum().reset_index().rename(columns={'quantity': 'returns'} )\n",
    "df_returns['returns'] = df_returns['returns'] * -1\n"
   ]
  },
  {
   "cell_type": "code",
   "execution_count": 29,
   "metadata": {},
   "outputs": [
    {
     "data": {
      "text/plain": [
       "customer_id       0\n",
       "gross_revenue    27\n",
       "recency          27\n",
       "frequency        27\n",
       "items            27\n",
       "products         27\n",
       "returns           0\n",
       "dtype: int64"
      ]
     },
     "execution_count": 29,
     "metadata": {},
     "output_type": "execute_result"
    }
   ],
   "source": [
    "# merge - customer \n",
    "df_ref = pd.merge( df_ref, df_customer, on='customer_id', how='left')\n",
    "\n",
    "# merge - returns\n",
    "df_ref = pd.merge( df_ref, df_returns, on='customer_id', how='left' )\n",
    "df_ref.loc[df_ref['returns'].isna(), 'returns'] = 0\n",
    "df_ref.isna().sum()\n"
   ]
  },
  {
   "cell_type": "code",
   "execution_count": 30,
   "metadata": {},
   "outputs": [
    {
     "data": {
      "text/plain": [
       "customer_id      0\n",
       "gross_revenue    0\n",
       "recency          0\n",
       "frequency        0\n",
       "items            0\n",
       "products         0\n",
       "returns          0\n",
       "dtype: int64"
      ]
     },
     "execution_count": 30,
     "metadata": {},
     "output_type": "execute_result"
    }
   ],
   "source": [
    "df_ref = df_ref.dropna()\n",
    "df_ref.isna().sum()"
   ]
  },
  {
   "cell_type": "code",
   "execution_count": 31,
   "metadata": {},
   "outputs": [
    {
     "data": {
      "text/html": [
       "<div>\n",
       "<style scoped>\n",
       "    .dataframe tbody tr th:only-of-type {\n",
       "        vertical-align: middle;\n",
       "    }\n",
       "\n",
       "    .dataframe tbody tr th {\n",
       "        vertical-align: top;\n",
       "    }\n",
       "\n",
       "    .dataframe thead th {\n",
       "        text-align: right;\n",
       "    }\n",
       "</style>\n",
       "<table border=\"1\" class=\"dataframe\">\n",
       "  <thead>\n",
       "    <tr style=\"text-align: right;\">\n",
       "      <th></th>\n",
       "      <th>customer_id</th>\n",
       "      <th>gross_revenue</th>\n",
       "      <th>recency</th>\n",
       "      <th>frequency</th>\n",
       "      <th>items</th>\n",
       "      <th>products</th>\n",
       "      <th>returns</th>\n",
       "    </tr>\n",
       "  </thead>\n",
       "  <tbody>\n",
       "    <tr>\n",
       "      <th>0</th>\n",
       "      <td>17850</td>\n",
       "      <td>5391.21</td>\n",
       "      <td>373.0</td>\n",
       "      <td>34.0</td>\n",
       "      <td>1733.0</td>\n",
       "      <td>297.0</td>\n",
       "      <td>37.0</td>\n",
       "    </tr>\n",
       "    <tr>\n",
       "      <th>1</th>\n",
       "      <td>13047</td>\n",
       "      <td>3232.59</td>\n",
       "      <td>57.0</td>\n",
       "      <td>9.0</td>\n",
       "      <td>1390.0</td>\n",
       "      <td>171.0</td>\n",
       "      <td>35.0</td>\n",
       "    </tr>\n",
       "    <tr>\n",
       "      <th>2</th>\n",
       "      <td>12583</td>\n",
       "      <td>6705.38</td>\n",
       "      <td>3.0</td>\n",
       "      <td>15.0</td>\n",
       "      <td>5028.0</td>\n",
       "      <td>232.0</td>\n",
       "      <td>50.0</td>\n",
       "    </tr>\n",
       "    <tr>\n",
       "      <th>3</th>\n",
       "      <td>13748</td>\n",
       "      <td>948.25</td>\n",
       "      <td>96.0</td>\n",
       "      <td>5.0</td>\n",
       "      <td>439.0</td>\n",
       "      <td>28.0</td>\n",
       "      <td>0.0</td>\n",
       "    </tr>\n",
       "    <tr>\n",
       "      <th>4</th>\n",
       "      <td>15100</td>\n",
       "      <td>876.00</td>\n",
       "      <td>334.0</td>\n",
       "      <td>3.0</td>\n",
       "      <td>80.0</td>\n",
       "      <td>3.0</td>\n",
       "      <td>22.0</td>\n",
       "    </tr>\n",
       "  </tbody>\n",
       "</table>\n",
       "</div>"
      ],
      "text/plain": [
       "   customer_id  gross_revenue  recency  frequency   items  products  returns\n",
       "0        17850        5391.21    373.0       34.0  1733.0     297.0     37.0\n",
       "1        13047        3232.59     57.0        9.0  1390.0     171.0     35.0\n",
       "2        12583        6705.38      3.0       15.0  5028.0     232.0     50.0\n",
       "3        13748         948.25     96.0        5.0   439.0      28.0      0.0\n",
       "4        15100         876.00    334.0        3.0    80.0       3.0     22.0"
      ]
     },
     "execution_count": 31,
     "metadata": {},
     "output_type": "execute_result"
    }
   ],
   "source": [
    "df_ref.head()"
   ]
  },
  {
   "cell_type": "markdown",
   "metadata": {},
   "source": [
    "# 4.0 EDA (Exploratory Data Analysis)"
   ]
  },
  {
   "cell_type": "code",
   "execution_count": 32,
   "metadata": {},
   "outputs": [],
   "source": [
    "df4 = df_ref.copy()"
   ]
  },
  {
   "cell_type": "markdown",
   "metadata": {},
   "source": [
    "# 5.0 Feature Selection"
   ]
  },
  {
   "cell_type": "code",
   "execution_count": 33,
   "metadata": {},
   "outputs": [],
   "source": [
    "# selected dataset\n",
    "cols_selected = ['gross_revenue', 'recency', 'frequency', 'products', 'returns' ]\n",
    "df5 = df4[cols_selected].copy()"
   ]
  },
  {
   "cell_type": "markdown",
   "metadata": {},
   "source": [
    "# 6.0 Data Preparation"
   ]
  },
  {
   "cell_type": "code",
   "execution_count": 34,
   "metadata": {},
   "outputs": [],
   "source": [
    "df6 = df5.copy()"
   ]
  },
  {
   "cell_type": "code",
   "execution_count": 35,
   "metadata": {},
   "outputs": [],
   "source": [
    "s3_cli = boto3.client('s3')\n",
    "\n",
    "# file .pkl  S3\n",
    "keys = ['gross_revenue_scaler.pkl', 'recency_scaler.pkl', 'frequency_scaler.pkl', 'products_scaler.pkl', 'returns_scaler.pkl', 'umap_reducer.pkl', 'rf_model.pkl']\n",
    "\n",
    "# scaler\n",
    "scalers = {}\n",
    "for i in keys:\n",
    "    response = s3_cli.get_object(Bucket='insidersdb', Key=i)\n",
    "    scaler_data = response['Body'].read()\n",
    "    scalers[i] = pickle.loads(scaler_data)\n",
    "\n",
    "# transform \n",
    "df6['gross_revenue'] = scalers['gross_revenue_scaler.pkl'].transform(df6[['gross_revenue']])\n",
    "df6['recency'] = scalers['recency_scaler.pkl'].transform(df6[['recency']])\n",
    "df6['frequency'] = scalers['frequency_scaler.pkl'].transform(df6[['frequency']])\n",
    "df6['products'] = scalers['products_scaler.pkl'].transform(df6[['products']])\n",
    "df6['returns'] = scalers['returns_scaler.pkl'].transform(df6[['returns']])"
   ]
  },
  {
   "cell_type": "code",
   "execution_count": 36,
   "metadata": {},
   "outputs": [],
   "source": [
    "X = df6.copy()"
   ]
  },
  {
   "cell_type": "code",
   "execution_count": 37,
   "metadata": {},
   "outputs": [
    {
     "data": {
      "text/plain": [
       "{'gross_revenue_scaler.pkl': MinMaxScaler(),\n",
       " 'recency_scaler.pkl': MinMaxScaler(),\n",
       " 'frequency_scaler.pkl': MinMaxScaler(),\n",
       " 'products_scaler.pkl': MinMaxScaler(),\n",
       " 'returns_scaler.pkl': MinMaxScaler(),\n",
       " 'umap_reducer.pkl': UMAP(n_neighbors=100, random_state=42, tqdm_kwds={'bar_format': '{desc}: {percentage:3.0f}%| {bar} {n_fmt}/{total_fmt} [{elapsed}]', 'desc': 'Epochs completed', 'disable': True}),\n",
       " 'rf_model.pkl': RandomForestRegressor(min_samples_split=32, n_jobs=-1, random_state=42)}"
      ]
     },
     "execution_count": 37,
     "metadata": {},
     "output_type": "execute_result"
    }
   ],
   "source": [
    "scalers"
   ]
  },
  {
   "cell_type": "markdown",
   "metadata": {},
   "source": [
    "## 6.1 Dimensonality Reduction"
   ]
  },
  {
   "cell_type": "markdown",
   "metadata": {},
   "source": [
    "### 6.1.1 PCA"
   ]
  },
  {
   "cell_type": "code",
   "execution_count": 38,
   "metadata": {},
   "outputs": [],
   "source": [
    "# pca = dd.PCA( n_components=X.shape[1] )\n",
    "\n",
    "# principal_components = pca.fit_transform( X )\n",
    "\n",
    "# # plot explained variable\n",
    "# features = range( pca.n_components_ )\n",
    "\n",
    "# plt.bar( features, pca.explained_variance_ratio_, color='black' )\n",
    "\n",
    "# # pca component\n",
    "# df_pca = pd.DataFrame( principal_components )"
   ]
  },
  {
   "cell_type": "code",
   "execution_count": 39,
   "metadata": {},
   "outputs": [],
   "source": [
    "# sns.scatterplot( x=0, y=1, data=df_pca );"
   ]
  },
  {
   "cell_type": "markdown",
   "metadata": {},
   "source": [
    "### 6.1.2 UMAP"
   ]
  },
  {
   "cell_type": "code",
   "execution_count": 40,
   "metadata": {},
   "outputs": [],
   "source": [
    "# reducer = umap.UMAP( random_state=42 )\n",
    "# embedding = reducer.fit_transform( X )\n",
    "\n",
    "# # embedding\n",
    "# df_umap = pd.DataFrame()\n",
    "# df_umap['embedding_x'] = embedding[:, 0]\n",
    "# df_umap['embedding_y'] = embedding[:, 1]\n",
    "\n",
    "# # plot UMAP\n",
    "# sns.scatterplot( x='embedding_x', \n",
    "#                  y='embedding_y', \n",
    "#                  data=df_umap );"
   ]
  },
  {
   "cell_type": "markdown",
   "metadata": {},
   "source": [
    "### 6.1.3 - T-SNE"
   ]
  },
  {
   "cell_type": "code",
   "execution_count": 41,
   "metadata": {},
   "outputs": [],
   "source": [
    "# reducer = TSNE( n_components=2, n_jobs=-1, random_state=42 )\n",
    "# embedding = reducer.fit_transform( X )\n",
    "\n",
    "# # embedding\n",
    "# df_tsne = pd.DataFrame()\n",
    "# df_tsne['embedding_x'] = embedding[:, 0]\n",
    "# df_tsne['embedding_y'] = embedding[:, 1]\n",
    "\n",
    "# # plot UMAP\n",
    "# sns.scatterplot( x='embedding_x', \n",
    "#                  y='embedding_y', \n",
    "#                  data=df_tsne );"
   ]
  },
  {
   "cell_type": "markdown",
   "metadata": {},
   "source": [
    "### 6.1.4 Tree-based Embedding"
   ]
  },
  {
   "cell_type": "code",
   "execution_count": 42,
   "metadata": {},
   "outputs": [],
   "source": [
    "# training dataset\n",
    "X = df6.drop( columns=['gross_revenue'], axis=1 )\n",
    "\n",
    "# defining target\n",
    "y = df6['gross_revenue']\n",
    "\n",
    "# # model definition\n",
    "# rf_model = en.RandomForestRegressor( n_estimators=100, min_samples_split=32, n_jobs=-1, random_state=42 )\n",
    "\n",
    "# # model training\n",
    "# rf_model.fit( X, y )\n",
    "\n",
    "# download and charge model.pkl\n",
    "response = s3_cli.get_object(Bucket='insidersdb', Key='rf_model.pkl')\n",
    "scaler_data = response['Body'].read()\n",
    "rf_model = pickle.loads(scaler_data)\n",
    "\n",
    "# leafs\n",
    "df_leaf = pd.DataFrame( rf_model.apply( X ) )"
   ]
  },
  {
   "cell_type": "code",
   "execution_count": 43,
   "metadata": {},
   "outputs": [
    {
     "data": {
      "image/png": "[encoded data removed]",
      "text/plain": [
       "<Figure size 432x288 with 1 Axes>"
      ]
     },
     "metadata": {
      "needs_background": "light"
     },
     "output_type": "display_data"
    }
   ],
   "source": [
    "# reduce dimensionality\n",
    "# reducer = umap.UMAP( n_neighbors=100, random_state=42) \n",
    "# embedding = reducer.fit_transform( df_leaf )\n",
    "\n",
    "# download and charge model.pkl\n",
    "response = s3_cli.get_object(Bucket='insidersdb', Key='umap_reducer.pkl')\n",
    "scaler_data = response['Body'].read()\n",
    "reducer = pickle.loads(scaler_data)\n",
    "embedding = reducer.transform( df_leaf )\n",
    "\n",
    "# embedding\n",
    "df_tree = pd.DataFrame()\n",
    "df_tree['embedding_x'] = embedding[:, 0]\n",
    "df_tree['embedding_y'] = embedding[:, 1]\n",
    "\n",
    "# plot UMAP\n",
    "sns.scatterplot( x='embedding_x', y='embedding_y', data=df_tree );"
   ]
  },
  {
   "cell_type": "markdown",
   "metadata": {},
   "source": [
    "# 7.0  Hyperparameter Fine Tunning"
   ]
  },
  {
   "cell_type": "code",
   "execution_count": 44,
   "metadata": {},
   "outputs": [],
   "source": [
    "X = df_tree.copy()\n",
    "# X = df_umap.copy()\n",
    "# X = df_tsne.copy()"
   ]
  },
  {
   "cell_type": "code",
   "execution_count": 45,
   "metadata": {},
   "outputs": [],
   "source": [
    "# clusters = np.arange( 2, 16 ,1)"
   ]
  },
  {
   "cell_type": "markdown",
   "metadata": {},
   "source": [
    "## 7.1 Models"
   ]
  },
  {
   "cell_type": "code",
   "execution_count": 46,
   "metadata": {},
   "outputs": [],
   "source": [
    "# kmeans_list = []\n",
    "# gmm_list = []\n",
    "# hc_list = []\n",
    "\n",
    "# for k in clusters:\n",
    "    \n",
    "#     # kmeans\n",
    "#     kmeans_model = c.KMeans(n_clusters=k, n_init=100, random_state=42)\n",
    "#     kmeans_labels = kmeans_model.fit_predict(X)\n",
    "#     kmeans_sil = m.silhouette_score(X, kmeans_labels, metric='euclidean')\n",
    "#     kmeans_list.append(kmeans_sil)\n",
    "\n",
    "#     # GMM\n",
    "#     gmm_model = mx.GaussianMixture(n_components=k, n_init=10, random_state=42)\n",
    "#     gmm_labels = gmm_model.fit_predict(X)    \n",
    "#     gmm_sil = m.silhouette_score(X, gmm_labels, metric='euclidean')\n",
    "#     gmm_list.append(gmm_sil)\n",
    "\n",
    "#     # HC\n",
    "#     hc_model = hc.linkage( X, 'ward' )\n",
    "#     hc_labels = hc.fcluster( hc_model, k, criterion='maxclust' )\n",
    "#     hc_sil = m.silhouette_score(X, hc_labels, metric='euclidean')\n",
    "#     hc_list.append(hc_sil)     "
   ]
  },
  {
   "cell_type": "code",
   "execution_count": 47,
   "metadata": {},
   "outputs": [],
   "source": [
    "# dbs_list = []\n",
    "# eps = np.arange(1, 2.5, 0.11)\n",
    "\n",
    "# for k in eps:\n",
    "#     dbs_model = c.DBSCAN(eps=k, min_samples=20, metric='euclidean')\n",
    "#     dbs_labels = dbs_model.fit_predict(X)   \n",
    "#     dbs_sil = m.silhouette_score(X, dbs_labels, metric='euclidean')\n",
    "#     dbs_list.append(dbs_sil) "
   ]
  },
  {
   "cell_type": "code",
   "execution_count": 48,
   "metadata": {},
   "outputs": [],
   "source": [
    "# fig, axes = plt.subplots(1, 4, figsize=(20, 5))\n",
    "# fig.suptitle(\"Model Performance\\n\\n\", fontweight='bold', fontsize=18)\n",
    "\n",
    "# axes[0].plot(clusters, kmeans_list, linestyle='--', marker='o', color='b')\n",
    "# axes[0].set_title(\"Kmeans\", fontsize=13)\n",
    "# axes[0].set_ylabel('Silhouette Score', fontsize=14)\n",
    "# axes[0].set_xlabel('Number of Clusters (K)')\n",
    "\n",
    "# axes[1].plot(clusters, gmm_list, linestyle='--', marker='o', color='b')\n",
    "# axes[1].set_title(\"GMM\", fontsize=13)\n",
    "# axes[1].set_xlabel('Number of Clusters (K)')\n",
    "\n",
    "# axes[2].plot(clusters, hc_list, linestyle='--', marker='o', color='b')\n",
    "# axes[2].set_title(\"Hierarchical Clustering\", fontsize=13)\n",
    "# axes[2].set_xlabel('Number of Clusters (K)')\n",
    "\n",
    "# axes[3].plot(eps, dbs_list, linestyle='--', marker='o', color='b')\n",
    "# axes[3].set_title(\"DBScan\", fontsize=13)\n",
    "# axes[3].set_xlabel('EPS')\n",
    "\n",
    "# plt.show()"
   ]
  },
  {
   "cell_type": "markdown",
   "metadata": {},
   "source": [
    "## 7.2 Results"
   ]
  },
  {
   "cell_type": "code",
   "execution_count": 49,
   "metadata": {},
   "outputs": [],
   "source": [
    "# df_results = pd.DataFrame( {'KMeans': kmeans_list, \n",
    "#                             'GMM': gmm_list,\n",
    "#                             'HC': hc_list,\n",
    "#                             'DBSCAN': dbs_list }).T\n",
    "# df_results.columns = clusters\n",
    "# df_results.style.highlight_max( color='green', axis=1 )"
   ]
  },
  {
   "cell_type": "markdown",
   "metadata": {},
   "source": [
    "# 8.0  Model Training"
   ]
  },
  {
   "cell_type": "code",
   "execution_count": 50,
   "metadata": {},
   "outputs": [
    {
     "name": "stdout",
     "output_type": "stream",
     "text": [
      "SS value: 0.6894046664237976\n"
     ]
    }
   ],
   "source": [
    "dbs_model = c.DBSCAN(eps=1.3, min_samples=20, metric='euclidean')\n",
    "dbs_labels = dbs_model.fit_predict(X)   \n",
    "print( 'SS value: {}'.format( m.silhouette_score( X, dbs_labels, metric='euclidean' ) ) )"
   ]
  },
  {
   "cell_type": "markdown",
   "metadata": {},
   "source": [
    "# 9.0 Cluster Analysis"
   ]
  },
  {
   "cell_type": "code",
   "execution_count": 51,
   "metadata": {},
   "outputs": [
    {
     "data": {
      "text/html": [
       "<div>\n",
       "<style scoped>\n",
       "    .dataframe tbody tr th:only-of-type {\n",
       "        vertical-align: middle;\n",
       "    }\n",
       "\n",
       "    .dataframe tbody tr th {\n",
       "        vertical-align: top;\n",
       "    }\n",
       "\n",
       "    .dataframe thead th {\n",
       "        text-align: right;\n",
       "    }\n",
       "</style>\n",
       "<table border=\"1\" class=\"dataframe\">\n",
       "  <thead>\n",
       "    <tr style=\"text-align: right;\">\n",
       "      <th></th>\n",
       "      <th>embedding_x</th>\n",
       "      <th>embedding_y</th>\n",
       "      <th>cluster</th>\n",
       "    </tr>\n",
       "  </thead>\n",
       "  <tbody>\n",
       "    <tr>\n",
       "      <th>0</th>\n",
       "      <td>7.468872</td>\n",
       "      <td>24.347242</td>\n",
       "      <td>0</td>\n",
       "    </tr>\n",
       "    <tr>\n",
       "      <th>1</th>\n",
       "      <td>3.178928</td>\n",
       "      <td>11.180243</td>\n",
       "      <td>1</td>\n",
       "    </tr>\n",
       "    <tr>\n",
       "      <th>2</th>\n",
       "      <td>7.493805</td>\n",
       "      <td>22.881407</td>\n",
       "      <td>0</td>\n",
       "    </tr>\n",
       "    <tr>\n",
       "      <th>3</th>\n",
       "      <td>5.473876</td>\n",
       "      <td>1.241869</td>\n",
       "      <td>2</td>\n",
       "    </tr>\n",
       "    <tr>\n",
       "      <th>4</th>\n",
       "      <td>7.311502</td>\n",
       "      <td>-12.515188</td>\n",
       "      <td>3</td>\n",
       "    </tr>\n",
       "  </tbody>\n",
       "</table>\n",
       "</div>"
      ],
      "text/plain": [
       "   embedding_x  embedding_y  cluster\n",
       "0     7.468872    24.347242        0\n",
       "1     3.178928    11.180243        1\n",
       "2     7.493805    22.881407        0\n",
       "3     5.473876     1.241869        2\n",
       "4     7.311502   -12.515188        3"
      ]
     },
     "execution_count": 51,
     "metadata": {},
     "output_type": "execute_result"
    }
   ],
   "source": [
    "df9 = X.copy()\n",
    "df9['cluster'] = dbs_labels\n",
    "df9.head()"
   ]
  },
  {
   "cell_type": "markdown",
   "metadata": {},
   "source": [
    "## 9.1. Visualization Inspection"
   ]
  },
  {
   "cell_type": "code",
   "execution_count": 52,
   "metadata": {},
   "outputs": [
    {
     "data": {
      "image/png": "[encoded data removed]",
      "text/plain": [
       "<Figure size 432x288 with 1 Axes>"
      ]
     },
     "metadata": {
      "needs_background": "light"
     },
     "output_type": "display_data"
    }
   ],
   "source": [
    "sns.scatterplot( x='embedding_x', y='embedding_y', hue='cluster', data=df9, palette='deep');"
   ]
  },
  {
   "cell_type": "markdown",
   "metadata": {},
   "source": [
    "## 9.2 Cluster profile"
   ]
  },
  {
   "cell_type": "code",
   "execution_count": 53,
   "metadata": {},
   "outputs": [
    {
     "data": {
      "text/html": [
       "<div>\n",
       "<style scoped>\n",
       "    .dataframe tbody tr th:only-of-type {\n",
       "        vertical-align: middle;\n",
       "    }\n",
       "\n",
       "    .dataframe tbody tr th {\n",
       "        vertical-align: top;\n",
       "    }\n",
       "\n",
       "    .dataframe thead th {\n",
       "        text-align: right;\n",
       "    }\n",
       "</style>\n",
       "<table border=\"1\" class=\"dataframe\">\n",
       "  <thead>\n",
       "    <tr style=\"text-align: right;\">\n",
       "      <th></th>\n",
       "      <th>customer_id</th>\n",
       "      <th>gross_revenue</th>\n",
       "      <th>recency</th>\n",
       "      <th>frequency</th>\n",
       "      <th>items</th>\n",
       "      <th>products</th>\n",
       "      <th>returns</th>\n",
       "      <th>cluster</th>\n",
       "    </tr>\n",
       "  </thead>\n",
       "  <tbody>\n",
       "    <tr>\n",
       "      <th>0</th>\n",
       "      <td>17850</td>\n",
       "      <td>5391.21</td>\n",
       "      <td>373.0</td>\n",
       "      <td>34.0</td>\n",
       "      <td>1733.0</td>\n",
       "      <td>297.0</td>\n",
       "      <td>37.0</td>\n",
       "      <td>0</td>\n",
       "    </tr>\n",
       "    <tr>\n",
       "      <th>1</th>\n",
       "      <td>13047</td>\n",
       "      <td>3232.59</td>\n",
       "      <td>57.0</td>\n",
       "      <td>9.0</td>\n",
       "      <td>1390.0</td>\n",
       "      <td>171.0</td>\n",
       "      <td>35.0</td>\n",
       "      <td>1</td>\n",
       "    </tr>\n",
       "    <tr>\n",
       "      <th>2</th>\n",
       "      <td>12583</td>\n",
       "      <td>6705.38</td>\n",
       "      <td>3.0</td>\n",
       "      <td>15.0</td>\n",
       "      <td>5028.0</td>\n",
       "      <td>232.0</td>\n",
       "      <td>50.0</td>\n",
       "      <td>0</td>\n",
       "    </tr>\n",
       "    <tr>\n",
       "      <th>3</th>\n",
       "      <td>13748</td>\n",
       "      <td>948.25</td>\n",
       "      <td>96.0</td>\n",
       "      <td>5.0</td>\n",
       "      <td>439.0</td>\n",
       "      <td>28.0</td>\n",
       "      <td>0.0</td>\n",
       "      <td>2</td>\n",
       "    </tr>\n",
       "    <tr>\n",
       "      <th>4</th>\n",
       "      <td>15100</td>\n",
       "      <td>876.00</td>\n",
       "      <td>334.0</td>\n",
       "      <td>3.0</td>\n",
       "      <td>80.0</td>\n",
       "      <td>3.0</td>\n",
       "      <td>22.0</td>\n",
       "      <td>3</td>\n",
       "    </tr>\n",
       "  </tbody>\n",
       "</table>\n",
       "</div>"
      ],
      "text/plain": [
       "   customer_id  gross_revenue  recency  frequency   items  products  returns  \\\n",
       "0        17850        5391.21    373.0       34.0  1733.0     297.0     37.0   \n",
       "1        13047        3232.59     57.0        9.0  1390.0     171.0     35.0   \n",
       "2        12583        6705.38      3.0       15.0  5028.0     232.0     50.0   \n",
       "3        13748         948.25     96.0        5.0   439.0      28.0      0.0   \n",
       "4        15100         876.00    334.0        3.0    80.0       3.0     22.0   \n",
       "\n",
       "   cluster  \n",
       "0        0  \n",
       "1        1  \n",
       "2        0  \n",
       "3        2  \n",
       "4        3  "
      ]
     },
     "execution_count": 53,
     "metadata": {},
     "output_type": "execute_result"
    }
   ],
   "source": [
    "df92 = df4.copy()\n",
    "df92['cluster'] = dbs_labels\n",
    "df92.head()"
   ]
  },
  {
   "cell_type": "code",
   "execution_count": 54,
   "metadata": {},
   "outputs": [
    {
     "data": {
      "text/html": [
       "<div>\n",
       "<style scoped>\n",
       "    .dataframe tbody tr th:only-of-type {\n",
       "        vertical-align: middle;\n",
       "    }\n",
       "\n",
       "    .dataframe tbody tr th {\n",
       "        vertical-align: top;\n",
       "    }\n",
       "\n",
       "    .dataframe thead th {\n",
       "        text-align: right;\n",
       "    }\n",
       "</style>\n",
       "<table border=\"1\" class=\"dataframe\">\n",
       "  <thead>\n",
       "    <tr style=\"text-align: right;\">\n",
       "      <th></th>\n",
       "      <th>cluster</th>\n",
       "      <th>customer_id</th>\n",
       "      <th>gross_revenue</th>\n",
       "      <th>recency</th>\n",
       "      <th>frequency</th>\n",
       "      <th>items</th>\n",
       "      <th>products</th>\n",
       "      <th>returns</th>\n",
       "      <th>perc_customer</th>\n",
       "    </tr>\n",
       "  </thead>\n",
       "  <tbody>\n",
       "    <tr>\n",
       "      <th>0</th>\n",
       "      <td>0</td>\n",
       "      <td>332</td>\n",
       "      <td>12935.542500</td>\n",
       "      <td>16.123494</td>\n",
       "      <td>21.141566</td>\n",
       "      <td>7356.325301</td>\n",
       "      <td>412.237952</td>\n",
       "      <td>162.641566</td>\n",
       "      <td>7.688745</td>\n",
       "    </tr>\n",
       "    <tr>\n",
       "      <th>1</th>\n",
       "      <td>1</td>\n",
       "      <td>535</td>\n",
       "      <td>2867.133215</td>\n",
       "      <td>32.596262</td>\n",
       "      <td>7.413084</td>\n",
       "      <td>1751.364486</td>\n",
       "      <td>162.700935</td>\n",
       "      <td>42.600000</td>\n",
       "      <td>12.389995</td>\n",
       "    </tr>\n",
       "    <tr>\n",
       "      <th>2</th>\n",
       "      <td>2</td>\n",
       "      <td>238</td>\n",
       "      <td>1767.367731</td>\n",
       "      <td>42.651261</td>\n",
       "      <td>4.995798</td>\n",
       "      <td>1046.273109</td>\n",
       "      <td>109.432773</td>\n",
       "      <td>21.453782</td>\n",
       "      <td>5.511811</td>\n",
       "    </tr>\n",
       "    <tr>\n",
       "      <th>3</th>\n",
       "      <td>3</td>\n",
       "      <td>895</td>\n",
       "      <td>1282.074883</td>\n",
       "      <td>62.701676</td>\n",
       "      <td>3.437989</td>\n",
       "      <td>758.170950</td>\n",
       "      <td>77.044693</td>\n",
       "      <td>8.404469</td>\n",
       "      <td>20.727189</td>\n",
       "    </tr>\n",
       "    <tr>\n",
       "      <th>8</th>\n",
       "      <td>8</td>\n",
       "      <td>132</td>\n",
       "      <td>1239.300530</td>\n",
       "      <td>85.462121</td>\n",
       "      <td>1.787879</td>\n",
       "      <td>783.825758</td>\n",
       "      <td>115.045455</td>\n",
       "      <td>5.310606</td>\n",
       "      <td>3.056971</td>\n",
       "    </tr>\n",
       "    <tr>\n",
       "      <th>9</th>\n",
       "      <td>9</td>\n",
       "      <td>388</td>\n",
       "      <td>759.644381</td>\n",
       "      <td>85.556701</td>\n",
       "      <td>1.912371</td>\n",
       "      <td>463.987113</td>\n",
       "      <td>49.536082</td>\n",
       "      <td>6.912371</td>\n",
       "      <td>8.985642</td>\n",
       "    </tr>\n",
       "    <tr>\n",
       "      <th>7</th>\n",
       "      <td>7</td>\n",
       "      <td>274</td>\n",
       "      <td>505.135182</td>\n",
       "      <td>132.667883</td>\n",
       "      <td>1.000000</td>\n",
       "      <td>305.602190</td>\n",
       "      <td>42.777372</td>\n",
       "      <td>0.832117</td>\n",
       "      <td>6.345530</td>\n",
       "    </tr>\n",
       "    <tr>\n",
       "      <th>5</th>\n",
       "      <td>5</td>\n",
       "      <td>719</td>\n",
       "      <td>411.098345</td>\n",
       "      <td>138.488178</td>\n",
       "      <td>1.343533</td>\n",
       "      <td>257.237830</td>\n",
       "      <td>21.133519</td>\n",
       "      <td>4.566064</td>\n",
       "      <td>16.651227</td>\n",
       "    </tr>\n",
       "    <tr>\n",
       "      <th>10</th>\n",
       "      <td>10</td>\n",
       "      <td>121</td>\n",
       "      <td>376.061736</td>\n",
       "      <td>114.256198</td>\n",
       "      <td>2.000000</td>\n",
       "      <td>217.950413</td>\n",
       "      <td>7.512397</td>\n",
       "      <td>3.611570</td>\n",
       "      <td>2.802223</td>\n",
       "    </tr>\n",
       "    <tr>\n",
       "      <th>4</th>\n",
       "      <td>4</td>\n",
       "      <td>94</td>\n",
       "      <td>292.061702</td>\n",
       "      <td>173.723404</td>\n",
       "      <td>1.000000</td>\n",
       "      <td>186.212766</td>\n",
       "      <td>13.468085</td>\n",
       "      <td>1.053191</td>\n",
       "      <td>2.176934</td>\n",
       "    </tr>\n",
       "    <tr>\n",
       "      <th>6</th>\n",
       "      <td>6</td>\n",
       "      <td>590</td>\n",
       "      <td>216.870051</td>\n",
       "      <td>172.898305</td>\n",
       "      <td>1.000000</td>\n",
       "      <td>134.532203</td>\n",
       "      <td>6.510169</td>\n",
       "      <td>0.679661</td>\n",
       "      <td>13.663733</td>\n",
       "    </tr>\n",
       "  </tbody>\n",
       "</table>\n",
       "</div>"
      ],
      "text/plain": [
       "    cluster  customer_id  gross_revenue     recency  frequency        items  \\\n",
       "0         0          332   12935.542500   16.123494  21.141566  7356.325301   \n",
       "1         1          535    2867.133215   32.596262   7.413084  1751.364486   \n",
       "2         2          238    1767.367731   42.651261   4.995798  1046.273109   \n",
       "3         3          895    1282.074883   62.701676   3.437989   758.170950   \n",
       "8         8          132    1239.300530   85.462121   1.787879   783.825758   \n",
       "9         9          388     759.644381   85.556701   1.912371   463.987113   \n",
       "7         7          274     505.135182  132.667883   1.000000   305.602190   \n",
       "5         5          719     411.098345  138.488178   1.343533   257.237830   \n",
       "10       10          121     376.061736  114.256198   2.000000   217.950413   \n",
       "4         4           94     292.061702  173.723404   1.000000   186.212766   \n",
       "6         6          590     216.870051  172.898305   1.000000   134.532203   \n",
       "\n",
       "      products     returns  perc_customer  \n",
       "0   412.237952  162.641566       7.688745  \n",
       "1   162.700935   42.600000      12.389995  \n",
       "2   109.432773   21.453782       5.511811  \n",
       "3    77.044693    8.404469      20.727189  \n",
       "8   115.045455    5.310606       3.056971  \n",
       "9    49.536082    6.912371       8.985642  \n",
       "7    42.777372    0.832117       6.345530  \n",
       "5    21.133519    4.566064      16.651227  \n",
       "10    7.512397    3.611570       2.802223  \n",
       "4    13.468085    1.053191       2.176934  \n",
       "6     6.510169    0.679661      13.663733  "
      ]
     },
     "execution_count": 54,
     "metadata": {},
     "output_type": "execute_result"
    }
   ],
   "source": [
    "df_cluster = df92.groupby('cluster').agg({  'customer_id': 'count',\n",
    "                                            'gross_revenue': 'mean',\n",
    "                                            'recency': 'mean',\n",
    "                                            'frequency': 'mean',\n",
    "                                            'items': 'mean',\n",
    "                                            'products': 'mean',\n",
    "                                            'returns': 'mean'}).reset_index()\n",
    "\n",
    "df_cluster['perc_customer'] = 100 * (df_cluster['customer_id'] / df_cluster['customer_id'].sum())\n",
    "\n",
    "df_cluster = df_cluster.sort_values('gross_revenue', ascending=False)\n",
    "df_cluster"
   ]
  },
  {
   "cell_type": "code",
   "execution_count": 55,
   "metadata": {},
   "outputs": [
    {
     "data": {
      "text/html": [
       "<div>\n",
       "<style scoped>\n",
       "    .dataframe tbody tr th:only-of-type {\n",
       "        vertical-align: middle;\n",
       "    }\n",
       "\n",
       "    .dataframe tbody tr th {\n",
       "        vertical-align: top;\n",
       "    }\n",
       "\n",
       "    .dataframe thead th {\n",
       "        text-align: right;\n",
       "    }\n",
       "</style>\n",
       "<table border=\"1\" class=\"dataframe\">\n",
       "  <thead>\n",
       "    <tr style=\"text-align: right;\">\n",
       "      <th></th>\n",
       "      <th>cluster</th>\n",
       "      <th>customer_id</th>\n",
       "      <th>gross_revenue</th>\n",
       "      <th>recency</th>\n",
       "      <th>frequency</th>\n",
       "      <th>items</th>\n",
       "      <th>products</th>\n",
       "      <th>returns</th>\n",
       "      <th>perc_customer</th>\n",
       "    </tr>\n",
       "  </thead>\n",
       "  <tbody>\n",
       "    <tr>\n",
       "      <th>0</th>\n",
       "      <td>Insiders</td>\n",
       "      <td>332</td>\n",
       "      <td>12935.542500</td>\n",
       "      <td>16.123494</td>\n",
       "      <td>21.141566</td>\n",
       "      <td>7356.325301</td>\n",
       "      <td>412.237952</td>\n",
       "      <td>162.641566</td>\n",
       "      <td>7.688745</td>\n",
       "    </tr>\n",
       "    <tr>\n",
       "      <th>1</th>\n",
       "      <td>Loyal Customers</td>\n",
       "      <td>535</td>\n",
       "      <td>2867.133215</td>\n",
       "      <td>32.596262</td>\n",
       "      <td>7.413084</td>\n",
       "      <td>1751.364486</td>\n",
       "      <td>162.700935</td>\n",
       "      <td>42.600000</td>\n",
       "      <td>12.389995</td>\n",
       "    </tr>\n",
       "    <tr>\n",
       "      <th>2</th>\n",
       "      <td>Potentials</td>\n",
       "      <td>238</td>\n",
       "      <td>1767.367731</td>\n",
       "      <td>42.651261</td>\n",
       "      <td>4.995798</td>\n",
       "      <td>1046.273109</td>\n",
       "      <td>109.432773</td>\n",
       "      <td>21.453782</td>\n",
       "      <td>5.511811</td>\n",
       "    </tr>\n",
       "    <tr>\n",
       "      <th>3</th>\n",
       "      <td>Promising</td>\n",
       "      <td>895</td>\n",
       "      <td>1282.074883</td>\n",
       "      <td>62.701676</td>\n",
       "      <td>3.437989</td>\n",
       "      <td>758.170950</td>\n",
       "      <td>77.044693</td>\n",
       "      <td>8.404469</td>\n",
       "      <td>20.727189</td>\n",
       "    </tr>\n",
       "    <tr>\n",
       "      <th>8</th>\n",
       "      <td>Regular</td>\n",
       "      <td>132</td>\n",
       "      <td>1239.300530</td>\n",
       "      <td>85.462121</td>\n",
       "      <td>1.787879</td>\n",
       "      <td>783.825758</td>\n",
       "      <td>115.045455</td>\n",
       "      <td>5.310606</td>\n",
       "      <td>3.056971</td>\n",
       "    </tr>\n",
       "    <tr>\n",
       "      <th>9</th>\n",
       "      <td>Need Attention</td>\n",
       "      <td>388</td>\n",
       "      <td>759.644381</td>\n",
       "      <td>85.556701</td>\n",
       "      <td>1.912371</td>\n",
       "      <td>463.987113</td>\n",
       "      <td>49.536082</td>\n",
       "      <td>6.912371</td>\n",
       "      <td>8.985642</td>\n",
       "    </tr>\n",
       "    <tr>\n",
       "      <th>7</th>\n",
       "      <td>At Risk</td>\n",
       "      <td>274</td>\n",
       "      <td>505.135182</td>\n",
       "      <td>132.667883</td>\n",
       "      <td>1.000000</td>\n",
       "      <td>305.602190</td>\n",
       "      <td>42.777372</td>\n",
       "      <td>0.832117</td>\n",
       "      <td>6.345530</td>\n",
       "    </tr>\n",
       "    <tr>\n",
       "      <th>5</th>\n",
       "      <td>Sleeping</td>\n",
       "      <td>719</td>\n",
       "      <td>411.098345</td>\n",
       "      <td>138.488178</td>\n",
       "      <td>1.343533</td>\n",
       "      <td>257.237830</td>\n",
       "      <td>21.133519</td>\n",
       "      <td>4.566064</td>\n",
       "      <td>16.651227</td>\n",
       "    </tr>\n",
       "    <tr>\n",
       "      <th>10</th>\n",
       "      <td>Hibernating</td>\n",
       "      <td>121</td>\n",
       "      <td>376.061736</td>\n",
       "      <td>114.256198</td>\n",
       "      <td>2.000000</td>\n",
       "      <td>217.950413</td>\n",
       "      <td>7.512397</td>\n",
       "      <td>3.611570</td>\n",
       "      <td>2.802223</td>\n",
       "    </tr>\n",
       "    <tr>\n",
       "      <th>4</th>\n",
       "      <td>About to lose</td>\n",
       "      <td>94</td>\n",
       "      <td>292.061702</td>\n",
       "      <td>173.723404</td>\n",
       "      <td>1.000000</td>\n",
       "      <td>186.212766</td>\n",
       "      <td>13.468085</td>\n",
       "      <td>1.053191</td>\n",
       "      <td>2.176934</td>\n",
       "    </tr>\n",
       "    <tr>\n",
       "      <th>6</th>\n",
       "      <td>Losing</td>\n",
       "      <td>590</td>\n",
       "      <td>216.870051</td>\n",
       "      <td>172.898305</td>\n",
       "      <td>1.000000</td>\n",
       "      <td>134.532203</td>\n",
       "      <td>6.510169</td>\n",
       "      <td>0.679661</td>\n",
       "      <td>13.663733</td>\n",
       "    </tr>\n",
       "  </tbody>\n",
       "</table>\n",
       "</div>"
      ],
      "text/plain": [
       "            cluster  customer_id  gross_revenue     recency  frequency  \\\n",
       "0          Insiders          332   12935.542500   16.123494  21.141566   \n",
       "1   Loyal Customers          535    2867.133215   32.596262   7.413084   \n",
       "2        Potentials          238    1767.367731   42.651261   4.995798   \n",
       "3         Promising          895    1282.074883   62.701676   3.437989   \n",
       "8           Regular          132    1239.300530   85.462121   1.787879   \n",
       "9    Need Attention          388     759.644381   85.556701   1.912371   \n",
       "7           At Risk          274     505.135182  132.667883   1.000000   \n",
       "5          Sleeping          719     411.098345  138.488178   1.343533   \n",
       "10      Hibernating          121     376.061736  114.256198   2.000000   \n",
       "4     About to lose           94     292.061702  173.723404   1.000000   \n",
       "6            Losing          590     216.870051  172.898305   1.000000   \n",
       "\n",
       "          items    products     returns  perc_customer  \n",
       "0   7356.325301  412.237952  162.641566       7.688745  \n",
       "1   1751.364486  162.700935   42.600000      12.389995  \n",
       "2   1046.273109  109.432773   21.453782       5.511811  \n",
       "3    758.170950   77.044693    8.404469      20.727189  \n",
       "8    783.825758  115.045455    5.310606       3.056971  \n",
       "9    463.987113   49.536082    6.912371       8.985642  \n",
       "7    305.602190   42.777372    0.832117       6.345530  \n",
       "5    257.237830   21.133519    4.566064      16.651227  \n",
       "10   217.950413    7.512397    3.611570       2.802223  \n",
       "4    186.212766   13.468085    1.053191       2.176934  \n",
       "6    134.532203    6.510169    0.679661      13.663733  "
      ]
     },
     "execution_count": 55,
     "metadata": {},
     "output_type": "execute_result"
    }
   ],
   "source": [
    "# rename clusters\n",
    "df_cluster['cluster'] = df_cluster['cluster'].apply(cluster_label)\n",
    "df_cluster.sort_values('gross_revenue', ascending=False)"
   ]
  },
  {
   "cell_type": "markdown",
   "metadata": {},
   "source": [
    "# 10.0 Deploy - Postgres Database on AWS"
   ]
  },
  {
   "cell_type": "code",
   "execution_count": 126,
   "metadata": {},
   "outputs": [
    {
     "data": {
      "text/plain": [
       "customer_id        int64\n",
       "gross_revenue    float64\n",
       "recency          float64\n",
       "frequency        float64\n",
       "items            float64\n",
       "products         float64\n",
       "returns          float64\n",
       "cluster            int64\n",
       "dtype: object"
      ]
     },
     "execution_count": 126,
     "metadata": {},
     "output_type": "execute_result"
    }
   ],
   "source": [
    "df92.dtypes"
   ]
  },
  {
   "cell_type": "code",
   "execution_count": 127,
   "metadata": {},
   "outputs": [],
   "source": [
    "df92['recency'] = df92['recency'].astype( 'int64' )\n",
    "df92['frequency'] = df92['frequency'].astype( 'int64' )\n",
    "df92['items'] = df92['items'].astype( 'int64' )\n",
    "df92['products'] = df92['products'].astype( 'int64' )\n",
    "df92['returns'] = df92['returns'].astype( 'int64' )"
   ]
  },
  {
   "cell_type": "code",
   "execution_count": 128,
   "metadata": {},
   "outputs": [],
   "source": [
    "host = os.environ.get('POSTGRES_HOST')\n",
    "port = os.environ.get('POSTGRES_PORT')\n",
    "database = os.environ.get('POSTGRES_DATABASE')\n",
    "user = os.environ.get('POSTGRES_USER')\n",
    "pwd = os.environ.get('POSTGRES_PWD')"
   ]
  },
  {
   "cell_type": "code",
   "execution_count": null,
   "metadata": {},
   "outputs": [],
   "source": [
    "endpoint= f'postgresql://{user}:{pwd}@{host}:{port}/{database}'\n",
    "        \n",
    "db = create_engine(endpoint,  poolclass=NullPool)\n",
    "conn = db.connect()"
   ]
  },
  {
   "cell_type": "code",
   "execution_count": null,
   "metadata": {},
   "outputs": [],
   "source": [
    "# # insert into table\n",
    "# host = 'sqlite:///../src/sqlite/insiders_db.sqlite'\n",
    "# conn = create_engine( host )"
   ]
  },
  {
   "cell_type": "code",
   "execution_count": null,
   "metadata": {},
   "outputs": [],
   "source": [
    "# query_create = \"\"\"\n",
    "\n",
    "#         CREATE TABLE insiders (\n",
    "#             customer_id     INTEGER,\n",
    "#             gross_revenue   REAL,\n",
    "#             recency         INTEGER,\n",
    "#             frequency       INTEGER,\n",
    "#             items           INTEGER,\n",
    "#             products        INTEGER,\n",
    "#             returns         INTEGER,\n",
    "#             cluster         INTEGER\n",
    "#         )\n",
    "\n",
    "# \"\"\"\n",
    "# conn.execute (query_create)"
   ]
  },
  {
   "cell_type": "code",
   "execution_count": null,
   "metadata": {},
   "outputs": [],
   "source": [
    "# database connection\n",
    "# conn = create_engine(\"sqlite:///../src/sqlite/insiders_db.sqlite\")\n",
    "\n",
    "# drop table\n",
    "# query_drop = \"\"\"\n",
    "#         DROP TABLE insiders\n",
    "\n",
    "# \"\"\"\n",
    "\n",
    "# create table\n",
    "# query_create = \"\"\"\n",
    "\n",
    "#         CREATE TABLE insiders (\n",
    "#             customer_id     INTEGER,\n",
    "#             gross_revenue   REAL,\n",
    "#             recency         INTEGER,\n",
    "#             frequency       INTEGER,\n",
    "#             items           INTEGER,\n",
    "#             products        INTEGER,\n",
    "#             returns         INTEGER,\n",
    "#             cluster         INTEGER\n",
    "#         )\n",
    "\n",
    "# \"\"\"\n",
    "\n",
    "# conn.execute(query_create)"
   ]
  },
  {
   "cell_type": "code",
   "execution_count": null,
   "metadata": {},
   "outputs": [],
   "source": [
    "df92.to_sql('insiders', con=conn, if_exists='append', index=False)"
   ]
  },
  {
   "cell_type": "code",
   "execution_count": null,
   "metadata": {},
   "outputs": [],
   "source": [
    "query = \"\"\"\n",
    "        SELECT * FROM insiders\n",
    "\"\"\"\n",
    "df = pd.read_sql_query(query, conn)\n",
    "df.head()"
   ]
  },
  {
   "cell_type": "code",
   "execution_count": null,
   "metadata": {},
   "outputs": [],
   "source": [
    "conn.close()"
   ]
  }
 ],
 "metadata": {
  "kernelspec": {
   "display_name": "env1",
   "language": "python",
   "name": "python3"
  },
  "language_info": {
   "codemirror_mode": {
    "name": "ipython",
    "version": 3
   },
   "file_extension": ".py",
   "mimetype": "text/x-python",
   "name": "python",
   "nbconvert_exporter": "python",
   "pygments_lexer": "ipython3",
   "version": "3.10.4"
  },
  "orig_nbformat": 4
 },
 "nbformat": 4,
 "nbformat_minor": 2
}
