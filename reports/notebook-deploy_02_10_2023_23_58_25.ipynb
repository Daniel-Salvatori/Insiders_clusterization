{
 "cells": [
  {
   "cell_type": "markdown",
   "id": "fdae416a",
   "metadata": {
    "tags": [
     "papermill-error-cell-tag"
    ]
   },
   "source": [
    "<span style=\"color:red; font-family:Helvetica Neue, Helvetica, Arial, sans-serif; font-size:2em;\">An Exception was encountered at '<a href=\"#papermill-error-cell\">In [53]</a>'.</span>"
   ]
  },
  {
   "cell_type": "markdown",
   "id": "9ad87b0a",
   "metadata": {
    "papermill": {
     "duration": 0.0,
     "end_time": "2023-10-03T02:58:27.958985",
     "exception": false,
     "start_time": "2023-10-03T02:58:27.958985",
     "status": "completed"
    },
    "tags": []
   },
   "source": [
    "# <div style=\"color:white;display:fill;border-radius:5px;background-color:#2F4F4F;letter-spacing:0.5px;overflow:hidden\\\"><p style=\"padding:20px;color:white;overflow:hidden;text-align: center;margin:0;font-size:120%\\\">Deploy</h1></div>"
   ]
  },
  {
   "cell_type": "markdown",
   "id": "f199e77c",
   "metadata": {
    "papermill": {
     "duration": 0.0,
     "end_time": "2023-10-03T02:58:27.974602",
     "exception": false,
     "start_time": "2023-10-03T02:58:27.974602",
     "status": "completed"
    },
    "tags": []
   },
   "source": [
    "# 0.0 Imports"
   ]
  },
  {
   "cell_type": "code",
   "execution_count": 1,
   "id": "9788e83f",
   "metadata": {
    "execution": {
     "iopub.execute_input": "2023-10-03T02:58:27.990233Z",
     "iopub.status.busy": "2023-10-03T02:58:27.990233Z",
     "iopub.status.idle": "2023-10-03T02:58:33.104277Z",
     "shell.execute_reply": "2023-10-03T02:58:33.104277Z"
    },
    "papermill": {
     "duration": 5.114044,
     "end_time": "2023-10-03T02:58:33.104277",
     "exception": false,
     "start_time": "2023-10-03T02:58:27.990233",
     "status": "completed"
    },
    "tags": []
   },
   "outputs": [],
   "source": [
    "import re\n",
    "import inflection\n",
    "import numpy   as np\n",
    "import pandas  as pd\n",
    "import datetime as dt\n",
    "import seaborn as sns\n",
    "import umap.umap_ as umap\n",
    "import matplotlib.cm as cm\n",
    "from matplotlib import pyplot as plt\n",
    "from sklearn import cluster as c\n",
    "from sklearn import metrics as m\n",
    "from sklearn import preprocessing as pp\n",
    "from sklearn import decomposition as dd\n",
    "from sklearn.manifold import TSNE\n",
    "from sklearn import ensemble as en\n",
    "from sklearn import mixture  as mx\n",
    "import scipy.cluster.hierarchy as hc\n"
   ]
  },
  {
   "cell_type": "markdown",
   "id": "b5294dcf",
   "metadata": {
    "papermill": {
     "duration": 0.0,
     "end_time": "2023-10-03T02:58:33.119889",
     "exception": false,
     "start_time": "2023-10-03T02:58:33.119889",
     "status": "completed"
    },
    "tags": []
   },
   "source": [
    "## 0.1 Helper Functions"
   ]
  },
  {
   "cell_type": "code",
   "execution_count": 2,
   "id": "1241b538",
   "metadata": {
    "execution": {
     "iopub.execute_input": "2023-10-03T02:58:33.166767Z",
     "iopub.status.busy": "2023-10-03T02:58:33.166767Z",
     "iopub.status.idle": "2023-10-03T02:58:33.182505Z",
     "shell.execute_reply": "2023-10-03T02:58:33.182505Z"
    },
    "papermill": {
     "duration": 0.04698,
     "end_time": "2023-10-03T02:58:33.182505",
     "exception": false,
     "start_time": "2023-10-03T02:58:33.135525",
     "status": "completed"
    },
    "tags": []
   },
   "outputs": [],
   "source": [
    "def numerical_metrics(num_attributes):\n",
    "    #ct = central tendency\n",
    "    ct_mean = pd.DataFrame(num_attributes.apply(np.mean)).T\n",
    "    ct_median = pd.DataFrame(num_attributes.apply(np.median)).T\n",
    "\n",
    "    #d = dispersion\n",
    "    d_std = pd.DataFrame(num_attributes.apply(np.std)).T\n",
    "    d_min = pd.DataFrame(num_attributes.apply(min)).T\n",
    "    d_max = pd.DataFrame(num_attributes.apply(max)).T\n",
    "    d_range = pd.DataFrame(num_attributes.apply(lambda x: x.max() - x.min())).T\n",
    "    d_skew = pd.DataFrame(num_attributes.apply(lambda x: x.skew())).T\n",
    "    d_kurtosis = pd.DataFrame(num_attributes.apply(lambda x: x.kurtosis())).T\n",
    "\n",
    "    #concat\n",
    "    num_desc = pd.concat([d_min,d_max,d_range,ct_mean,ct_median,d_std,d_skew,d_kurtosis]).T.reset_index()\n",
    "    num_desc.columns=['attributes','min','max','range','mean','median','std','skew','kurtosis']\n",
    "\n",
    "    return num_desc\n",
    "\n",
    "def cluster_label(x):\n",
    "    cluster_labels = {\n",
    "        0: 'Insiders',\n",
    "        1: 'Loyal Customers',\n",
    "        2: 'Potentials',\n",
    "        3: 'Promising',\n",
    "        8: 'Regular',\n",
    "        9: 'Need Attention',\n",
    "        7: 'At Risk',\n",
    "        5: 'Sleeping',\n",
    "        10: 'Hibernating',\n",
    "        4: 'About to lose',\n",
    "        6: 'Losing'\n",
    "    }\n",
    "    return cluster_labels.get(x)"
   ]
  },
  {
   "cell_type": "markdown",
   "id": "75fa4e01",
   "metadata": {
    "papermill": {
     "duration": 0.0,
     "end_time": "2023-10-03T02:58:33.198083",
     "exception": false,
     "start_time": "2023-10-03T02:58:33.198083",
     "status": "completed"
    },
    "tags": []
   },
   "source": [
    "## 0.2 Loading Data"
   ]
  },
  {
   "cell_type": "code",
   "execution_count": 3,
   "id": "316ce106",
   "metadata": {
    "execution": {
     "iopub.execute_input": "2023-10-03T02:58:33.229266Z",
     "iopub.status.busy": "2023-10-03T02:58:33.229266Z",
     "iopub.status.idle": "2023-10-03T02:58:33.635631Z",
     "shell.execute_reply": "2023-10-03T02:58:33.635631Z"
    },
    "papermill": {
     "duration": 0.421921,
     "end_time": "2023-10-03T02:58:33.635631",
     "exception": false,
     "start_time": "2023-10-03T02:58:33.213710",
     "status": "completed"
    },
    "tags": []
   },
   "outputs": [],
   "source": [
    "# load data\n",
    "df_raw = pd.read_csv( '../data/Ecommerce.csv', encoding= 'unicode_escape' )"
   ]
  },
  {
   "cell_type": "markdown",
   "id": "1f89ac7f",
   "metadata": {
    "papermill": {
     "duration": 0.015569,
     "end_time": "2023-10-03T02:58:33.666778",
     "exception": false,
     "start_time": "2023-10-03T02:58:33.651209",
     "status": "completed"
    },
    "tags": []
   },
   "source": [
    "# 1.0 Data Description"
   ]
  },
  {
   "cell_type": "markdown",
   "id": "dc690032",
   "metadata": {
    "papermill": {
     "duration": 0.015613,
     "end_time": "2023-10-03T02:58:33.682391",
     "exception": false,
     "start_time": "2023-10-03T02:58:33.666778",
     "status": "completed"
    },
    "tags": []
   },
   "source": [
    "## 1.1 Rename Columns"
   ]
  },
  {
   "cell_type": "code",
   "execution_count": 4,
   "id": "c1309391",
   "metadata": {
    "execution": {
     "iopub.execute_input": "2023-10-03T02:58:33.713696Z",
     "iopub.status.busy": "2023-10-03T02:58:33.713696Z",
     "iopub.status.idle": "2023-10-03T02:58:33.729377Z",
     "shell.execute_reply": "2023-10-03T02:58:33.729377Z"
    },
    "papermill": {
     "duration": 0.031299,
     "end_time": "2023-10-03T02:58:33.729377",
     "exception": false,
     "start_time": "2023-10-03T02:58:33.698078",
     "status": "completed"
    },
    "tags": []
   },
   "outputs": [],
   "source": [
    "df1 = df_raw.copy()"
   ]
  },
  {
   "cell_type": "code",
   "execution_count": 5,
   "id": "f307f727",
   "metadata": {
    "execution": {
     "iopub.execute_input": "2023-10-03T02:58:33.744963Z",
     "iopub.status.busy": "2023-10-03T02:58:33.744963Z",
     "iopub.status.idle": "2023-10-03T02:58:33.760642Z",
     "shell.execute_reply": "2023-10-03T02:58:33.760642Z"
    },
    "papermill": {
     "duration": 0.031265,
     "end_time": "2023-10-03T02:58:33.760642",
     "exception": false,
     "start_time": "2023-10-03T02:58:33.729377",
     "status": "completed"
    },
    "tags": []
   },
   "outputs": [],
   "source": [
    "snakecase = lambda x: inflection.underscore(x)\n",
    "cols_new = list(map(snakecase, df1.columns))\n",
    "df1.columns = cols_new"
   ]
  },
  {
   "cell_type": "markdown",
   "id": "e31d3214",
   "metadata": {
    "papermill": {
     "duration": 0.015581,
     "end_time": "2023-10-03T02:58:33.776223",
     "exception": false,
     "start_time": "2023-10-03T02:58:33.760642",
     "status": "completed"
    },
    "tags": []
   },
   "source": [
    "## 1.2 Data Dimension"
   ]
  },
  {
   "cell_type": "code",
   "execution_count": 6,
   "id": "3f56e02c",
   "metadata": {
    "execution": {
     "iopub.execute_input": "2023-10-03T02:58:33.791832Z",
     "iopub.status.busy": "2023-10-03T02:58:33.791832Z",
     "iopub.status.idle": "2023-10-03T02:58:33.807509Z",
     "shell.execute_reply": "2023-10-03T02:58:33.807509Z"
    },
    "papermill": {
     "duration": 0.031286,
     "end_time": "2023-10-03T02:58:33.807509",
     "exception": false,
     "start_time": "2023-10-03T02:58:33.776223",
     "status": "completed"
    },
    "tags": []
   },
   "outputs": [
    {
     "name": "stdout",
     "output_type": "stream",
     "text": [
      "Number of Rows: 541909\n",
      "Number of Columns: 9\n"
     ]
    }
   ],
   "source": [
    "print( 'Number of Rows: {}'.format( df1.shape[0] ) )\n",
    "print( 'Number of Columns: {}'.format( df1.shape[1] ) )"
   ]
  },
  {
   "cell_type": "markdown",
   "id": "569615cd",
   "metadata": {
    "papermill": {
     "duration": 0.015574,
     "end_time": "2023-10-03T02:58:33.823083",
     "exception": false,
     "start_time": "2023-10-03T02:58:33.807509",
     "status": "completed"
    },
    "tags": []
   },
   "source": [
    "## 1.3 Check NA"
   ]
  },
  {
   "cell_type": "code",
   "execution_count": 7,
   "id": "4e55c9c7",
   "metadata": {
    "execution": {
     "iopub.execute_input": "2023-10-03T02:58:33.838647Z",
     "iopub.status.busy": "2023-10-03T02:58:33.838647Z",
     "iopub.status.idle": "2023-10-03T02:58:34.323129Z",
     "shell.execute_reply": "2023-10-03T02:58:34.323129Z"
    },
    "papermill": {
     "duration": 0.500046,
     "end_time": "2023-10-03T02:58:34.323129",
     "exception": false,
     "start_time": "2023-10-03T02:58:33.823083",
     "status": "completed"
    },
    "tags": []
   },
   "outputs": [
    {
     "data": {
      "text/html": [
       "<div>\n",
       "<style scoped>\n",
       "    .dataframe tbody tr th:only-of-type {\n",
       "        vertical-align: middle;\n",
       "    }\n",
       "\n",
       "    .dataframe tbody tr th {\n",
       "        vertical-align: top;\n",
       "    }\n",
       "\n",
       "    .dataframe thead th {\n",
       "        text-align: right;\n",
       "    }\n",
       "</style>\n",
       "<table border=\"1\" class=\"dataframe\">\n",
       "  <thead>\n",
       "    <tr style=\"text-align: right;\">\n",
       "      <th></th>\n",
       "      <th>NA Count</th>\n",
       "      <th>% NA</th>\n",
       "    </tr>\n",
       "  </thead>\n",
       "  <tbody>\n",
       "    <tr>\n",
       "      <th>invoice_no</th>\n",
       "      <td>0</td>\n",
       "      <td>0.000000</td>\n",
       "    </tr>\n",
       "    <tr>\n",
       "      <th>stock_code</th>\n",
       "      <td>0</td>\n",
       "      <td>0.000000</td>\n",
       "    </tr>\n",
       "    <tr>\n",
       "      <th>description</th>\n",
       "      <td>1454</td>\n",
       "      <td>0.268311</td>\n",
       "    </tr>\n",
       "    <tr>\n",
       "      <th>quantity</th>\n",
       "      <td>0</td>\n",
       "      <td>0.000000</td>\n",
       "    </tr>\n",
       "    <tr>\n",
       "      <th>invoice_date</th>\n",
       "      <td>0</td>\n",
       "      <td>0.000000</td>\n",
       "    </tr>\n",
       "    <tr>\n",
       "      <th>unit_price</th>\n",
       "      <td>0</td>\n",
       "      <td>0.000000</td>\n",
       "    </tr>\n",
       "    <tr>\n",
       "      <th>customer_id</th>\n",
       "      <td>135080</td>\n",
       "      <td>24.926694</td>\n",
       "    </tr>\n",
       "    <tr>\n",
       "      <th>country</th>\n",
       "      <td>0</td>\n",
       "      <td>0.000000</td>\n",
       "    </tr>\n",
       "    <tr>\n",
       "      <th>unnamed: 8</th>\n",
       "      <td>541909</td>\n",
       "      <td>100.000000</td>\n",
       "    </tr>\n",
       "  </tbody>\n",
       "</table>\n",
       "</div>"
      ],
      "text/plain": [
       "              NA Count        % NA\n",
       "invoice_no           0    0.000000\n",
       "stock_code           0    0.000000\n",
       "description       1454    0.268311\n",
       "quantity             0    0.000000\n",
       "invoice_date         0    0.000000\n",
       "unit_price           0    0.000000\n",
       "customer_id     135080   24.926694\n",
       "country              0    0.000000\n",
       "unnamed: 8      541909  100.000000"
      ]
     },
     "execution_count": 7,
     "metadata": {},
     "output_type": "execute_result"
    }
   ],
   "source": [
    "null_values = pd.DataFrame({'NA Count' : df1.isna().sum(), '% NA' : (df1.isna().sum()) / (df1.shape[0]) * (100)})\n",
    "null_values"
   ]
  },
  {
   "cell_type": "markdown",
   "id": "ad260a7c",
   "metadata": {
    "papermill": {
     "duration": 0.015585,
     "end_time": "2023-10-03T02:58:34.338714",
     "exception": false,
     "start_time": "2023-10-03T02:58:34.323129",
     "status": "completed"
    },
    "tags": []
   },
   "source": [
    "## 1.4 Fillout NA"
   ]
  },
  {
   "cell_type": "code",
   "execution_count": 8,
   "id": "d550d745",
   "metadata": {
    "execution": {
     "iopub.execute_input": "2023-10-03T02:58:34.369961Z",
     "iopub.status.busy": "2023-10-03T02:58:34.369961Z",
     "iopub.status.idle": "2023-10-03T02:58:34.432460Z",
     "shell.execute_reply": "2023-10-03T02:58:34.432460Z"
    },
    "papermill": {
     "duration": 0.078121,
     "end_time": "2023-10-03T02:58:34.432460",
     "exception": false,
     "start_time": "2023-10-03T02:58:34.354339",
     "status": "completed"
    },
    "tags": []
   },
   "outputs": [
    {
     "name": "stdout",
     "output_type": "stream",
     "text": [
      "Removed data: 0.25%\n"
     ]
    }
   ],
   "source": [
    "# drop NA column\n",
    "df1 = df1.drop('unnamed: 8', axis=1)\n",
    "\n",
    "# remove NA\n",
    "df1 = df1.dropna( subset=['customer_id'] )\n",
    "\n",
    "print( 'Removed data: {:.2f}%'.format( 1 - (df1.shape[0] / df_raw.shape[0]) ) )"
   ]
  },
  {
   "cell_type": "markdown",
   "id": "42feb9ad",
   "metadata": {
    "papermill": {
     "duration": 0.015624,
     "end_time": "2023-10-03T02:58:34.448084",
     "exception": false,
     "start_time": "2023-10-03T02:58:34.432460",
     "status": "completed"
    },
    "tags": []
   },
   "source": [
    "## 1.5 Change dtypes"
   ]
  },
  {
   "cell_type": "code",
   "execution_count": 9,
   "id": "5c2a4726",
   "metadata": {
    "execution": {
     "iopub.execute_input": "2023-10-03T02:58:34.463702Z",
     "iopub.status.busy": "2023-10-03T02:58:34.463702Z",
     "iopub.status.idle": "2023-10-03T02:58:34.495011Z",
     "shell.execute_reply": "2023-10-03T02:58:34.495011Z"
    },
    "papermill": {
     "duration": 0.031309,
     "end_time": "2023-10-03T02:58:34.495011",
     "exception": false,
     "start_time": "2023-10-03T02:58:34.463702",
     "status": "completed"
    },
    "tags": []
   },
   "outputs": [
    {
     "data": {
      "text/plain": [
       "invoice_no       object\n",
       "stock_code       object\n",
       "description      object\n",
       "quantity          int64\n",
       "invoice_date     object\n",
       "unit_price      float64\n",
       "customer_id     float64\n",
       "country          object\n",
       "dtype: object"
      ]
     },
     "execution_count": 9,
     "metadata": {},
     "output_type": "execute_result"
    }
   ],
   "source": [
    "df1.dtypes"
   ]
  },
  {
   "cell_type": "code",
   "execution_count": 10,
   "id": "cf93ed38",
   "metadata": {
    "execution": {
     "iopub.execute_input": "2023-10-03T02:58:34.526205Z",
     "iopub.status.busy": "2023-10-03T02:58:34.526205Z",
     "iopub.status.idle": "2023-10-03T02:58:34.588755Z",
     "shell.execute_reply": "2023-10-03T02:58:34.588755Z"
    },
    "papermill": {
     "duration": 0.078166,
     "end_time": "2023-10-03T02:58:34.588755",
     "exception": false,
     "start_time": "2023-10-03T02:58:34.510589",
     "status": "completed"
    },
    "tags": []
   },
   "outputs": [],
   "source": [
    "# invoice_date\n",
    "df1['invoice_date'] = pd.to_datetime( df1['invoice_date'], format='%d-%b-%y')\n",
    "\n",
    "# customer_id\n",
    "df1['customer_id'] = df1['customer_id'].astype( 'int64' )"
   ]
  },
  {
   "cell_type": "markdown",
   "id": "52b28475",
   "metadata": {
    "papermill": {
     "duration": 0.015581,
     "end_time": "2023-10-03T02:58:34.604336",
     "exception": false,
     "start_time": "2023-10-03T02:58:34.588755",
     "status": "completed"
    },
    "tags": []
   },
   "source": [
    "## 1.6 Data Descriptive"
   ]
  },
  {
   "cell_type": "code",
   "execution_count": 11,
   "id": "f0fe83b7",
   "metadata": {
    "execution": {
     "iopub.execute_input": "2023-10-03T02:58:34.619938Z",
     "iopub.status.busy": "2023-10-03T02:58:34.619938Z",
     "iopub.status.idle": "2023-10-03T02:58:34.651209Z",
     "shell.execute_reply": "2023-10-03T02:58:34.651209Z"
    },
    "papermill": {
     "duration": 0.031271,
     "end_time": "2023-10-03T02:58:34.651209",
     "exception": false,
     "start_time": "2023-10-03T02:58:34.619938",
     "status": "completed"
    },
    "tags": []
   },
   "outputs": [],
   "source": [
    "num_attributes = df1.select_dtypes( include=['int64', 'float64'] )\n",
    "cat_attributes = df1.select_dtypes( exclude=['int64', 'float64', 'datetime64[ns]'] )"
   ]
  },
  {
   "cell_type": "markdown",
   "id": "ce27c73f",
   "metadata": {
    "papermill": {
     "duration": 0.0,
     "end_time": "2023-10-03T02:58:34.666834",
     "exception": false,
     "start_time": "2023-10-03T02:58:34.666834",
     "status": "completed"
    },
    "tags": []
   },
   "source": [
    "### 1.6.1 Numerical attributes"
   ]
  },
  {
   "cell_type": "code",
   "execution_count": 12,
   "id": "81a34f10",
   "metadata": {
    "execution": {
     "iopub.execute_input": "2023-10-03T02:58:34.698024Z",
     "iopub.status.busy": "2023-10-03T02:58:34.698024Z",
     "iopub.status.idle": "2023-10-03T02:58:34.901248Z",
     "shell.execute_reply": "2023-10-03T02:58:34.901248Z"
    },
    "papermill": {
     "duration": 0.218839,
     "end_time": "2023-10-03T02:58:34.901248",
     "exception": false,
     "start_time": "2023-10-03T02:58:34.682409",
     "status": "completed"
    },
    "tags": []
   },
   "outputs": [
    {
     "data": {
      "text/html": [
       "<div>\n",
       "<style scoped>\n",
       "    .dataframe tbody tr th:only-of-type {\n",
       "        vertical-align: middle;\n",
       "    }\n",
       "\n",
       "    .dataframe tbody tr th {\n",
       "        vertical-align: top;\n",
       "    }\n",
       "\n",
       "    .dataframe thead th {\n",
       "        text-align: right;\n",
       "    }\n",
       "</style>\n",
       "<table border=\"1\" class=\"dataframe\">\n",
       "  <thead>\n",
       "    <tr style=\"text-align: right;\">\n",
       "      <th></th>\n",
       "      <th>attributes</th>\n",
       "      <th>min</th>\n",
       "      <th>max</th>\n",
       "      <th>range</th>\n",
       "      <th>mean</th>\n",
       "      <th>median</th>\n",
       "      <th>std</th>\n",
       "      <th>skew</th>\n",
       "      <th>kurtosis</th>\n",
       "    </tr>\n",
       "  </thead>\n",
       "  <tbody>\n",
       "    <tr>\n",
       "      <th>0</th>\n",
       "      <td>quantity</td>\n",
       "      <td>-80995.0</td>\n",
       "      <td>80995.0</td>\n",
       "      <td>161990.0</td>\n",
       "      <td>12.061303</td>\n",
       "      <td>5.00</td>\n",
       "      <td>248.693064</td>\n",
       "      <td>0.182663</td>\n",
       "      <td>94317.563673</td>\n",
       "    </tr>\n",
       "    <tr>\n",
       "      <th>1</th>\n",
       "      <td>unit_price</td>\n",
       "      <td>0.0</td>\n",
       "      <td>38970.0</td>\n",
       "      <td>38970.0</td>\n",
       "      <td>3.460471</td>\n",
       "      <td>1.95</td>\n",
       "      <td>69.315077</td>\n",
       "      <td>452.219019</td>\n",
       "      <td>246924.542988</td>\n",
       "    </tr>\n",
       "    <tr>\n",
       "      <th>2</th>\n",
       "      <td>customer_id</td>\n",
       "      <td>12346.0</td>\n",
       "      <td>18287.0</td>\n",
       "      <td>5941.0</td>\n",
       "      <td>15287.690570</td>\n",
       "      <td>15152.00</td>\n",
       "      <td>1713.598197</td>\n",
       "      <td>0.029835</td>\n",
       "      <td>-1.179982</td>\n",
       "    </tr>\n",
       "  </tbody>\n",
       "</table>\n",
       "</div>"
      ],
      "text/plain": [
       "    attributes      min      max     range          mean    median  \\\n",
       "0     quantity -80995.0  80995.0  161990.0     12.061303      5.00   \n",
       "1   unit_price      0.0  38970.0   38970.0      3.460471      1.95   \n",
       "2  customer_id  12346.0  18287.0    5941.0  15287.690570  15152.00   \n",
       "\n",
       "           std        skew       kurtosis  \n",
       "0   248.693064    0.182663   94317.563673  \n",
       "1    69.315077  452.219019  246924.542988  \n",
       "2  1713.598197    0.029835      -1.179982  "
      ]
     },
     "execution_count": 12,
     "metadata": {},
     "output_type": "execute_result"
    }
   ],
   "source": [
    "numerical_metrics(num_attributes)"
   ]
  },
  {
   "cell_type": "markdown",
   "id": "96c4c6ac",
   "metadata": {
    "papermill": {
     "duration": 0.031143,
     "end_time": "2023-10-03T02:58:34.932391",
     "exception": false,
     "start_time": "2023-10-03T02:58:34.901248",
     "status": "completed"
    },
    "tags": []
   },
   "source": [
    "### 1.6.2 Categorical attributes"
   ]
  },
  {
   "cell_type": "code",
   "execution_count": 13,
   "id": "dc376080",
   "metadata": {
    "execution": {
     "iopub.execute_input": "2023-10-03T02:58:34.948402Z",
     "iopub.status.busy": "2023-10-03T02:58:34.948402Z",
     "iopub.status.idle": "2023-10-03T02:58:35.479762Z",
     "shell.execute_reply": "2023-10-03T02:58:35.479762Z"
    },
    "papermill": {
     "duration": 0.547371,
     "end_time": "2023-10-03T02:58:35.479762",
     "exception": false,
     "start_time": "2023-10-03T02:58:34.932391",
     "status": "completed"
    },
    "tags": []
   },
   "outputs": [
    {
     "name": "stdout",
     "output_type": "stream",
     "text": [
      "Number of invoices: 8905\n",
      "Total number of negative quantity: 8905\n"
     ]
    }
   ],
   "source": [
    "# invoice number - feature com string e int\n",
    "df_letter_invoices = df1.loc[df1['invoice_no'].apply( lambda x: bool( re.search( '[^0-9]+', x ) ) ), :]\n",
    "\n",
    "print( 'Number of invoices: {}'.format( len(df_letter_invoices) ) )\n",
    "print( 'Total number of negative quantity: {}'.format( len(df_letter_invoices['quantity'] <= 0 ) ) )"
   ]
  },
  {
   "cell_type": "code",
   "execution_count": 14,
   "id": "2423ddb1",
   "metadata": {
    "execution": {
     "iopub.execute_input": "2023-10-03T02:58:35.495342Z",
     "iopub.status.busy": "2023-10-03T02:58:35.495342Z",
     "iopub.status.idle": "2023-10-03T02:58:35.932897Z",
     "shell.execute_reply": "2023-10-03T02:58:35.932897Z"
    },
    "papermill": {
     "duration": 0.453135,
     "end_time": "2023-10-03T02:58:35.932897",
     "exception": false,
     "start_time": "2023-10-03T02:58:35.479762",
     "status": "completed"
    },
    "tags": []
   },
   "outputs": [
    {
     "data": {
      "text/plain": [
       "array(['POST', 'D', 'M', 'PADS', 'DOT', 'CRUK'], dtype=object)"
      ]
     },
     "execution_count": 14,
     "metadata": {},
     "output_type": "execute_result"
    }
   ],
   "source": [
    "# stock code - feature c string\n",
    "cat_attributes.loc[cat_attributes['stock_code'].apply( lambda x: bool( re.search( '^[a-zA-Z]+$', x ) ) ), 'stock_code'].unique()"
   ]
  },
  {
   "cell_type": "markdown",
   "id": "9fe811dc",
   "metadata": {
    "papermill": {
     "duration": 0.0,
     "end_time": "2023-10-03T02:58:35.948479",
     "exception": false,
     "start_time": "2023-10-03T02:58:35.948479",
     "status": "completed"
    },
    "tags": []
   },
   "source": [
    "# 2.0 Data Filtering"
   ]
  },
  {
   "cell_type": "code",
   "execution_count": 15,
   "id": "05e5215f",
   "metadata": {
    "execution": {
     "iopub.execute_input": "2023-10-03T02:58:35.979671Z",
     "iopub.status.busy": "2023-10-03T02:58:35.979671Z",
     "iopub.status.idle": "2023-10-03T02:58:36.011028Z",
     "shell.execute_reply": "2023-10-03T02:58:36.011028Z"
    },
    "papermill": {
     "duration": 0.031357,
     "end_time": "2023-10-03T02:58:36.011028",
     "exception": false,
     "start_time": "2023-10-03T02:58:35.979671",
     "status": "completed"
    },
    "tags": []
   },
   "outputs": [],
   "source": [
    "df2 = df1.copy()"
   ]
  },
  {
   "cell_type": "code",
   "execution_count": 16,
   "id": "453d4307",
   "metadata": {
    "execution": {
     "iopub.execute_input": "2023-10-03T02:58:36.042165Z",
     "iopub.status.busy": "2023-10-03T02:58:36.042165Z",
     "iopub.status.idle": "2023-10-03T02:58:36.370397Z",
     "shell.execute_reply": "2023-10-03T02:58:36.370397Z"
    },
    "papermill": {
     "duration": 0.343793,
     "end_time": "2023-10-03T02:58:36.370397",
     "exception": false,
     "start_time": "2023-10-03T02:58:36.026604",
     "status": "completed"
    },
    "tags": []
   },
   "outputs": [],
   "source": [
    "# numerical attributes\n",
    "df2 = df2.loc[df2['unit_price'] >= 0.04, : ]\n",
    "\n",
    "# categorical attributes\n",
    "df2 = df2[~df2['stock_code'].isin( ['POST', 'D', 'M', 'PADS', 'DOT', 'CRUK']) ]\n",
    "\n",
    "# description/country\n",
    "df2 = df2.drop(columns=['description', 'country'])\n",
    "\n",
    "# drop duplicate\n",
    "df2.drop_duplicates(inplace=True)\n",
    "\n",
    "# bad users\n",
    "# [16446, 12346, 15749]\n",
    "bad_users = [17548, 16546, 15823, 13672, 12346, 13762, 16446, 17900, 18268, 14557, 16878, 13364, 14792, 12607, 12454, 18274, 12558]\n",
    "df2 = df2[~df2['customer_id'].isin( bad_users )]\n",
    "\n",
    "# quantity\n",
    "df2_returns = df2.loc[df1['quantity'] < 0, :]\n",
    "df2_purchases = df2.loc[df1['quantity'] >= 0, :]"
   ]
  },
  {
   "cell_type": "markdown",
   "id": "49ce538c",
   "metadata": {
    "papermill": {
     "duration": 0.015576,
     "end_time": "2023-10-03T02:58:36.385973",
     "exception": false,
     "start_time": "2023-10-03T02:58:36.370397",
     "status": "completed"
    },
    "tags": []
   },
   "source": [
    "# 3.0 Feature Engeneering"
   ]
  },
  {
   "cell_type": "code",
   "execution_count": 17,
   "id": "5a063fd8",
   "metadata": {
    "execution": {
     "iopub.execute_input": "2023-10-03T02:58:36.401608Z",
     "iopub.status.busy": "2023-10-03T02:58:36.401608Z",
     "iopub.status.idle": "2023-10-03T02:58:36.432858Z",
     "shell.execute_reply": "2023-10-03T02:58:36.432858Z"
    },
    "papermill": {
     "duration": 0.03125,
     "end_time": "2023-10-03T02:58:36.432858",
     "exception": false,
     "start_time": "2023-10-03T02:58:36.401608",
     "status": "completed"
    },
    "tags": []
   },
   "outputs": [],
   "source": [
    "df3 = df2.copy()"
   ]
  },
  {
   "cell_type": "code",
   "execution_count": 18,
   "id": "6026f0fb",
   "metadata": {
    "execution": {
     "iopub.execute_input": "2023-10-03T02:58:36.464037Z",
     "iopub.status.busy": "2023-10-03T02:58:36.464037Z",
     "iopub.status.idle": "2023-10-03T02:58:36.495403Z",
     "shell.execute_reply": "2023-10-03T02:58:36.495403Z"
    },
    "papermill": {
     "duration": 0.046925,
     "end_time": "2023-10-03T02:58:36.495403",
     "exception": false,
     "start_time": "2023-10-03T02:58:36.448478",
     "status": "completed"
    },
    "tags": []
   },
   "outputs": [],
   "source": [
    "df_ref = df3['customer_id'].drop_duplicates().reset_index(drop=True)"
   ]
  },
  {
   "cell_type": "code",
   "execution_count": 19,
   "id": "1dcc2c59",
   "metadata": {
    "execution": {
     "iopub.execute_input": "2023-10-03T02:58:36.557868Z",
     "iopub.status.busy": "2023-10-03T02:58:36.557868Z",
     "iopub.status.idle": "2023-10-03T02:58:36.604776Z",
     "shell.execute_reply": "2023-10-03T02:58:36.604776Z"
    },
    "papermill": {
     "duration": 0.093797,
     "end_time": "2023-10-03T02:58:36.604776",
     "exception": false,
     "start_time": "2023-10-03T02:58:36.510979",
     "status": "completed"
    },
    "tags": []
   },
   "outputs": [],
   "source": [
    "# Gross revenue\n",
    "df2_purchases = df2_purchases.assign(gross_revenue=df2_purchases['quantity'] * df2_purchases['unit_price'])"
   ]
  },
  {
   "cell_type": "code",
   "execution_count": 20,
   "id": "53e13b1c",
   "metadata": {
    "execution": {
     "iopub.execute_input": "2023-10-03T02:58:36.635988Z",
     "iopub.status.busy": "2023-10-03T02:58:36.635988Z",
     "iopub.status.idle": "2023-10-03T02:58:36.792271Z",
     "shell.execute_reply": "2023-10-03T02:58:36.792271Z"
    },
    "papermill": {
     "duration": 0.171895,
     "end_time": "2023-10-03T02:58:36.792271",
     "exception": false,
     "start_time": "2023-10-03T02:58:36.620376",
     "status": "completed"
    },
    "tags": []
   },
   "outputs": [],
   "source": [
    "# Invoice \n",
    "df3_invoice = df2_purchases.groupby('invoice_no').agg(  customer_id = ('customer_id', 'max'), \n",
    "                                                        invoice_date = ('invoice_date', 'max'), \n",
    "                                                        gross_revenue = ('gross_revenue', 'sum'),\n",
    "                                                        unique_products = ('stock_code', 'nunique'),\n",
    "                                                        items = ('quantity', 'sum') ).reset_index()"
   ]
  },
  {
   "cell_type": "code",
   "execution_count": 21,
   "id": "883ee281",
   "metadata": {
    "execution": {
     "iopub.execute_input": "2023-10-03T02:58:36.823417Z",
     "iopub.status.busy": "2023-10-03T02:58:36.823417Z",
     "iopub.status.idle": "2023-10-03T02:58:37.229771Z",
     "shell.execute_reply": "2023-10-03T02:58:37.229771Z"
    },
    "papermill": {
     "duration": 0.4375,
     "end_time": "2023-10-03T02:58:37.229771",
     "exception": false,
     "start_time": "2023-10-03T02:58:36.792271",
     "status": "completed"
    },
    "tags": []
   },
   "outputs": [],
   "source": [
    "# Customer\n",
    "\n",
    "last_day = df2_purchases.invoice_date.max() + dt.timedelta(days = 1)\n",
    "\n",
    "df_customer = df3_invoice.groupby('customer_id').agg(   gross_revenue = ('gross_revenue', 'sum'),                                           \n",
    "                                                        recency = ('invoice_date', lambda x: ((last_day - x.max()).days)),       \n",
    "                                                        frequency = ('invoice_no', 'count'),\n",
    "                                                        items = ('items', 'sum'),\n",
    "                                                        products = ('unique_products', 'sum') ).reset_index()"
   ]
  },
  {
   "cell_type": "code",
   "execution_count": 22,
   "id": "c0814d85",
   "metadata": {
    "execution": {
     "iopub.execute_input": "2023-10-03T02:58:37.245344Z",
     "iopub.status.busy": "2023-10-03T02:58:37.245344Z",
     "iopub.status.idle": "2023-10-03T02:58:37.276646Z",
     "shell.execute_reply": "2023-10-03T02:58:37.276646Z"
    },
    "papermill": {
     "duration": 0.046875,
     "end_time": "2023-10-03T02:58:37.276646",
     "exception": false,
     "start_time": "2023-10-03T02:58:37.229771",
     "status": "completed"
    },
    "tags": []
   },
   "outputs": [
    {
     "data": {
      "text/html": [
       "<div>\n",
       "<style scoped>\n",
       "    .dataframe tbody tr th:only-of-type {\n",
       "        vertical-align: middle;\n",
       "    }\n",
       "\n",
       "    .dataframe tbody tr th {\n",
       "        vertical-align: top;\n",
       "    }\n",
       "\n",
       "    .dataframe thead th {\n",
       "        text-align: right;\n",
       "    }\n",
       "</style>\n",
       "<table border=\"1\" class=\"dataframe\">\n",
       "  <thead>\n",
       "    <tr style=\"text-align: right;\">\n",
       "      <th></th>\n",
       "      <th>customer_id</th>\n",
       "      <th>gross_revenue</th>\n",
       "      <th>recency</th>\n",
       "      <th>frequency</th>\n",
       "      <th>items</th>\n",
       "      <th>products</th>\n",
       "    </tr>\n",
       "  </thead>\n",
       "  <tbody>\n",
       "    <tr>\n",
       "      <th>0</th>\n",
       "      <td>12347</td>\n",
       "      <td>4310.00</td>\n",
       "      <td>3</td>\n",
       "      <td>7</td>\n",
       "      <td>2458</td>\n",
       "      <td>182</td>\n",
       "    </tr>\n",
       "    <tr>\n",
       "      <th>1</th>\n",
       "      <td>12348</td>\n",
       "      <td>1437.24</td>\n",
       "      <td>76</td>\n",
       "      <td>4</td>\n",
       "      <td>2332</td>\n",
       "      <td>23</td>\n",
       "    </tr>\n",
       "    <tr>\n",
       "      <th>2</th>\n",
       "      <td>12349</td>\n",
       "      <td>1457.55</td>\n",
       "      <td>19</td>\n",
       "      <td>1</td>\n",
       "      <td>630</td>\n",
       "      <td>72</td>\n",
       "    </tr>\n",
       "    <tr>\n",
       "      <th>3</th>\n",
       "      <td>12350</td>\n",
       "      <td>294.40</td>\n",
       "      <td>311</td>\n",
       "      <td>1</td>\n",
       "      <td>196</td>\n",
       "      <td>16</td>\n",
       "    </tr>\n",
       "    <tr>\n",
       "      <th>4</th>\n",
       "      <td>12352</td>\n",
       "      <td>1385.74</td>\n",
       "      <td>37</td>\n",
       "      <td>7</td>\n",
       "      <td>526</td>\n",
       "      <td>77</td>\n",
       "    </tr>\n",
       "  </tbody>\n",
       "</table>\n",
       "</div>"
      ],
      "text/plain": [
       "   customer_id  gross_revenue  recency  frequency  items  products\n",
       "0        12347        4310.00        3          7   2458       182\n",
       "1        12348        1437.24       76          4   2332        23\n",
       "2        12349        1457.55       19          1    630        72\n",
       "3        12350         294.40      311          1    196        16\n",
       "4        12352        1385.74       37          7    526        77"
      ]
     },
     "execution_count": 22,
     "metadata": {},
     "output_type": "execute_result"
    }
   ],
   "source": [
    "df_customer.head()"
   ]
  },
  {
   "cell_type": "code",
   "execution_count": 23,
   "id": "99ac6309",
   "metadata": {
    "execution": {
     "iopub.execute_input": "2023-10-03T02:58:37.292229Z",
     "iopub.status.busy": "2023-10-03T02:58:37.292229Z",
     "iopub.status.idle": "2023-10-03T02:58:37.323522Z",
     "shell.execute_reply": "2023-10-03T02:58:37.323522Z"
    },
    "papermill": {
     "duration": 0.046876,
     "end_time": "2023-10-03T02:58:37.323522",
     "exception": false,
     "start_time": "2023-10-03T02:58:37.276646",
     "status": "completed"
    },
    "tags": []
   },
   "outputs": [],
   "source": [
    "# returns\n",
    "df_returns = df2_returns[['customer_id', 'quantity']].groupby( 'customer_id' ).sum().reset_index().rename(columns={'quantity': 'returns'} )\n",
    "df_returns['returns'] = df_returns['returns'] * -1\n"
   ]
  },
  {
   "cell_type": "code",
   "execution_count": 24,
   "id": "8683b3e6",
   "metadata": {
    "execution": {
     "iopub.execute_input": "2023-10-03T02:58:37.354740Z",
     "iopub.status.busy": "2023-10-03T02:58:37.354740Z",
     "iopub.status.idle": "2023-10-03T02:58:37.386004Z",
     "shell.execute_reply": "2023-10-03T02:58:37.386004Z"
    },
    "papermill": {
     "duration": 0.046962,
     "end_time": "2023-10-03T02:58:37.386004",
     "exception": false,
     "start_time": "2023-10-03T02:58:37.339042",
     "status": "completed"
    },
    "tags": []
   },
   "outputs": [
    {
     "data": {
      "text/plain": [
       "customer_id       0\n",
       "gross_revenue    27\n",
       "recency          27\n",
       "frequency        27\n",
       "items            27\n",
       "products         27\n",
       "returns           0\n",
       "dtype: int64"
      ]
     },
     "execution_count": 24,
     "metadata": {},
     "output_type": "execute_result"
    }
   ],
   "source": [
    "# merge - customer \n",
    "df_ref = pd.merge( df_ref, df_customer, on='customer_id', how='left')\n",
    "\n",
    "# merge - returns\n",
    "df_ref = pd.merge( df_ref, df_returns, on='customer_id', how='left' )\n",
    "df_ref.loc[df_ref['returns'].isna(), 'returns'] = 0\n",
    "df_ref.isna().sum()\n"
   ]
  },
  {
   "cell_type": "code",
   "execution_count": 25,
   "id": "404bdf63",
   "metadata": {
    "execution": {
     "iopub.execute_input": "2023-10-03T02:58:37.401603Z",
     "iopub.status.busy": "2023-10-03T02:58:37.401603Z",
     "iopub.status.idle": "2023-10-03T02:58:37.432905Z",
     "shell.execute_reply": "2023-10-03T02:58:37.432905Z"
    },
    "papermill": {
     "duration": 0.046901,
     "end_time": "2023-10-03T02:58:37.432905",
     "exception": false,
     "start_time": "2023-10-03T02:58:37.386004",
     "status": "completed"
    },
    "tags": []
   },
   "outputs": [
    {
     "data": {
      "text/plain": [
       "customer_id      0\n",
       "gross_revenue    0\n",
       "recency          0\n",
       "frequency        0\n",
       "items            0\n",
       "products         0\n",
       "returns          0\n",
       "dtype: int64"
      ]
     },
     "execution_count": 25,
     "metadata": {},
     "output_type": "execute_result"
    }
   ],
   "source": [
    "df_ref = df_ref.dropna()\n",
    "df_ref.isna().sum()"
   ]
  },
  {
   "cell_type": "code",
   "execution_count": 26,
   "id": "5164e9db",
   "metadata": {
    "execution": {
     "iopub.execute_input": "2023-10-03T02:58:37.448484Z",
     "iopub.status.busy": "2023-10-03T02:58:37.448484Z",
     "iopub.status.idle": "2023-10-03T02:58:37.479779Z",
     "shell.execute_reply": "2023-10-03T02:58:37.479779Z"
    },
    "papermill": {
     "duration": 0.031295,
     "end_time": "2023-10-03T02:58:37.479779",
     "exception": false,
     "start_time": "2023-10-03T02:58:37.448484",
     "status": "completed"
    },
    "tags": []
   },
   "outputs": [
    {
     "data": {
      "text/html": [
       "<div>\n",
       "<style scoped>\n",
       "    .dataframe tbody tr th:only-of-type {\n",
       "        vertical-align: middle;\n",
       "    }\n",
       "\n",
       "    .dataframe tbody tr th {\n",
       "        vertical-align: top;\n",
       "    }\n",
       "\n",
       "    .dataframe thead th {\n",
       "        text-align: right;\n",
       "    }\n",
       "</style>\n",
       "<table border=\"1\" class=\"dataframe\">\n",
       "  <thead>\n",
       "    <tr style=\"text-align: right;\">\n",
       "      <th></th>\n",
       "      <th>customer_id</th>\n",
       "      <th>gross_revenue</th>\n",
       "      <th>recency</th>\n",
       "      <th>frequency</th>\n",
       "      <th>items</th>\n",
       "      <th>products</th>\n",
       "      <th>returns</th>\n",
       "    </tr>\n",
       "  </thead>\n",
       "  <tbody>\n",
       "    <tr>\n",
       "      <th>0</th>\n",
       "      <td>17850</td>\n",
       "      <td>5391.21</td>\n",
       "      <td>373.0</td>\n",
       "      <td>34.0</td>\n",
       "      <td>1733.0</td>\n",
       "      <td>297.0</td>\n",
       "      <td>37.0</td>\n",
       "    </tr>\n",
       "    <tr>\n",
       "      <th>1</th>\n",
       "      <td>13047</td>\n",
       "      <td>3232.59</td>\n",
       "      <td>57.0</td>\n",
       "      <td>9.0</td>\n",
       "      <td>1390.0</td>\n",
       "      <td>171.0</td>\n",
       "      <td>35.0</td>\n",
       "    </tr>\n",
       "    <tr>\n",
       "      <th>2</th>\n",
       "      <td>12583</td>\n",
       "      <td>6705.38</td>\n",
       "      <td>3.0</td>\n",
       "      <td>15.0</td>\n",
       "      <td>5028.0</td>\n",
       "      <td>232.0</td>\n",
       "      <td>50.0</td>\n",
       "    </tr>\n",
       "    <tr>\n",
       "      <th>3</th>\n",
       "      <td>13748</td>\n",
       "      <td>948.25</td>\n",
       "      <td>96.0</td>\n",
       "      <td>5.0</td>\n",
       "      <td>439.0</td>\n",
       "      <td>28.0</td>\n",
       "      <td>0.0</td>\n",
       "    </tr>\n",
       "    <tr>\n",
       "      <th>4</th>\n",
       "      <td>15100</td>\n",
       "      <td>876.00</td>\n",
       "      <td>334.0</td>\n",
       "      <td>3.0</td>\n",
       "      <td>80.0</td>\n",
       "      <td>3.0</td>\n",
       "      <td>22.0</td>\n",
       "    </tr>\n",
       "  </tbody>\n",
       "</table>\n",
       "</div>"
      ],
      "text/plain": [
       "   customer_id  gross_revenue  recency  frequency   items  products  returns\n",
       "0        17850        5391.21    373.0       34.0  1733.0     297.0     37.0\n",
       "1        13047        3232.59     57.0        9.0  1390.0     171.0     35.0\n",
       "2        12583        6705.38      3.0       15.0  5028.0     232.0     50.0\n",
       "3        13748         948.25     96.0        5.0   439.0      28.0      0.0\n",
       "4        15100         876.00    334.0        3.0    80.0       3.0     22.0"
      ]
     },
     "execution_count": 26,
     "metadata": {},
     "output_type": "execute_result"
    }
   ],
   "source": [
    "df_ref.head()"
   ]
  },
  {
   "cell_type": "markdown",
   "id": "2e5a5e26",
   "metadata": {
    "papermill": {
     "duration": 0.015609,
     "end_time": "2023-10-03T02:58:37.510971",
     "exception": false,
     "start_time": "2023-10-03T02:58:37.495362",
     "status": "completed"
    },
    "tags": []
   },
   "source": [
    "# 4.0 EDA (Exploratory Data Analysis)"
   ]
  },
  {
   "cell_type": "code",
   "execution_count": 27,
   "id": "2cc0c58e",
   "metadata": {
    "execution": {
     "iopub.execute_input": "2023-10-03T02:58:37.526597Z",
     "iopub.status.busy": "2023-10-03T02:58:37.526597Z",
     "iopub.status.idle": "2023-10-03T02:58:37.542282Z",
     "shell.execute_reply": "2023-10-03T02:58:37.542282Z"
    },
    "papermill": {
     "duration": 0.015685,
     "end_time": "2023-10-03T02:58:37.542282",
     "exception": false,
     "start_time": "2023-10-03T02:58:37.526597",
     "status": "completed"
    },
    "tags": []
   },
   "outputs": [],
   "source": [
    "df4 = df_ref.copy()"
   ]
  },
  {
   "cell_type": "markdown",
   "id": "23f43d5a",
   "metadata": {
    "papermill": {
     "duration": 0.0,
     "end_time": "2023-10-03T02:58:37.557893",
     "exception": false,
     "start_time": "2023-10-03T02:58:37.557893",
     "status": "completed"
    },
    "tags": []
   },
   "source": [
    "# 5.0 Feature Selection"
   ]
  },
  {
   "cell_type": "code",
   "execution_count": 28,
   "id": "69bf4f2e",
   "metadata": {
    "execution": {
     "iopub.execute_input": "2023-10-03T02:58:37.589109Z",
     "iopub.status.busy": "2023-10-03T02:58:37.589109Z",
     "iopub.status.idle": "2023-10-03T02:58:37.604711Z",
     "shell.execute_reply": "2023-10-03T02:58:37.604711Z"
    },
    "papermill": {
     "duration": 0.031241,
     "end_time": "2023-10-03T02:58:37.604711",
     "exception": false,
     "start_time": "2023-10-03T02:58:37.573470",
     "status": "completed"
    },
    "tags": []
   },
   "outputs": [],
   "source": [
    "# selected dataset\n",
    "cols_selected = ['gross_revenue', 'recency', 'frequency', 'products', 'returns' ]\n",
    "df5 = df4[cols_selected].copy()"
   ]
  },
  {
   "cell_type": "markdown",
   "id": "e0360c46",
   "metadata": {
    "papermill": {
     "duration": 0.0,
     "end_time": "2023-10-03T02:58:37.620346",
     "exception": false,
     "start_time": "2023-10-03T02:58:37.620346",
     "status": "completed"
    },
    "tags": []
   },
   "source": [
    "# 6.0 Data Preparation"
   ]
  },
  {
   "cell_type": "code",
   "execution_count": 29,
   "id": "7a4325ed",
   "metadata": {
    "execution": {
     "iopub.execute_input": "2023-10-03T02:58:37.651596Z",
     "iopub.status.busy": "2023-10-03T02:58:37.651596Z",
     "iopub.status.idle": "2023-10-03T02:58:37.667276Z",
     "shell.execute_reply": "2023-10-03T02:58:37.667276Z"
    },
    "papermill": {
     "duration": 0.031311,
     "end_time": "2023-10-03T02:58:37.667276",
     "exception": false,
     "start_time": "2023-10-03T02:58:37.635965",
     "status": "completed"
    },
    "tags": []
   },
   "outputs": [],
   "source": [
    "df6 = df5.copy()"
   ]
  },
  {
   "cell_type": "code",
   "execution_count": 30,
   "id": "2329a15f",
   "metadata": {
    "execution": {
     "iopub.execute_input": "2023-10-03T02:58:37.698486Z",
     "iopub.status.busy": "2023-10-03T02:58:37.698486Z",
     "iopub.status.idle": "2023-10-03T02:58:37.729769Z",
     "shell.execute_reply": "2023-10-03T02:58:37.729769Z"
    },
    "papermill": {
     "duration": 0.046956,
     "end_time": "2023-10-03T02:58:37.729769",
     "exception": false,
     "start_time": "2023-10-03T02:58:37.682813",
     "status": "completed"
    },
    "tags": []
   },
   "outputs": [],
   "source": [
    "mm = pp.MinMaxScaler()\n",
    "\n",
    "\n",
    "df6['gross_revenue'] = mm.fit_transform( df6[['gross_revenue']] )\n",
    "df6['recency']  =      mm.fit_transform( df6[['recency']] )\n",
    "df6['frequency'] =     mm.fit_transform( df6[['frequency']] )\n",
    "df6['products'] =      mm.fit_transform( df6[['products']] )\n",
    "df6['returns'] =       mm.fit_transform( df6[['returns']] )\n",
    "\n",
    "X = df6.copy()"
   ]
  },
  {
   "cell_type": "markdown",
   "id": "ed0e40ae",
   "metadata": {
    "papermill": {
     "duration": 0.015545,
     "end_time": "2023-10-03T02:58:37.760911",
     "exception": false,
     "start_time": "2023-10-03T02:58:37.745366",
     "status": "completed"
    },
    "tags": []
   },
   "source": [
    "## 6.1 Dimensonality Reduction"
   ]
  },
  {
   "cell_type": "markdown",
   "id": "6b4cf6a0",
   "metadata": {
    "papermill": {
     "duration": 0.01561,
     "end_time": "2023-10-03T02:58:37.792222",
     "exception": false,
     "start_time": "2023-10-03T02:58:37.776612",
     "status": "completed"
    },
    "tags": []
   },
   "source": [
    "### 6.1.1 PCA"
   ]
  },
  {
   "cell_type": "code",
   "execution_count": 31,
   "id": "7b9bb2c7",
   "metadata": {
    "execution": {
     "iopub.execute_input": "2023-10-03T02:58:37.807846Z",
     "iopub.status.busy": "2023-10-03T02:58:37.807846Z",
     "iopub.status.idle": "2023-10-03T02:58:37.933171Z",
     "shell.execute_reply": "2023-10-03T02:58:37.933171Z"
    },
    "papermill": {
     "duration": 0.140949,
     "end_time": "2023-10-03T02:58:37.933171",
     "exception": false,
     "start_time": "2023-10-03T02:58:37.792222",
     "status": "completed"
    },
    "tags": []
   },
   "outputs": [
    {
     "data": {
      "image/png": "[encoded data removed]",
      "text/plain": [
       "<Figure size 432x288 with 1 Axes>"
      ]
     },
     "metadata": {
      "needs_background": "light"
     },
     "output_type": "display_data"
    }
   ],
   "source": [
    "pca = dd.PCA( n_components=X.shape[1] )\n",
    "\n",
    "principal_components = pca.fit_transform( X )\n",
    "\n",
    "# plot explained variable\n",
    "features = range( pca.n_components_ )\n",
    "\n",
    "plt.bar( features, pca.explained_variance_ratio_, color='black' )\n",
    "\n",
    "# pca component\n",
    "df_pca = pd.DataFrame( principal_components )"
   ]
  },
  {
   "cell_type": "code",
   "execution_count": 32,
   "id": "142c2d03",
   "metadata": {
    "execution": {
     "iopub.execute_input": "2023-10-03T02:58:37.964421Z",
     "iopub.status.busy": "2023-10-03T02:58:37.948796Z",
     "iopub.status.idle": "2023-10-03T02:58:38.058182Z",
     "shell.execute_reply": "2023-10-03T02:58:38.058182Z"
    },
    "papermill": {
     "duration": 0.109386,
     "end_time": "2023-10-03T02:58:38.058182",
     "exception": false,
     "start_time": "2023-10-03T02:58:37.948796",
     "status": "completed"
    },
    "tags": []
   },
   "outputs": [
    {
     "data": {
      "image/png": "[encoded data removed]",
      "text/plain": [
       "<Figure size 432x288 with 1 Axes>"
      ]
     },
     "metadata": {
      "needs_background": "light"
     },
     "output_type": "display_data"
    }
   ],
   "source": [
    "sns.scatterplot( x=0, y=1, data=df_pca );"
   ]
  },
  {
   "cell_type": "markdown",
   "id": "8f1804f1",
   "metadata": {
    "papermill": {
     "duration": 0.015624,
     "end_time": "2023-10-03T02:58:38.073806",
     "exception": false,
     "start_time": "2023-10-03T02:58:38.058182",
     "status": "completed"
    },
    "tags": []
   },
   "source": [
    "### 6.1.2 UMAP"
   ]
  },
  {
   "cell_type": "code",
   "execution_count": 33,
   "id": "255a5915",
   "metadata": {
    "execution": {
     "iopub.execute_input": "2023-10-03T02:58:38.105140Z",
     "iopub.status.busy": "2023-10-03T02:58:38.105140Z",
     "iopub.status.idle": "2023-10-03T02:59:00.223525Z",
     "shell.execute_reply": "2023-10-03T02:59:00.223525Z"
    },
    "papermill": {
     "duration": 22.134033,
     "end_time": "2023-10-03T02:59:00.223525",
     "exception": false,
     "start_time": "2023-10-03T02:58:38.089492",
     "status": "completed"
    },
    "tags": []
   },
   "outputs": [
    {
     "data": {
      "image/png": "[encoded data removed]",
      "text/plain": [
       "<Figure size 432x288 with 1 Axes>"
      ]
     },
     "metadata": {
      "needs_background": "light"
     },
     "output_type": "display_data"
    }
   ],
   "source": [
    "reducer = umap.UMAP( random_state=42 )\n",
    "embedding = reducer.fit_transform( X )\n",
    "\n",
    "# embedding\n",
    "df_umap = pd.DataFrame()\n",
    "df_umap['embedding_x'] = embedding[:, 0]\n",
    "df_umap['embedding_y'] = embedding[:, 1]\n",
    "\n",
    "# plot UMAP\n",
    "sns.scatterplot( x='embedding_x', \n",
    "                 y='embedding_y', \n",
    "                 data=df_umap );"
   ]
  },
  {
   "cell_type": "markdown",
   "id": "a44fc75f",
   "metadata": {
    "papermill": {
     "duration": 0.015631,
     "end_time": "2023-10-03T02:59:00.254743",
     "exception": false,
     "start_time": "2023-10-03T02:59:00.239112",
     "status": "completed"
    },
    "tags": []
   },
   "source": [
    "### 6.1.3 - T-SNE"
   ]
  },
  {
   "cell_type": "code",
   "execution_count": 34,
   "id": "76fa83f9",
   "metadata": {
    "execution": {
     "iopub.execute_input": "2023-10-03T02:59:00.285982Z",
     "iopub.status.busy": "2023-10-03T02:59:00.285982Z",
     "iopub.status.idle": "2023-10-03T02:59:08.945522Z",
     "shell.execute_reply": "2023-10-03T02:59:08.945522Z"
    },
    "papermill": {
     "duration": 8.675162,
     "end_time": "2023-10-03T02:59:08.945522",
     "exception": false,
     "start_time": "2023-10-03T02:59:00.270360",
     "status": "completed"
    },
    "tags": []
   },
   "outputs": [
    {
     "name": "stderr",
     "output_type": "stream",
     "text": [
      "C:\\Users\\Codo\\anaconda3\\envs\\env1\\lib\\site-packages\\sklearn\\manifold\\_t_sne.py:795: FutureWarning: The default initialization in TSNE will change from 'random' to 'pca' in 1.2.\n",
      "  warnings.warn(\n",
      "C:\\Users\\Codo\\anaconda3\\envs\\env1\\lib\\site-packages\\sklearn\\manifold\\_t_sne.py:805: FutureWarning: The default learning rate in TSNE will change from 200.0 to 'auto' in 1.2.\n",
      "  warnings.warn(\n"
     ]
    },
    {
     "data": {
      "image/png": "[encoded data removed]",
      "text/plain": [
       "<Figure size 432x288 with 1 Axes>"
      ]
     },
     "metadata": {
      "needs_background": "light"
     },
     "output_type": "display_data"
    }
   ],
   "source": [
    "reducer = TSNE( n_components=2, n_jobs=-1, random_state=42 )\n",
    "embedding = reducer.fit_transform( X )\n",
    "\n",
    "# embedding\n",
    "df_tsne = pd.DataFrame()\n",
    "df_tsne['embedding_x'] = embedding[:, 0]\n",
    "df_tsne['embedding_y'] = embedding[:, 1]\n",
    "\n",
    "# plot UMAP\n",
    "sns.scatterplot( x='embedding_x', \n",
    "                 y='embedding_y', \n",
    "                 data=df_tsne );"
   ]
  },
  {
   "cell_type": "markdown",
   "id": "1fbcdc2f",
   "metadata": {
    "papermill": {
     "duration": 0.01562,
     "end_time": "2023-10-03T02:59:08.961142",
     "exception": false,
     "start_time": "2023-10-03T02:59:08.945522",
     "status": "completed"
    },
    "tags": []
   },
   "source": [
    "### 6.1.4 Tree-based Embedding"
   ]
  },
  {
   "cell_type": "code",
   "execution_count": 35,
   "id": "2c9dd4f6",
   "metadata": {
    "execution": {
     "iopub.execute_input": "2023-10-03T02:59:09.008025Z",
     "iopub.status.busy": "2023-10-03T02:59:09.008025Z",
     "iopub.status.idle": "2023-10-03T02:59:09.179897Z",
     "shell.execute_reply": "2023-10-03T02:59:09.179897Z"
    },
    "papermill": {
     "duration": 0.187507,
     "end_time": "2023-10-03T02:59:09.179897",
     "exception": false,
     "start_time": "2023-10-03T02:59:08.992390",
     "status": "completed"
    },
    "tags": []
   },
   "outputs": [],
   "source": [
    "# training dataset\n",
    "X = df6.drop( columns=['gross_revenue'], axis=1 )\n",
    "\n",
    "# defining target\n",
    "y = df6['gross_revenue']\n",
    "\n",
    "# model definition\n",
    "rf_model = en.RandomForestRegressor( n_estimators=100, min_samples_split=32, n_jobs=-1, random_state=42 )\n",
    "\n",
    "# model training\n",
    "rf_model.fit( X, y )\n",
    "\n",
    "# leafs\n",
    "df_leaf = pd.DataFrame( rf_model.apply( X ) )"
   ]
  },
  {
   "cell_type": "code",
   "execution_count": 36,
   "id": "d56d0d23",
   "metadata": {
    "execution": {
     "iopub.execute_input": "2023-10-03T02:59:09.195522Z",
     "iopub.status.busy": "2023-10-03T02:59:09.195522Z",
     "iopub.status.idle": "2023-10-03T02:59:20.968954Z",
     "shell.execute_reply": "2023-10-03T02:59:20.968954Z"
    },
    "papermill": {
     "duration": 11.789057,
     "end_time": "2023-10-03T02:59:20.968954",
     "exception": false,
     "start_time": "2023-10-03T02:59:09.179897",
     "status": "completed"
    },
    "tags": []
   },
   "outputs": [
    {
     "data": {
      "image/png": "[encoded data removed]",
      "text/plain": [
       "<Figure size 432x288 with 1 Axes>"
      ]
     },
     "metadata": {
      "needs_background": "light"
     },
     "output_type": "display_data"
    }
   ],
   "source": [
    "# reduce dimensionality\n",
    "reducer = umap.UMAP( n_neighbors=100, random_state=42) \n",
    "embedding = reducer.fit_transform( df_leaf )\n",
    "\n",
    "# embedding\n",
    "df_tree = pd.DataFrame()\n",
    "df_tree['embedding_x'] = embedding[:, 0]\n",
    "df_tree['embedding_y'] = embedding[:, 1]\n",
    "\n",
    "# plot UMAP\n",
    "sns.scatterplot( x='embedding_x', y='embedding_y', data=df_tree );"
   ]
  },
  {
   "cell_type": "markdown",
   "id": "fe57ec10",
   "metadata": {
    "papermill": {
     "duration": 0.015626,
     "end_time": "2023-10-03T02:59:21.000164",
     "exception": false,
     "start_time": "2023-10-03T02:59:20.984538",
     "status": "completed"
    },
    "tags": []
   },
   "source": [
    "# 7.0  Hyperparameter Fine Tunning"
   ]
  },
  {
   "cell_type": "code",
   "execution_count": 37,
   "id": "e330d565",
   "metadata": {
    "execution": {
     "iopub.execute_input": "2023-10-03T02:59:21.031411Z",
     "iopub.status.busy": "2023-10-03T02:59:21.031411Z",
     "iopub.status.idle": "2023-10-03T02:59:21.047040Z",
     "shell.execute_reply": "2023-10-03T02:59:21.047040Z"
    },
    "papermill": {
     "duration": 0.031323,
     "end_time": "2023-10-03T02:59:21.047040",
     "exception": false,
     "start_time": "2023-10-03T02:59:21.015717",
     "status": "completed"
    },
    "tags": []
   },
   "outputs": [],
   "source": [
    "X = df_tree.copy()\n",
    "# X = df_umap.copy()\n",
    "# X = df_tsne.copy()"
   ]
  },
  {
   "cell_type": "code",
   "execution_count": 38,
   "id": "b8436892",
   "metadata": {
    "execution": {
     "iopub.execute_input": "2023-10-03T02:59:21.062660Z",
     "iopub.status.busy": "2023-10-03T02:59:21.062660Z",
     "iopub.status.idle": "2023-10-03T02:59:21.093921Z",
     "shell.execute_reply": "2023-10-03T02:59:21.093921Z"
    },
    "papermill": {
     "duration": 0.031261,
     "end_time": "2023-10-03T02:59:21.093921",
     "exception": false,
     "start_time": "2023-10-03T02:59:21.062660",
     "status": "completed"
    },
    "tags": []
   },
   "outputs": [],
   "source": [
    "clusters = np.arange( 2, 16 ,1)"
   ]
  },
  {
   "cell_type": "markdown",
   "id": "954f8b17",
   "metadata": {
    "papermill": {
     "duration": 0.015633,
     "end_time": "2023-10-03T02:59:21.125166",
     "exception": false,
     "start_time": "2023-10-03T02:59:21.109533",
     "status": "completed"
    },
    "tags": []
   },
   "source": [
    "## 7.1 Models"
   ]
  },
  {
   "cell_type": "code",
   "execution_count": 39,
   "id": "6deea6f1",
   "metadata": {
    "execution": {
     "iopub.execute_input": "2023-10-03T02:59:21.156430Z",
     "iopub.status.busy": "2023-10-03T02:59:21.156430Z",
     "iopub.status.idle": "2023-10-03T03:00:29.774765Z",
     "shell.execute_reply": "2023-10-03T03:00:29.774765Z"
    },
    "papermill": {
     "duration": 68.633981,
     "end_time": "2023-10-03T03:00:29.774765",
     "exception": false,
     "start_time": "2023-10-03T02:59:21.140784",
     "status": "completed"
    },
    "tags": []
   },
   "outputs": [],
   "source": [
    "kmeans_list = []\n",
    "gmm_list = []\n",
    "hc_list = []\n",
    "\n",
    "for k in clusters:\n",
    "    \n",
    "    # kmeans\n",
    "    kmeans_model = c.KMeans(n_clusters=k, n_init=100, random_state=42)\n",
    "    kmeans_labels = kmeans_model.fit_predict(X)\n",
    "    kmeans_sil = m.silhouette_score(X, kmeans_labels, metric='euclidean')\n",
    "    kmeans_list.append(kmeans_sil)\n",
    "\n",
    "    # GMM\n",
    "    gmm_model = mx.GaussianMixture(n_components=k, n_init=10, random_state=42)\n",
    "    gmm_labels = gmm_model.fit_predict(X)    \n",
    "    gmm_sil = m.silhouette_score(X, gmm_labels, metric='euclidean')\n",
    "    gmm_list.append(gmm_sil)\n",
    "\n",
    "    # HC\n",
    "    hc_model = hc.linkage( X, 'ward' )\n",
    "    hc_labels = hc.fcluster( hc_model, k, criterion='maxclust' )\n",
    "    hc_sil = m.silhouette_score(X, hc_labels, metric='euclidean')\n",
    "    hc_list.append(hc_sil)     "
   ]
  },
  {
   "cell_type": "code",
   "execution_count": 40,
   "id": "cbc1fde7",
   "metadata": {
    "execution": {
     "iopub.execute_input": "2023-10-03T03:00:29.806017Z",
     "iopub.status.busy": "2023-10-03T03:00:29.806017Z",
     "iopub.status.idle": "2023-10-03T03:00:33.370827Z",
     "shell.execute_reply": "2023-10-03T03:00:33.370827Z"
    },
    "papermill": {
     "duration": 3.596062,
     "end_time": "2023-10-03T03:00:33.370827",
     "exception": false,
     "start_time": "2023-10-03T03:00:29.774765",
     "status": "completed"
    },
    "tags": []
   },
   "outputs": [],
   "source": [
    "dbs_list = []\n",
    "eps = np.arange(1, 2.5, 0.11)\n",
    "\n",
    "for k in eps:\n",
    "    dbs_model = c.DBSCAN(eps=k, min_samples=20, metric='euclidean')\n",
    "    dbs_labels = dbs_model.fit_predict(X)   \n",
    "    dbs_sil = m.silhouette_score(X, dbs_labels, metric='euclidean')\n",
    "    dbs_list.append(dbs_sil) "
   ]
  },
  {
   "cell_type": "code",
   "execution_count": 41,
   "id": "de855597",
   "metadata": {
    "execution": {
     "iopub.execute_input": "2023-10-03T03:00:33.386451Z",
     "iopub.status.busy": "2023-10-03T03:00:33.386451Z",
     "iopub.status.idle": "2023-10-03T03:00:33.730314Z",
     "shell.execute_reply": "2023-10-03T03:00:33.730314Z"
    },
    "papermill": {
     "duration": 0.359487,
     "end_time": "2023-10-03T03:00:33.730314",
     "exception": false,
     "start_time": "2023-10-03T03:00:33.370827",
     "status": "completed"
    },
    "tags": []
   },
   "outputs": [
    {
     "data": {
      "image/png": "[encoded data removed]",
      "text/plain": [
       "<Figure size 1440x360 with 4 Axes>"
      ]
     },
     "metadata": {
      "needs_background": "light"
     },
     "output_type": "display_data"
    }
   ],
   "source": [
    "fig, axes = plt.subplots(1, 4, figsize=(20, 5))\n",
    "fig.suptitle(\"Model Performance\\n\\n\", fontweight='bold', fontsize=18)\n",
    "\n",
    "axes[0].plot(clusters, kmeans_list, linestyle='--', marker='o', color='b')\n",
    "axes[0].set_title(\"Kmeans\", fontsize=13)\n",
    "axes[0].set_ylabel('Silhouette Score', fontsize=14)\n",
    "axes[0].set_xlabel('Number of Clusters (K)')\n",
    "\n",
    "axes[1].plot(clusters, gmm_list, linestyle='--', marker='o', color='b')\n",
    "axes[1].set_title(\"GMM\", fontsize=13)\n",
    "axes[1].set_xlabel('Number of Clusters (K)')\n",
    "\n",
    "axes[2].plot(clusters, hc_list, linestyle='--', marker='o', color='b')\n",
    "axes[2].set_title(\"Hierarchical Clustering\", fontsize=13)\n",
    "axes[2].set_xlabel('Number of Clusters (K)')\n",
    "\n",
    "axes[3].plot(eps, dbs_list, linestyle='--', marker='o', color='b')\n",
    "axes[3].set_title(\"DBScan\", fontsize=13)\n",
    "axes[3].set_xlabel('EPS')\n",
    "\n",
    "plt.show()"
   ]
  },
  {
   "cell_type": "markdown",
   "id": "402d6ffc",
   "metadata": {
    "papermill": {
     "duration": 0.0,
     "end_time": "2023-10-03T03:00:33.745912",
     "exception": false,
     "start_time": "2023-10-03T03:00:33.745912",
     "status": "completed"
    },
    "tags": []
   },
   "source": [
    "## 7.2 Results"
   ]
  },
  {
   "cell_type": "code",
   "execution_count": 42,
   "id": "e5bac98e",
   "metadata": {
    "execution": {
     "iopub.execute_input": "2023-10-03T03:00:33.777150Z",
     "iopub.status.busy": "2023-10-03T03:00:33.777150Z",
     "iopub.status.idle": "2023-10-03T03:00:33.902197Z",
     "shell.execute_reply": "2023-10-03T03:00:33.902197Z"
    },
    "papermill": {
     "duration": 0.140675,
     "end_time": "2023-10-03T03:00:33.902197",
     "exception": false,
     "start_time": "2023-10-03T03:00:33.761522",
     "status": "completed"
    },
    "tags": []
   },
   "outputs": [
    {
     "data": {
      "text/html": [
       "<style type=\"text/css\">\n",
       "#T_931f6_row0_col13, #T_931f6_row1_col12, #T_931f6_row2_col13, #T_931f6_row3_col2, #T_931f6_row3_col3, #T_931f6_row3_col4, #T_931f6_row3_col5, #T_931f6_row3_col6 {\n",
       "  background-color: green;\n",
       "}\n",
       "</style>\n",
       "<table id=\"T_931f6\">\n",
       "  <thead>\n",
       "    <tr>\n",
       "      <th class=\"blank level0\" >&nbsp;</th>\n",
       "      <th id=\"T_931f6_level0_col0\" class=\"col_heading level0 col0\" >2</th>\n",
       "      <th id=\"T_931f6_level0_col1\" class=\"col_heading level0 col1\" >3</th>\n",
       "      <th id=\"T_931f6_level0_col2\" class=\"col_heading level0 col2\" >4</th>\n",
       "      <th id=\"T_931f6_level0_col3\" class=\"col_heading level0 col3\" >5</th>\n",
       "      <th id=\"T_931f6_level0_col4\" class=\"col_heading level0 col4\" >6</th>\n",
       "      <th id=\"T_931f6_level0_col5\" class=\"col_heading level0 col5\" >7</th>\n",
       "      <th id=\"T_931f6_level0_col6\" class=\"col_heading level0 col6\" >8</th>\n",
       "      <th id=\"T_931f6_level0_col7\" class=\"col_heading level0 col7\" >9</th>\n",
       "      <th id=\"T_931f6_level0_col8\" class=\"col_heading level0 col8\" >10</th>\n",
       "      <th id=\"T_931f6_level0_col9\" class=\"col_heading level0 col9\" >11</th>\n",
       "      <th id=\"T_931f6_level0_col10\" class=\"col_heading level0 col10\" >12</th>\n",
       "      <th id=\"T_931f6_level0_col11\" class=\"col_heading level0 col11\" >13</th>\n",
       "      <th id=\"T_931f6_level0_col12\" class=\"col_heading level0 col12\" >14</th>\n",
       "      <th id=\"T_931f6_level0_col13\" class=\"col_heading level0 col13\" >15</th>\n",
       "    </tr>\n",
       "  </thead>\n",
       "  <tbody>\n",
       "    <tr>\n",
       "      <th id=\"T_931f6_level0_row0\" class=\"row_heading level0 row0\" >KMeans</th>\n",
       "      <td id=\"T_931f6_row0_col0\" class=\"data row0 col0\" >0.471875</td>\n",
       "      <td id=\"T_931f6_row0_col1\" class=\"data row0 col1\" >0.526095</td>\n",
       "      <td id=\"T_931f6_row0_col2\" class=\"data row0 col2\" >0.557351</td>\n",
       "      <td id=\"T_931f6_row0_col3\" class=\"data row0 col3\" >0.631694</td>\n",
       "      <td id=\"T_931f6_row0_col4\" class=\"data row0 col4\" >0.652671</td>\n",
       "      <td id=\"T_931f6_row0_col5\" class=\"data row0 col5\" >0.656309</td>\n",
       "      <td id=\"T_931f6_row0_col6\" class=\"data row0 col6\" >0.668944</td>\n",
       "      <td id=\"T_931f6_row0_col7\" class=\"data row0 col7\" >0.678692</td>\n",
       "      <td id=\"T_931f6_row0_col8\" class=\"data row0 col8\" >0.678576</td>\n",
       "      <td id=\"T_931f6_row0_col9\" class=\"data row0 col9\" >0.661529</td>\n",
       "      <td id=\"T_931f6_row0_col10\" class=\"data row0 col10\" >0.679908</td>\n",
       "      <td id=\"T_931f6_row0_col11\" class=\"data row0 col11\" >0.659515</td>\n",
       "      <td id=\"T_931f6_row0_col12\" class=\"data row0 col12\" >0.675548</td>\n",
       "      <td id=\"T_931f6_row0_col13\" class=\"data row0 col13\" >0.686689</td>\n",
       "    </tr>\n",
       "    <tr>\n",
       "      <th id=\"T_931f6_level0_row1\" class=\"row_heading level0 row1\" >GMM</th>\n",
       "      <td id=\"T_931f6_row1_col0\" class=\"data row1 col0\" >0.380955</td>\n",
       "      <td id=\"T_931f6_row1_col1\" class=\"data row1 col1\" >0.450412</td>\n",
       "      <td id=\"T_931f6_row1_col2\" class=\"data row1 col2\" >0.412029</td>\n",
       "      <td id=\"T_931f6_row1_col3\" class=\"data row1 col3\" >0.536929</td>\n",
       "      <td id=\"T_931f6_row1_col4\" class=\"data row1 col4\" >0.642697</td>\n",
       "      <td id=\"T_931f6_row1_col5\" class=\"data row1 col5\" >0.657594</td>\n",
       "      <td id=\"T_931f6_row1_col6\" class=\"data row1 col6\" >0.664186</td>\n",
       "      <td id=\"T_931f6_row1_col7\" class=\"data row1 col7\" >0.630200</td>\n",
       "      <td id=\"T_931f6_row1_col8\" class=\"data row1 col8\" >0.678576</td>\n",
       "      <td id=\"T_931f6_row1_col9\" class=\"data row1 col9\" >0.645802</td>\n",
       "      <td id=\"T_931f6_row1_col10\" class=\"data row1 col10\" >0.664181</td>\n",
       "      <td id=\"T_931f6_row1_col11\" class=\"data row1 col11\" >0.679321</td>\n",
       "      <td id=\"T_931f6_row1_col12\" class=\"data row1 col12\" >0.697262</td>\n",
       "      <td id=\"T_931f6_row1_col13\" class=\"data row1 col13\" >0.676977</td>\n",
       "    </tr>\n",
       "    <tr>\n",
       "      <th id=\"T_931f6_level0_row2\" class=\"row_heading level0 row2\" >HC</th>\n",
       "      <td id=\"T_931f6_row2_col0\" class=\"data row2 col0\" >0.474153</td>\n",
       "      <td id=\"T_931f6_row2_col1\" class=\"data row2 col1\" >0.515695</td>\n",
       "      <td id=\"T_931f6_row2_col2\" class=\"data row2 col2\" >0.554989</td>\n",
       "      <td id=\"T_931f6_row2_col3\" class=\"data row2 col3\" >0.631675</td>\n",
       "      <td id=\"T_931f6_row2_col4\" class=\"data row2 col4\" >0.652797</td>\n",
       "      <td id=\"T_931f6_row2_col5\" class=\"data row2 col5\" >0.655933</td>\n",
       "      <td id=\"T_931f6_row2_col6\" class=\"data row2 col6\" >0.668482</td>\n",
       "      <td id=\"T_931f6_row2_col7\" class=\"data row2 col7\" >0.665218</td>\n",
       "      <td id=\"T_931f6_row2_col8\" class=\"data row2 col8\" >0.678576</td>\n",
       "      <td id=\"T_931f6_row2_col9\" class=\"data row2 col9\" >0.661239</td>\n",
       "      <td id=\"T_931f6_row2_col10\" class=\"data row2 col10\" >0.679618</td>\n",
       "      <td id=\"T_931f6_row2_col11\" class=\"data row2 col11\" >0.662652</td>\n",
       "      <td id=\"T_931f6_row2_col12\" class=\"data row2 col12\" >0.678680</td>\n",
       "      <td id=\"T_931f6_row2_col13\" class=\"data row2 col13\" >0.690170</td>\n",
       "    </tr>\n",
       "    <tr>\n",
       "      <th id=\"T_931f6_level0_row3\" class=\"row_heading level0 row3\" >DBSCAN</th>\n",
       "      <td id=\"T_931f6_row3_col0\" class=\"data row3 col0\" >0.660106</td>\n",
       "      <td id=\"T_931f6_row3_col1\" class=\"data row3 col1\" >0.660106</td>\n",
       "      <td id=\"T_931f6_row3_col2\" class=\"data row3 col2\" >0.689405</td>\n",
       "      <td id=\"T_931f6_row3_col3\" class=\"data row3 col3\" >0.689405</td>\n",
       "      <td id=\"T_931f6_row3_col4\" class=\"data row3 col4\" >0.689405</td>\n",
       "      <td id=\"T_931f6_row3_col5\" class=\"data row3 col5\" >0.689405</td>\n",
       "      <td id=\"T_931f6_row3_col6\" class=\"data row3 col6\" >0.689405</td>\n",
       "      <td id=\"T_931f6_row3_col7\" class=\"data row3 col7\" >0.678576</td>\n",
       "      <td id=\"T_931f6_row3_col8\" class=\"data row3 col8\" >0.678771</td>\n",
       "      <td id=\"T_931f6_row3_col9\" class=\"data row3 col9\" >0.678771</td>\n",
       "      <td id=\"T_931f6_row3_col10\" class=\"data row3 col10\" >0.678771</td>\n",
       "      <td id=\"T_931f6_row3_col11\" class=\"data row3 col11\" >0.678771</td>\n",
       "      <td id=\"T_931f6_row3_col12\" class=\"data row3 col12\" >0.678771</td>\n",
       "      <td id=\"T_931f6_row3_col13\" class=\"data row3 col13\" >0.678771</td>\n",
       "    </tr>\n",
       "  </tbody>\n",
       "</table>\n"
      ],
      "text/plain": [
       "<pandas.io.formats.style.Styler at 0x1e50e115840>"
      ]
     },
     "execution_count": 42,
     "metadata": {},
     "output_type": "execute_result"
    }
   ],
   "source": [
    "df_results = pd.DataFrame( {'KMeans': kmeans_list, \n",
    "                            'GMM': gmm_list,\n",
    "                            'HC': hc_list,\n",
    "                            'DBSCAN': dbs_list }).T\n",
    "df_results.columns = clusters\n",
    "df_results.style.highlight_max( color='green', axis=1 )"
   ]
  },
  {
   "cell_type": "markdown",
   "id": "fdade0e3",
   "metadata": {
    "papermill": {
     "duration": 0.015547,
     "end_time": "2023-10-03T03:00:33.933334",
     "exception": false,
     "start_time": "2023-10-03T03:00:33.917787",
     "status": "completed"
    },
    "tags": []
   },
   "source": [
    "# 8.0  Model Training"
   ]
  },
  {
   "cell_type": "code",
   "execution_count": 43,
   "id": "bd08566a",
   "metadata": {
    "execution": {
     "iopub.execute_input": "2023-10-03T03:00:33.964583Z",
     "iopub.status.busy": "2023-10-03T03:00:33.964583Z",
     "iopub.status.idle": "2023-10-03T03:00:34.230201Z",
     "shell.execute_reply": "2023-10-03T03:00:34.230201Z"
    },
    "papermill": {
     "duration": 0.281242,
     "end_time": "2023-10-03T03:00:34.230201",
     "exception": false,
     "start_time": "2023-10-03T03:00:33.948959",
     "status": "completed"
    },
    "tags": []
   },
   "outputs": [
    {
     "name": "stdout",
     "output_type": "stream",
     "text": [
      "SS value: 0.6894046664237976\n"
     ]
    }
   ],
   "source": [
    "dbs_model = c.DBSCAN(eps=1.3, min_samples=20, metric='euclidean')\n",
    "dbs_labels = dbs_model.fit_predict(X)   \n",
    "print( 'SS value: {}'.format( m.silhouette_score( X, dbs_labels, metric='euclidean' ) ) )"
   ]
  },
  {
   "cell_type": "markdown",
   "id": "25cba383",
   "metadata": {
    "papermill": {
     "duration": 0.0,
     "end_time": "2023-10-03T03:00:34.245825",
     "exception": false,
     "start_time": "2023-10-03T03:00:34.245825",
     "status": "completed"
    },
    "tags": []
   },
   "source": [
    "# 9.0 Cluster Analysis"
   ]
  },
  {
   "cell_type": "code",
   "execution_count": 44,
   "id": "7d158555",
   "metadata": {
    "execution": {
     "iopub.execute_input": "2023-10-03T03:00:34.288579Z",
     "iopub.status.busy": "2023-10-03T03:00:34.288579Z",
     "iopub.status.idle": "2023-10-03T03:00:34.308718Z",
     "shell.execute_reply": "2023-10-03T03:00:34.308718Z"
    },
    "papermill": {
     "duration": 0.047268,
     "end_time": "2023-10-03T03:00:34.308718",
     "exception": false,
     "start_time": "2023-10-03T03:00:34.261450",
     "status": "completed"
    },
    "tags": []
   },
   "outputs": [
    {
     "data": {
      "text/html": [
       "<div>\n",
       "<style scoped>\n",
       "    .dataframe tbody tr th:only-of-type {\n",
       "        vertical-align: middle;\n",
       "    }\n",
       "\n",
       "    .dataframe tbody tr th {\n",
       "        vertical-align: top;\n",
       "    }\n",
       "\n",
       "    .dataframe thead th {\n",
       "        text-align: right;\n",
       "    }\n",
       "</style>\n",
       "<table border=\"1\" class=\"dataframe\">\n",
       "  <thead>\n",
       "    <tr style=\"text-align: right;\">\n",
       "      <th></th>\n",
       "      <th>embedding_x</th>\n",
       "      <th>embedding_y</th>\n",
       "      <th>cluster</th>\n",
       "    </tr>\n",
       "  </thead>\n",
       "  <tbody>\n",
       "    <tr>\n",
       "      <th>0</th>\n",
       "      <td>7.468872</td>\n",
       "      <td>24.347242</td>\n",
       "      <td>0</td>\n",
       "    </tr>\n",
       "    <tr>\n",
       "      <th>1</th>\n",
       "      <td>3.178928</td>\n",
       "      <td>11.180243</td>\n",
       "      <td>1</td>\n",
       "    </tr>\n",
       "    <tr>\n",
       "      <th>2</th>\n",
       "      <td>7.493805</td>\n",
       "      <td>22.881407</td>\n",
       "      <td>0</td>\n",
       "    </tr>\n",
       "    <tr>\n",
       "      <th>3</th>\n",
       "      <td>5.473876</td>\n",
       "      <td>1.241869</td>\n",
       "      <td>2</td>\n",
       "    </tr>\n",
       "    <tr>\n",
       "      <th>4</th>\n",
       "      <td>7.311502</td>\n",
       "      <td>-12.515188</td>\n",
       "      <td>3</td>\n",
       "    </tr>\n",
       "  </tbody>\n",
       "</table>\n",
       "</div>"
      ],
      "text/plain": [
       "   embedding_x  embedding_y  cluster\n",
       "0     7.468872    24.347242        0\n",
       "1     3.178928    11.180243        1\n",
       "2     7.493805    22.881407        0\n",
       "3     5.473876     1.241869        2\n",
       "4     7.311502   -12.515188        3"
      ]
     },
     "execution_count": 44,
     "metadata": {},
     "output_type": "execute_result"
    }
   ],
   "source": [
    "df9 = X.copy()\n",
    "df9['cluster'] = dbs_labels\n",
    "df9.head()"
   ]
  },
  {
   "cell_type": "markdown",
   "id": "9e84488c",
   "metadata": {
    "papermill": {
     "duration": 0.015624,
     "end_time": "2023-10-03T03:00:34.339967",
     "exception": false,
     "start_time": "2023-10-03T03:00:34.324343",
     "status": "completed"
    },
    "tags": []
   },
   "source": [
    "## 9.1. Visualization Inspection"
   ]
  },
  {
   "cell_type": "code",
   "execution_count": 45,
   "id": "2d9a7c1f",
   "metadata": {
    "execution": {
     "iopub.execute_input": "2023-10-03T03:00:34.355608Z",
     "iopub.status.busy": "2023-10-03T03:00:34.355608Z",
     "iopub.status.idle": "2023-10-03T03:00:34.761986Z",
     "shell.execute_reply": "2023-10-03T03:00:34.761986Z"
    },
    "papermill": {
     "duration": 0.422019,
     "end_time": "2023-10-03T03:00:34.761986",
     "exception": false,
     "start_time": "2023-10-03T03:00:34.339967",
     "status": "completed"
    },
    "tags": []
   },
   "outputs": [
    {
     "data": {
      "image/png": "[encoded data removed]",
      "text/plain": [
       "<Figure size 432x288 with 1 Axes>"
      ]
     },
     "metadata": {
      "needs_background": "light"
     },
     "output_type": "display_data"
    }
   ],
   "source": [
    "sns.scatterplot( x='embedding_x', y='embedding_y', hue='cluster', data=df9, palette='deep');"
   ]
  },
  {
   "cell_type": "markdown",
   "id": "750c3f13",
   "metadata": {
    "papermill": {
     "duration": 0.015703,
     "end_time": "2023-10-03T03:00:34.793173",
     "exception": false,
     "start_time": "2023-10-03T03:00:34.777470",
     "status": "completed"
    },
    "tags": []
   },
   "source": [
    "## 9.2 Cluster profile"
   ]
  },
  {
   "cell_type": "code",
   "execution_count": 46,
   "id": "6639d59e",
   "metadata": {
    "execution": {
     "iopub.execute_input": "2023-10-03T03:00:34.840040Z",
     "iopub.status.busy": "2023-10-03T03:00:34.840040Z",
     "iopub.status.idle": "2023-10-03T03:00:34.871362Z",
     "shell.execute_reply": "2023-10-03T03:00:34.871362Z"
    },
    "papermill": {
     "duration": 0.047,
     "end_time": "2023-10-03T03:00:34.871362",
     "exception": false,
     "start_time": "2023-10-03T03:00:34.824362",
     "status": "completed"
    },
    "tags": []
   },
   "outputs": [
    {
     "data": {
      "text/html": [
       "<div>\n",
       "<style scoped>\n",
       "    .dataframe tbody tr th:only-of-type {\n",
       "        vertical-align: middle;\n",
       "    }\n",
       "\n",
       "    .dataframe tbody tr th {\n",
       "        vertical-align: top;\n",
       "    }\n",
       "\n",
       "    .dataframe thead th {\n",
       "        text-align: right;\n",
       "    }\n",
       "</style>\n",
       "<table border=\"1\" class=\"dataframe\">\n",
       "  <thead>\n",
       "    <tr style=\"text-align: right;\">\n",
       "      <th></th>\n",
       "      <th>customer_id</th>\n",
       "      <th>gross_revenue</th>\n",
       "      <th>recency</th>\n",
       "      <th>frequency</th>\n",
       "      <th>items</th>\n",
       "      <th>products</th>\n",
       "      <th>returns</th>\n",
       "      <th>cluster</th>\n",
       "    </tr>\n",
       "  </thead>\n",
       "  <tbody>\n",
       "    <tr>\n",
       "      <th>0</th>\n",
       "      <td>17850</td>\n",
       "      <td>5391.21</td>\n",
       "      <td>373.0</td>\n",
       "      <td>34.0</td>\n",
       "      <td>1733.0</td>\n",
       "      <td>297.0</td>\n",
       "      <td>37.0</td>\n",
       "      <td>0</td>\n",
       "    </tr>\n",
       "    <tr>\n",
       "      <th>1</th>\n",
       "      <td>13047</td>\n",
       "      <td>3232.59</td>\n",
       "      <td>57.0</td>\n",
       "      <td>9.0</td>\n",
       "      <td>1390.0</td>\n",
       "      <td>171.0</td>\n",
       "      <td>35.0</td>\n",
       "      <td>1</td>\n",
       "    </tr>\n",
       "    <tr>\n",
       "      <th>2</th>\n",
       "      <td>12583</td>\n",
       "      <td>6705.38</td>\n",
       "      <td>3.0</td>\n",
       "      <td>15.0</td>\n",
       "      <td>5028.0</td>\n",
       "      <td>232.0</td>\n",
       "      <td>50.0</td>\n",
       "      <td>0</td>\n",
       "    </tr>\n",
       "    <tr>\n",
       "      <th>3</th>\n",
       "      <td>13748</td>\n",
       "      <td>948.25</td>\n",
       "      <td>96.0</td>\n",
       "      <td>5.0</td>\n",
       "      <td>439.0</td>\n",
       "      <td>28.0</td>\n",
       "      <td>0.0</td>\n",
       "      <td>2</td>\n",
       "    </tr>\n",
       "    <tr>\n",
       "      <th>4</th>\n",
       "      <td>15100</td>\n",
       "      <td>876.00</td>\n",
       "      <td>334.0</td>\n",
       "      <td>3.0</td>\n",
       "      <td>80.0</td>\n",
       "      <td>3.0</td>\n",
       "      <td>22.0</td>\n",
       "      <td>3</td>\n",
       "    </tr>\n",
       "  </tbody>\n",
       "</table>\n",
       "</div>"
      ],
      "text/plain": [
       "   customer_id  gross_revenue  recency  frequency   items  products  returns  \\\n",
       "0        17850        5391.21    373.0       34.0  1733.0     297.0     37.0   \n",
       "1        13047        3232.59     57.0        9.0  1390.0     171.0     35.0   \n",
       "2        12583        6705.38      3.0       15.0  5028.0     232.0     50.0   \n",
       "3        13748         948.25     96.0        5.0   439.0      28.0      0.0   \n",
       "4        15100         876.00    334.0        3.0    80.0       3.0     22.0   \n",
       "\n",
       "   cluster  \n",
       "0        0  \n",
       "1        1  \n",
       "2        0  \n",
       "3        2  \n",
       "4        3  "
      ]
     },
     "execution_count": 46,
     "metadata": {},
     "output_type": "execute_result"
    }
   ],
   "source": [
    "df92 = df4.copy()\n",
    "df92['cluster'] = dbs_labels\n",
    "df92.head()"
   ]
  },
  {
   "cell_type": "code",
   "execution_count": 47,
   "id": "68530a88",
   "metadata": {
    "execution": {
     "iopub.execute_input": "2023-10-03T03:00:34.902551Z",
     "iopub.status.busy": "2023-10-03T03:00:34.902551Z",
     "iopub.status.idle": "2023-10-03T03:00:34.933804Z",
     "shell.execute_reply": "2023-10-03T03:00:34.933804Z"
    },
    "papermill": {
     "duration": 0.046895,
     "end_time": "2023-10-03T03:00:34.933804",
     "exception": false,
     "start_time": "2023-10-03T03:00:34.886909",
     "status": "completed"
    },
    "tags": []
   },
   "outputs": [
    {
     "data": {
      "text/html": [
       "<div>\n",
       "<style scoped>\n",
       "    .dataframe tbody tr th:only-of-type {\n",
       "        vertical-align: middle;\n",
       "    }\n",
       "\n",
       "    .dataframe tbody tr th {\n",
       "        vertical-align: top;\n",
       "    }\n",
       "\n",
       "    .dataframe thead th {\n",
       "        text-align: right;\n",
       "    }\n",
       "</style>\n",
       "<table border=\"1\" class=\"dataframe\">\n",
       "  <thead>\n",
       "    <tr style=\"text-align: right;\">\n",
       "      <th></th>\n",
       "      <th>cluster</th>\n",
       "      <th>customer_id</th>\n",
       "      <th>gross_revenue</th>\n",
       "      <th>recency</th>\n",
       "      <th>frequency</th>\n",
       "      <th>items</th>\n",
       "      <th>products</th>\n",
       "      <th>returns</th>\n",
       "      <th>perc_customer</th>\n",
       "    </tr>\n",
       "  </thead>\n",
       "  <tbody>\n",
       "    <tr>\n",
       "      <th>0</th>\n",
       "      <td>0</td>\n",
       "      <td>332</td>\n",
       "      <td>12935.542500</td>\n",
       "      <td>16.123494</td>\n",
       "      <td>21.141566</td>\n",
       "      <td>7356.325301</td>\n",
       "      <td>412.237952</td>\n",
       "      <td>162.641566</td>\n",
       "      <td>7.688745</td>\n",
       "    </tr>\n",
       "    <tr>\n",
       "      <th>1</th>\n",
       "      <td>1</td>\n",
       "      <td>535</td>\n",
       "      <td>2867.133215</td>\n",
       "      <td>32.596262</td>\n",
       "      <td>7.413084</td>\n",
       "      <td>1751.364486</td>\n",
       "      <td>162.700935</td>\n",
       "      <td>42.600000</td>\n",
       "      <td>12.389995</td>\n",
       "    </tr>\n",
       "    <tr>\n",
       "      <th>2</th>\n",
       "      <td>2</td>\n",
       "      <td>238</td>\n",
       "      <td>1767.367731</td>\n",
       "      <td>42.651261</td>\n",
       "      <td>4.995798</td>\n",
       "      <td>1046.273109</td>\n",
       "      <td>109.432773</td>\n",
       "      <td>21.453782</td>\n",
       "      <td>5.511811</td>\n",
       "    </tr>\n",
       "    <tr>\n",
       "      <th>3</th>\n",
       "      <td>3</td>\n",
       "      <td>895</td>\n",
       "      <td>1282.074883</td>\n",
       "      <td>62.701676</td>\n",
       "      <td>3.437989</td>\n",
       "      <td>758.170950</td>\n",
       "      <td>77.044693</td>\n",
       "      <td>8.404469</td>\n",
       "      <td>20.727189</td>\n",
       "    </tr>\n",
       "    <tr>\n",
       "      <th>8</th>\n",
       "      <td>8</td>\n",
       "      <td>132</td>\n",
       "      <td>1239.300530</td>\n",
       "      <td>85.462121</td>\n",
       "      <td>1.787879</td>\n",
       "      <td>783.825758</td>\n",
       "      <td>115.045455</td>\n",
       "      <td>5.310606</td>\n",
       "      <td>3.056971</td>\n",
       "    </tr>\n",
       "    <tr>\n",
       "      <th>9</th>\n",
       "      <td>9</td>\n",
       "      <td>388</td>\n",
       "      <td>759.644381</td>\n",
       "      <td>85.556701</td>\n",
       "      <td>1.912371</td>\n",
       "      <td>463.987113</td>\n",
       "      <td>49.536082</td>\n",
       "      <td>6.912371</td>\n",
       "      <td>8.985642</td>\n",
       "    </tr>\n",
       "    <tr>\n",
       "      <th>7</th>\n",
       "      <td>7</td>\n",
       "      <td>274</td>\n",
       "      <td>505.135182</td>\n",
       "      <td>132.667883</td>\n",
       "      <td>1.000000</td>\n",
       "      <td>305.602190</td>\n",
       "      <td>42.777372</td>\n",
       "      <td>0.832117</td>\n",
       "      <td>6.345530</td>\n",
       "    </tr>\n",
       "    <tr>\n",
       "      <th>5</th>\n",
       "      <td>5</td>\n",
       "      <td>719</td>\n",
       "      <td>411.098345</td>\n",
       "      <td>138.488178</td>\n",
       "      <td>1.343533</td>\n",
       "      <td>257.237830</td>\n",
       "      <td>21.133519</td>\n",
       "      <td>4.566064</td>\n",
       "      <td>16.651227</td>\n",
       "    </tr>\n",
       "    <tr>\n",
       "      <th>10</th>\n",
       "      <td>10</td>\n",
       "      <td>121</td>\n",
       "      <td>376.061736</td>\n",
       "      <td>114.256198</td>\n",
       "      <td>2.000000</td>\n",
       "      <td>217.950413</td>\n",
       "      <td>7.512397</td>\n",
       "      <td>3.611570</td>\n",
       "      <td>2.802223</td>\n",
       "    </tr>\n",
       "    <tr>\n",
       "      <th>4</th>\n",
       "      <td>4</td>\n",
       "      <td>94</td>\n",
       "      <td>292.061702</td>\n",
       "      <td>173.723404</td>\n",
       "      <td>1.000000</td>\n",
       "      <td>186.212766</td>\n",
       "      <td>13.468085</td>\n",
       "      <td>1.053191</td>\n",
       "      <td>2.176934</td>\n",
       "    </tr>\n",
       "    <tr>\n",
       "      <th>6</th>\n",
       "      <td>6</td>\n",
       "      <td>590</td>\n",
       "      <td>216.870051</td>\n",
       "      <td>172.898305</td>\n",
       "      <td>1.000000</td>\n",
       "      <td>134.532203</td>\n",
       "      <td>6.510169</td>\n",
       "      <td>0.679661</td>\n",
       "      <td>13.663733</td>\n",
       "    </tr>\n",
       "  </tbody>\n",
       "</table>\n",
       "</div>"
      ],
      "text/plain": [
       "    cluster  customer_id  gross_revenue     recency  frequency        items  \\\n",
       "0         0          332   12935.542500   16.123494  21.141566  7356.325301   \n",
       "1         1          535    2867.133215   32.596262   7.413084  1751.364486   \n",
       "2         2          238    1767.367731   42.651261   4.995798  1046.273109   \n",
       "3         3          895    1282.074883   62.701676   3.437989   758.170950   \n",
       "8         8          132    1239.300530   85.462121   1.787879   783.825758   \n",
       "9         9          388     759.644381   85.556701   1.912371   463.987113   \n",
       "7         7          274     505.135182  132.667883   1.000000   305.602190   \n",
       "5         5          719     411.098345  138.488178   1.343533   257.237830   \n",
       "10       10          121     376.061736  114.256198   2.000000   217.950413   \n",
       "4         4           94     292.061702  173.723404   1.000000   186.212766   \n",
       "6         6          590     216.870051  172.898305   1.000000   134.532203   \n",
       "\n",
       "      products     returns  perc_customer  \n",
       "0   412.237952  162.641566       7.688745  \n",
       "1   162.700935   42.600000      12.389995  \n",
       "2   109.432773   21.453782       5.511811  \n",
       "3    77.044693    8.404469      20.727189  \n",
       "8   115.045455    5.310606       3.056971  \n",
       "9    49.536082    6.912371       8.985642  \n",
       "7    42.777372    0.832117       6.345530  \n",
       "5    21.133519    4.566064      16.651227  \n",
       "10    7.512397    3.611570       2.802223  \n",
       "4    13.468085    1.053191       2.176934  \n",
       "6     6.510169    0.679661      13.663733  "
      ]
     },
     "execution_count": 47,
     "metadata": {},
     "output_type": "execute_result"
    }
   ],
   "source": [
    "df_cluster = df92.groupby('cluster').agg({  'customer_id': 'count',\n",
    "                                            'gross_revenue': 'mean',\n",
    "                                            'recency': 'mean',\n",
    "                                            'frequency': 'mean',\n",
    "                                            'items': 'mean',\n",
    "                                            'products': 'mean',\n",
    "                                            'returns': 'mean'}).reset_index()\n",
    "\n",
    "df_cluster['perc_customer'] = 100 * (df_cluster['customer_id'] / df_cluster['customer_id'].sum())\n",
    "\n",
    "df_cluster = df_cluster.sort_values('gross_revenue', ascending=False)\n",
    "df_cluster"
   ]
  },
  {
   "cell_type": "code",
   "execution_count": 48,
   "id": "4d7a5a5d",
   "metadata": {
    "execution": {
     "iopub.execute_input": "2023-10-03T03:00:34.964969Z",
     "iopub.status.busy": "2023-10-03T03:00:34.964969Z",
     "iopub.status.idle": "2023-10-03T03:00:34.996338Z",
     "shell.execute_reply": "2023-10-03T03:00:34.996338Z"
    },
    "papermill": {
     "duration": 0.046982,
     "end_time": "2023-10-03T03:00:34.996338",
     "exception": false,
     "start_time": "2023-10-03T03:00:34.949356",
     "status": "completed"
    },
    "tags": []
   },
   "outputs": [
    {
     "data": {
      "text/html": [
       "<div>\n",
       "<style scoped>\n",
       "    .dataframe tbody tr th:only-of-type {\n",
       "        vertical-align: middle;\n",
       "    }\n",
       "\n",
       "    .dataframe tbody tr th {\n",
       "        vertical-align: top;\n",
       "    }\n",
       "\n",
       "    .dataframe thead th {\n",
       "        text-align: right;\n",
       "    }\n",
       "</style>\n",
       "<table border=\"1\" class=\"dataframe\">\n",
       "  <thead>\n",
       "    <tr style=\"text-align: right;\">\n",
       "      <th></th>\n",
       "      <th>cluster</th>\n",
       "      <th>customer_id</th>\n",
       "      <th>gross_revenue</th>\n",
       "      <th>recency</th>\n",
       "      <th>frequency</th>\n",
       "      <th>items</th>\n",
       "      <th>products</th>\n",
       "      <th>returns</th>\n",
       "      <th>perc_customer</th>\n",
       "    </tr>\n",
       "  </thead>\n",
       "  <tbody>\n",
       "    <tr>\n",
       "      <th>0</th>\n",
       "      <td>Insiders</td>\n",
       "      <td>332</td>\n",
       "      <td>12935.542500</td>\n",
       "      <td>16.123494</td>\n",
       "      <td>21.141566</td>\n",
       "      <td>7356.325301</td>\n",
       "      <td>412.237952</td>\n",
       "      <td>162.641566</td>\n",
       "      <td>7.688745</td>\n",
       "    </tr>\n",
       "    <tr>\n",
       "      <th>1</th>\n",
       "      <td>Loyal Customers</td>\n",
       "      <td>535</td>\n",
       "      <td>2867.133215</td>\n",
       "      <td>32.596262</td>\n",
       "      <td>7.413084</td>\n",
       "      <td>1751.364486</td>\n",
       "      <td>162.700935</td>\n",
       "      <td>42.600000</td>\n",
       "      <td>12.389995</td>\n",
       "    </tr>\n",
       "    <tr>\n",
       "      <th>2</th>\n",
       "      <td>Potentials</td>\n",
       "      <td>238</td>\n",
       "      <td>1767.367731</td>\n",
       "      <td>42.651261</td>\n",
       "      <td>4.995798</td>\n",
       "      <td>1046.273109</td>\n",
       "      <td>109.432773</td>\n",
       "      <td>21.453782</td>\n",
       "      <td>5.511811</td>\n",
       "    </tr>\n",
       "    <tr>\n",
       "      <th>3</th>\n",
       "      <td>Promising</td>\n",
       "      <td>895</td>\n",
       "      <td>1282.074883</td>\n",
       "      <td>62.701676</td>\n",
       "      <td>3.437989</td>\n",
       "      <td>758.170950</td>\n",
       "      <td>77.044693</td>\n",
       "      <td>8.404469</td>\n",
       "      <td>20.727189</td>\n",
       "    </tr>\n",
       "    <tr>\n",
       "      <th>8</th>\n",
       "      <td>Regular</td>\n",
       "      <td>132</td>\n",
       "      <td>1239.300530</td>\n",
       "      <td>85.462121</td>\n",
       "      <td>1.787879</td>\n",
       "      <td>783.825758</td>\n",
       "      <td>115.045455</td>\n",
       "      <td>5.310606</td>\n",
       "      <td>3.056971</td>\n",
       "    </tr>\n",
       "    <tr>\n",
       "      <th>9</th>\n",
       "      <td>Need Attention</td>\n",
       "      <td>388</td>\n",
       "      <td>759.644381</td>\n",
       "      <td>85.556701</td>\n",
       "      <td>1.912371</td>\n",
       "      <td>463.987113</td>\n",
       "      <td>49.536082</td>\n",
       "      <td>6.912371</td>\n",
       "      <td>8.985642</td>\n",
       "    </tr>\n",
       "    <tr>\n",
       "      <th>7</th>\n",
       "      <td>At Risk</td>\n",
       "      <td>274</td>\n",
       "      <td>505.135182</td>\n",
       "      <td>132.667883</td>\n",
       "      <td>1.000000</td>\n",
       "      <td>305.602190</td>\n",
       "      <td>42.777372</td>\n",
       "      <td>0.832117</td>\n",
       "      <td>6.345530</td>\n",
       "    </tr>\n",
       "    <tr>\n",
       "      <th>5</th>\n",
       "      <td>Sleeping</td>\n",
       "      <td>719</td>\n",
       "      <td>411.098345</td>\n",
       "      <td>138.488178</td>\n",
       "      <td>1.343533</td>\n",
       "      <td>257.237830</td>\n",
       "      <td>21.133519</td>\n",
       "      <td>4.566064</td>\n",
       "      <td>16.651227</td>\n",
       "    </tr>\n",
       "    <tr>\n",
       "      <th>10</th>\n",
       "      <td>Hibernating</td>\n",
       "      <td>121</td>\n",
       "      <td>376.061736</td>\n",
       "      <td>114.256198</td>\n",
       "      <td>2.000000</td>\n",
       "      <td>217.950413</td>\n",
       "      <td>7.512397</td>\n",
       "      <td>3.611570</td>\n",
       "      <td>2.802223</td>\n",
       "    </tr>\n",
       "    <tr>\n",
       "      <th>4</th>\n",
       "      <td>About to lose</td>\n",
       "      <td>94</td>\n",
       "      <td>292.061702</td>\n",
       "      <td>173.723404</td>\n",
       "      <td>1.000000</td>\n",
       "      <td>186.212766</td>\n",
       "      <td>13.468085</td>\n",
       "      <td>1.053191</td>\n",
       "      <td>2.176934</td>\n",
       "    </tr>\n",
       "    <tr>\n",
       "      <th>6</th>\n",
       "      <td>Losing</td>\n",
       "      <td>590</td>\n",
       "      <td>216.870051</td>\n",
       "      <td>172.898305</td>\n",
       "      <td>1.000000</td>\n",
       "      <td>134.532203</td>\n",
       "      <td>6.510169</td>\n",
       "      <td>0.679661</td>\n",
       "      <td>13.663733</td>\n",
       "    </tr>\n",
       "  </tbody>\n",
       "</table>\n",
       "</div>"
      ],
      "text/plain": [
       "            cluster  customer_id  gross_revenue     recency  frequency  \\\n",
       "0          Insiders          332   12935.542500   16.123494  21.141566   \n",
       "1   Loyal Customers          535    2867.133215   32.596262   7.413084   \n",
       "2        Potentials          238    1767.367731   42.651261   4.995798   \n",
       "3         Promising          895    1282.074883   62.701676   3.437989   \n",
       "8           Regular          132    1239.300530   85.462121   1.787879   \n",
       "9    Need Attention          388     759.644381   85.556701   1.912371   \n",
       "7           At Risk          274     505.135182  132.667883   1.000000   \n",
       "5          Sleeping          719     411.098345  138.488178   1.343533   \n",
       "10      Hibernating          121     376.061736  114.256198   2.000000   \n",
       "4     About to lose           94     292.061702  173.723404   1.000000   \n",
       "6            Losing          590     216.870051  172.898305   1.000000   \n",
       "\n",
       "          items    products     returns  perc_customer  \n",
       "0   7356.325301  412.237952  162.641566       7.688745  \n",
       "1   1751.364486  162.700935   42.600000      12.389995  \n",
       "2   1046.273109  109.432773   21.453782       5.511811  \n",
       "3    758.170950   77.044693    8.404469      20.727189  \n",
       "8    783.825758  115.045455    5.310606       3.056971  \n",
       "9    463.987113   49.536082    6.912371       8.985642  \n",
       "7    305.602190   42.777372    0.832117       6.345530  \n",
       "5    257.237830   21.133519    4.566064      16.651227  \n",
       "10   217.950413    7.512397    3.611570       2.802223  \n",
       "4    186.212766   13.468085    1.053191       2.176934  \n",
       "6    134.532203    6.510169    0.679661      13.663733  "
      ]
     },
     "execution_count": 48,
     "metadata": {},
     "output_type": "execute_result"
    }
   ],
   "source": [
    "# rename clusters\n",
    "df_cluster['cluster'] = df_cluster['cluster'].apply(cluster_label)\n",
    "df_cluster.sort_values('gross_revenue', ascending=False)"
   ]
  },
  {
   "cell_type": "markdown",
   "id": "37d47826",
   "metadata": {
    "papermill": {
     "duration": 0.01558,
     "end_time": "2023-10-03T03:00:35.027497",
     "exception": false,
     "start_time": "2023-10-03T03:00:35.011917",
     "status": "completed"
    },
    "tags": []
   },
   "source": [
    "# 10.0 Deploy"
   ]
  },
  {
   "cell_type": "code",
   "execution_count": 49,
   "id": "fc0b968f",
   "metadata": {
    "execution": {
     "iopub.execute_input": "2023-10-03T03:00:35.074416Z",
     "iopub.status.busy": "2023-10-03T03:00:35.074416Z",
     "iopub.status.idle": "2023-10-03T03:00:35.230715Z",
     "shell.execute_reply": "2023-10-03T03:00:35.230715Z"
    },
    "papermill": {
     "duration": 0.171921,
     "end_time": "2023-10-03T03:00:35.230715",
     "exception": false,
     "start_time": "2023-10-03T03:00:35.058794",
     "status": "completed"
    },
    "tags": []
   },
   "outputs": [],
   "source": [
    "from sqlalchemy import create_engine"
   ]
  },
  {
   "cell_type": "code",
   "execution_count": 50,
   "id": "2586e9ab",
   "metadata": {
    "execution": {
     "iopub.execute_input": "2023-10-03T03:00:35.261905Z",
     "iopub.status.busy": "2023-10-03T03:00:35.261905Z",
     "iopub.status.idle": "2023-10-03T03:00:35.293221Z",
     "shell.execute_reply": "2023-10-03T03:00:35.293221Z"
    },
    "papermill": {
     "duration": 0.046924,
     "end_time": "2023-10-03T03:00:35.293221",
     "exception": false,
     "start_time": "2023-10-03T03:00:35.246297",
     "status": "completed"
    },
    "tags": []
   },
   "outputs": [
    {
     "data": {
      "text/plain": [
       "customer_id        int64\n",
       "gross_revenue    float64\n",
       "recency          float64\n",
       "frequency        float64\n",
       "items            float64\n",
       "products         float64\n",
       "returns          float64\n",
       "cluster            int64\n",
       "dtype: object"
      ]
     },
     "execution_count": 50,
     "metadata": {},
     "output_type": "execute_result"
    }
   ],
   "source": [
    "df92.dtypes"
   ]
  },
  {
   "cell_type": "code",
   "execution_count": 51,
   "id": "fcbc25fa",
   "metadata": {
    "execution": {
     "iopub.execute_input": "2023-10-03T03:00:35.324421Z",
     "iopub.status.busy": "2023-10-03T03:00:35.324421Z",
     "iopub.status.idle": "2023-10-03T03:00:35.355705Z",
     "shell.execute_reply": "2023-10-03T03:00:35.355705Z"
    },
    "papermill": {
     "duration": 0.04691,
     "end_time": "2023-10-03T03:00:35.355705",
     "exception": false,
     "start_time": "2023-10-03T03:00:35.308795",
     "status": "completed"
    },
    "tags": []
   },
   "outputs": [],
   "source": [
    "df92['recency'] = df92['recency'].astype( 'int64' )\n",
    "df92['frequency'] = df92['frequency'].astype( 'int64' )\n",
    "df92['items'] = df92['items'].astype( 'int64' )\n",
    "df92['products'] = df92['products'].astype( 'int64' )\n",
    "df92['returns'] = df92['returns'].astype( 'int64' )"
   ]
  },
  {
   "cell_type": "code",
   "execution_count": 52,
   "id": "cc5bab61",
   "metadata": {
    "execution": {
     "iopub.execute_input": "2023-10-03T03:00:35.402543Z",
     "iopub.status.busy": "2023-10-03T03:00:35.402543Z",
     "iopub.status.idle": "2023-10-03T03:00:35.418235Z",
     "shell.execute_reply": "2023-10-03T03:00:35.418235Z"
    },
    "papermill": {
     "duration": 0.047004,
     "end_time": "2023-10-03T03:00:35.418235",
     "exception": false,
     "start_time": "2023-10-03T03:00:35.371231",
     "status": "completed"
    },
    "tags": []
   },
   "outputs": [
    {
     "data": {
      "text/html": [
       "<div>\n",
       "<style scoped>\n",
       "    .dataframe tbody tr th:only-of-type {\n",
       "        vertical-align: middle;\n",
       "    }\n",
       "\n",
       "    .dataframe tbody tr th {\n",
       "        vertical-align: top;\n",
       "    }\n",
       "\n",
       "    .dataframe thead th {\n",
       "        text-align: right;\n",
       "    }\n",
       "</style>\n",
       "<table border=\"1\" class=\"dataframe\">\n",
       "  <thead>\n",
       "    <tr style=\"text-align: right;\">\n",
       "      <th></th>\n",
       "      <th>customer_id</th>\n",
       "      <th>gross_revenue</th>\n",
       "      <th>recency</th>\n",
       "      <th>frequency</th>\n",
       "      <th>items</th>\n",
       "      <th>products</th>\n",
       "      <th>returns</th>\n",
       "      <th>cluster</th>\n",
       "    </tr>\n",
       "  </thead>\n",
       "  <tbody>\n",
       "    <tr>\n",
       "      <th>0</th>\n",
       "      <td>17850</td>\n",
       "      <td>5391.21</td>\n",
       "      <td>373</td>\n",
       "      <td>34</td>\n",
       "      <td>1733</td>\n",
       "      <td>297</td>\n",
       "      <td>37</td>\n",
       "      <td>0</td>\n",
       "    </tr>\n",
       "    <tr>\n",
       "      <th>1</th>\n",
       "      <td>13047</td>\n",
       "      <td>3232.59</td>\n",
       "      <td>57</td>\n",
       "      <td>9</td>\n",
       "      <td>1390</td>\n",
       "      <td>171</td>\n",
       "      <td>35</td>\n",
       "      <td>1</td>\n",
       "    </tr>\n",
       "    <tr>\n",
       "      <th>2</th>\n",
       "      <td>12583</td>\n",
       "      <td>6705.38</td>\n",
       "      <td>3</td>\n",
       "      <td>15</td>\n",
       "      <td>5028</td>\n",
       "      <td>232</td>\n",
       "      <td>50</td>\n",
       "      <td>0</td>\n",
       "    </tr>\n",
       "    <tr>\n",
       "      <th>3</th>\n",
       "      <td>13748</td>\n",
       "      <td>948.25</td>\n",
       "      <td>96</td>\n",
       "      <td>5</td>\n",
       "      <td>439</td>\n",
       "      <td>28</td>\n",
       "      <td>0</td>\n",
       "      <td>2</td>\n",
       "    </tr>\n",
       "    <tr>\n",
       "      <th>4</th>\n",
       "      <td>15100</td>\n",
       "      <td>876.00</td>\n",
       "      <td>334</td>\n",
       "      <td>3</td>\n",
       "      <td>80</td>\n",
       "      <td>3</td>\n",
       "      <td>22</td>\n",
       "      <td>3</td>\n",
       "    </tr>\n",
       "  </tbody>\n",
       "</table>\n",
       "</div>"
      ],
      "text/plain": [
       "   customer_id  gross_revenue  recency  frequency  items  products  returns  \\\n",
       "0        17850        5391.21      373         34   1733       297       37   \n",
       "1        13047        3232.59       57          9   1390       171       35   \n",
       "2        12583        6705.38        3         15   5028       232       50   \n",
       "3        13748         948.25       96          5    439        28        0   \n",
       "4        15100         876.00      334          3     80         3       22   \n",
       "\n",
       "   cluster  \n",
       "0        0  \n",
       "1        1  \n",
       "2        0  \n",
       "3        2  \n",
       "4        3  "
      ]
     },
     "execution_count": 52,
     "metadata": {},
     "output_type": "execute_result"
    }
   ],
   "source": [
    "df92.head()"
   ]
  },
  {
   "cell_type": "markdown",
   "id": "973a6fda",
   "metadata": {
    "tags": [
     "papermill-error-cell-tag"
    ]
   },
   "source": [
    "<span id=\"papermill-error-cell\" style=\"color:red; font-family:Helvetica Neue, Helvetica, Arial, sans-serif; font-size:2em;\">Execution using papermill encountered an exception here and stopped:</span>"
   ]
  },
  {
   "cell_type": "code",
   "execution_count": 53,
   "id": "288f60ea",
   "metadata": {
    "execution": {
     "iopub.execute_input": "2023-10-03T03:00:35.449438Z",
     "iopub.status.busy": "2023-10-03T03:00:35.449438Z",
     "iopub.status.idle": "2023-10-03T03:00:36.699487Z",
     "shell.execute_reply": "2023-10-03T03:00:36.699487Z"
    },
    "papermill": {
     "duration": 1.265677,
     "end_time": "2023-10-03T03:00:36.699487",
     "exception": true,
     "start_time": "2023-10-03T03:00:35.433810",
     "status": "failed"
    },
    "tags": []
   },
   "outputs": [
    {
     "ename": "OperationalError",
     "evalue": "(sqlite3.OperationalError) table insiders already exists\n[SQL: \n\n        CREATE TABLE insiders (\n            customer_id     INTEGER,\n            gross_revenue   REAL,\n            recency         INTEGER,\n            frequency       INTEGER,\n            items           INTEGER,\n            products        INTEGER,\n            returns         INTEGER,\n            cluster         INTEGER\n        )\n\n]\n(Background on this error at: https://sqlalche.me/e/14/e3q8)",
     "output_type": "error",
     "traceback": [
      "\u001b[1;31m---------------------------------------------------------------------------\u001b[0m",
      "\u001b[1;31mOperationalError\u001b[0m                          Traceback (most recent call last)",
      "File \u001b[1;32m~\\anaconda3\\envs\\env1\\lib\\site-packages\\sqlalchemy\\engine\\base.py:1808\u001b[0m, in \u001b[0;36mConnection._execute_context\u001b[1;34m(self, dialect, constructor, statement, parameters, execution_options, *args, **kw)\u001b[0m\n\u001b[0;32m   1807\u001b[0m     \u001b[38;5;28;01mif\u001b[39;00m \u001b[38;5;129;01mnot\u001b[39;00m evt_handled:\n\u001b[1;32m-> 1808\u001b[0m         \u001b[38;5;28;43mself\u001b[39;49m\u001b[38;5;241;43m.\u001b[39;49m\u001b[43mdialect\u001b[49m\u001b[38;5;241;43m.\u001b[39;49m\u001b[43mdo_execute\u001b[49m\u001b[43m(\u001b[49m\n\u001b[0;32m   1809\u001b[0m \u001b[43m            \u001b[49m\u001b[43mcursor\u001b[49m\u001b[43m,\u001b[49m\u001b[43m \u001b[49m\u001b[43mstatement\u001b[49m\u001b[43m,\u001b[49m\u001b[43m \u001b[49m\u001b[43mparameters\u001b[49m\u001b[43m,\u001b[49m\u001b[43m \u001b[49m\u001b[43mcontext\u001b[49m\n\u001b[0;32m   1810\u001b[0m \u001b[43m        \u001b[49m\u001b[43m)\u001b[49m\n\u001b[0;32m   1812\u001b[0m \u001b[38;5;28;01mif\u001b[39;00m \u001b[38;5;28mself\u001b[39m\u001b[38;5;241m.\u001b[39m_has_events \u001b[38;5;129;01mor\u001b[39;00m \u001b[38;5;28mself\u001b[39m\u001b[38;5;241m.\u001b[39mengine\u001b[38;5;241m.\u001b[39m_has_events:\n",
      "File \u001b[1;32m~\\anaconda3\\envs\\env1\\lib\\site-packages\\sqlalchemy\\engine\\default.py:732\u001b[0m, in \u001b[0;36mDefaultDialect.do_execute\u001b[1;34m(self, cursor, statement, parameters, context)\u001b[0m\n\u001b[0;32m    731\u001b[0m \u001b[38;5;28;01mdef\u001b[39;00m \u001b[38;5;21mdo_execute\u001b[39m(\u001b[38;5;28mself\u001b[39m, cursor, statement, parameters, context\u001b[38;5;241m=\u001b[39m\u001b[38;5;28;01mNone\u001b[39;00m):\n\u001b[1;32m--> 732\u001b[0m     \u001b[43mcursor\u001b[49m\u001b[38;5;241;43m.\u001b[39;49m\u001b[43mexecute\u001b[49m\u001b[43m(\u001b[49m\u001b[43mstatement\u001b[49m\u001b[43m,\u001b[49m\u001b[43m \u001b[49m\u001b[43mparameters\u001b[49m\u001b[43m)\u001b[49m\n",
      "\u001b[1;31mOperationalError\u001b[0m: table insiders already exists",
      "\nThe above exception was the direct cause of the following exception:\n",
      "\u001b[1;31mOperationalError\u001b[0m                          Traceback (most recent call last)",
      "Input \u001b[1;32mIn [53]\u001b[0m, in \u001b[0;36m<cell line: 26>\u001b[1;34m()\u001b[0m\n\u001b[0;32m      4\u001b[0m \u001b[38;5;66;03m# drop table\u001b[39;00m\n\u001b[0;32m      5\u001b[0m \u001b[38;5;66;03m# query_drop = \"\"\"\u001b[39;00m\n\u001b[0;32m      6\u001b[0m \u001b[38;5;66;03m#         DROP TABLE insiders\u001b[39;00m\n\u001b[1;32m   (...)\u001b[0m\n\u001b[0;32m      9\u001b[0m \n\u001b[0;32m     10\u001b[0m \u001b[38;5;66;03m# create table\u001b[39;00m\n\u001b[0;32m     11\u001b[0m query_create \u001b[38;5;241m=\u001b[39m \u001b[38;5;124m\"\"\"\u001b[39m\n\u001b[0;32m     12\u001b[0m \n\u001b[0;32m     13\u001b[0m \u001b[38;5;124m        CREATE TABLE insiders (\u001b[39m\n\u001b[1;32m   (...)\u001b[0m\n\u001b[0;32m     23\u001b[0m \n\u001b[0;32m     24\u001b[0m \u001b[38;5;124m\"\"\"\u001b[39m\n\u001b[1;32m---> 26\u001b[0m \u001b[43mconn\u001b[49m\u001b[38;5;241;43m.\u001b[39;49m\u001b[43mexecute\u001b[49m\u001b[43m(\u001b[49m\u001b[43mquery_create\u001b[49m\u001b[43m)\u001b[49m\n",
      "File \u001b[1;32m<string>:2\u001b[0m, in \u001b[0;36mexecute\u001b[1;34m(self, statement, *multiparams, **params)\u001b[0m\n",
      "File \u001b[1;32m~\\anaconda3\\envs\\env1\\lib\\site-packages\\sqlalchemy\\util\\deprecations.py:401\u001b[0m, in \u001b[0;36m_decorate_with_warning.<locals>.warned\u001b[1;34m(fn, *args, **kwargs)\u001b[0m\n\u001b[0;32m    399\u001b[0m \u001b[38;5;28;01mif\u001b[39;00m \u001b[38;5;129;01mnot\u001b[39;00m skip_warning:\n\u001b[0;32m    400\u001b[0m     _warn_with_version(message, version, wtype, stacklevel\u001b[38;5;241m=\u001b[39m\u001b[38;5;241m3\u001b[39m)\n\u001b[1;32m--> 401\u001b[0m \u001b[38;5;28;01mreturn\u001b[39;00m fn(\u001b[38;5;241m*\u001b[39margs, \u001b[38;5;241m*\u001b[39m\u001b[38;5;241m*\u001b[39mkwargs)\n",
      "File \u001b[1;32m~\\anaconda3\\envs\\env1\\lib\\site-packages\\sqlalchemy\\engine\\base.py:3152\u001b[0m, in \u001b[0;36mEngine.execute\u001b[1;34m(self, statement, *multiparams, **params)\u001b[0m\n\u001b[0;32m   3134\u001b[0m \u001b[38;5;124;03m\"\"\"Executes the given construct and returns a\u001b[39;00m\n\u001b[0;32m   3135\u001b[0m \u001b[38;5;124;03m:class:`_engine.CursorResult`.\u001b[39;00m\n\u001b[0;32m   3136\u001b[0m \n\u001b[1;32m   (...)\u001b[0m\n\u001b[0;32m   3149\u001b[0m \n\u001b[0;32m   3150\u001b[0m \u001b[38;5;124;03m\"\"\"\u001b[39;00m\n\u001b[0;32m   3151\u001b[0m connection \u001b[38;5;241m=\u001b[39m \u001b[38;5;28mself\u001b[39m\u001b[38;5;241m.\u001b[39mconnect(close_with_result\u001b[38;5;241m=\u001b[39m\u001b[38;5;28;01mTrue\u001b[39;00m)\n\u001b[1;32m-> 3152\u001b[0m \u001b[38;5;28;01mreturn\u001b[39;00m connection\u001b[38;5;241m.\u001b[39mexecute(statement, \u001b[38;5;241m*\u001b[39mmultiparams, \u001b[38;5;241m*\u001b[39m\u001b[38;5;241m*\u001b[39mparams)\n",
      "File \u001b[1;32m~\\anaconda3\\envs\\env1\\lib\\site-packages\\sqlalchemy\\engine\\base.py:1280\u001b[0m, in \u001b[0;36mConnection.execute\u001b[1;34m(self, statement, *multiparams, **params)\u001b[0m\n\u001b[0;32m   1271\u001b[0m \u001b[38;5;28;01mif\u001b[39;00m \u001b[38;5;28misinstance\u001b[39m(statement, util\u001b[38;5;241m.\u001b[39mstring_types):\n\u001b[0;32m   1272\u001b[0m     util\u001b[38;5;241m.\u001b[39mwarn_deprecated_20(\n\u001b[0;32m   1273\u001b[0m         \u001b[38;5;124m\"\u001b[39m\u001b[38;5;124mPassing a string to Connection.execute() is \u001b[39m\u001b[38;5;124m\"\u001b[39m\n\u001b[0;32m   1274\u001b[0m         \u001b[38;5;124m\"\u001b[39m\u001b[38;5;124mdeprecated and will be removed in version 2.0.  Use the \u001b[39m\u001b[38;5;124m\"\u001b[39m\n\u001b[1;32m   (...)\u001b[0m\n\u001b[0;32m   1277\u001b[0m         \u001b[38;5;124m\"\u001b[39m\u001b[38;5;124mdriver-level SQL string.\u001b[39m\u001b[38;5;124m\"\u001b[39m\n\u001b[0;32m   1278\u001b[0m     )\n\u001b[1;32m-> 1280\u001b[0m     \u001b[38;5;28;01mreturn\u001b[39;00m \u001b[38;5;28;43mself\u001b[39;49m\u001b[38;5;241;43m.\u001b[39;49m\u001b[43m_exec_driver_sql\u001b[49m\u001b[43m(\u001b[49m\n\u001b[0;32m   1281\u001b[0m \u001b[43m        \u001b[49m\u001b[43mstatement\u001b[49m\u001b[43m,\u001b[49m\n\u001b[0;32m   1282\u001b[0m \u001b[43m        \u001b[49m\u001b[43mmultiparams\u001b[49m\u001b[43m,\u001b[49m\n\u001b[0;32m   1283\u001b[0m \u001b[43m        \u001b[49m\u001b[43mparams\u001b[49m\u001b[43m,\u001b[49m\n\u001b[0;32m   1284\u001b[0m \u001b[43m        \u001b[49m\u001b[43m_EMPTY_EXECUTION_OPTS\u001b[49m\u001b[43m,\u001b[49m\n\u001b[0;32m   1285\u001b[0m \u001b[43m        \u001b[49m\u001b[43mfuture\u001b[49m\u001b[38;5;241;43m=\u001b[39;49m\u001b[38;5;28;43;01mFalse\u001b[39;49;00m\u001b[43m,\u001b[49m\n\u001b[0;32m   1286\u001b[0m \u001b[43m    \u001b[49m\u001b[43m)\u001b[49m\n\u001b[0;32m   1288\u001b[0m \u001b[38;5;28;01mtry\u001b[39;00m:\n\u001b[0;32m   1289\u001b[0m     meth \u001b[38;5;241m=\u001b[39m statement\u001b[38;5;241m.\u001b[39m_execute_on_connection\n",
      "File \u001b[1;32m~\\anaconda3\\envs\\env1\\lib\\site-packages\\sqlalchemy\\engine\\base.py:1584\u001b[0m, in \u001b[0;36mConnection._exec_driver_sql\u001b[1;34m(self, statement, multiparams, params, execution_options, future)\u001b[0m\n\u001b[0;32m   1574\u001b[0m         (\n\u001b[0;32m   1575\u001b[0m             statement,\n\u001b[0;32m   1576\u001b[0m             distilled_params,\n\u001b[1;32m   (...)\u001b[0m\n\u001b[0;32m   1580\u001b[0m             statement, distilled_parameters, execution_options\n\u001b[0;32m   1581\u001b[0m         )\n\u001b[0;32m   1583\u001b[0m dialect \u001b[38;5;241m=\u001b[39m \u001b[38;5;28mself\u001b[39m\u001b[38;5;241m.\u001b[39mdialect\n\u001b[1;32m-> 1584\u001b[0m ret \u001b[38;5;241m=\u001b[39m \u001b[38;5;28;43mself\u001b[39;49m\u001b[38;5;241;43m.\u001b[39;49m\u001b[43m_execute_context\u001b[49m\u001b[43m(\u001b[49m\n\u001b[0;32m   1585\u001b[0m \u001b[43m    \u001b[49m\u001b[43mdialect\u001b[49m\u001b[43m,\u001b[49m\n\u001b[0;32m   1586\u001b[0m \u001b[43m    \u001b[49m\u001b[43mdialect\u001b[49m\u001b[38;5;241;43m.\u001b[39;49m\u001b[43mexecution_ctx_cls\u001b[49m\u001b[38;5;241;43m.\u001b[39;49m\u001b[43m_init_statement\u001b[49m\u001b[43m,\u001b[49m\n\u001b[0;32m   1587\u001b[0m \u001b[43m    \u001b[49m\u001b[43mstatement\u001b[49m\u001b[43m,\u001b[49m\n\u001b[0;32m   1588\u001b[0m \u001b[43m    \u001b[49m\u001b[43mdistilled_parameters\u001b[49m\u001b[43m,\u001b[49m\n\u001b[0;32m   1589\u001b[0m \u001b[43m    \u001b[49m\u001b[43mexecution_options\u001b[49m\u001b[43m,\u001b[49m\n\u001b[0;32m   1590\u001b[0m \u001b[43m    \u001b[49m\u001b[43mstatement\u001b[49m\u001b[43m,\u001b[49m\n\u001b[0;32m   1591\u001b[0m \u001b[43m    \u001b[49m\u001b[43mdistilled_parameters\u001b[49m\u001b[43m,\u001b[49m\n\u001b[0;32m   1592\u001b[0m \u001b[43m\u001b[49m\u001b[43m)\u001b[49m\n\u001b[0;32m   1594\u001b[0m \u001b[38;5;28;01mif\u001b[39;00m \u001b[38;5;129;01mnot\u001b[39;00m future:\n\u001b[0;32m   1595\u001b[0m     \u001b[38;5;28;01mif\u001b[39;00m \u001b[38;5;28mself\u001b[39m\u001b[38;5;241m.\u001b[39m_has_events \u001b[38;5;129;01mor\u001b[39;00m \u001b[38;5;28mself\u001b[39m\u001b[38;5;241m.\u001b[39mengine\u001b[38;5;241m.\u001b[39m_has_events:\n",
      "File \u001b[1;32m~\\anaconda3\\envs\\env1\\lib\\site-packages\\sqlalchemy\\engine\\base.py:1851\u001b[0m, in \u001b[0;36mConnection._execute_context\u001b[1;34m(self, dialect, constructor, statement, parameters, execution_options, *args, **kw)\u001b[0m\n\u001b[0;32m   1848\u001b[0m             branched\u001b[38;5;241m.\u001b[39mclose()\n\u001b[0;32m   1850\u001b[0m \u001b[38;5;28;01mexcept\u001b[39;00m \u001b[38;5;167;01mBaseException\u001b[39;00m \u001b[38;5;28;01mas\u001b[39;00m e:\n\u001b[1;32m-> 1851\u001b[0m     \u001b[38;5;28;43mself\u001b[39;49m\u001b[38;5;241;43m.\u001b[39;49m\u001b[43m_handle_dbapi_exception\u001b[49m\u001b[43m(\u001b[49m\n\u001b[0;32m   1852\u001b[0m \u001b[43m        \u001b[49m\u001b[43me\u001b[49m\u001b[43m,\u001b[49m\u001b[43m \u001b[49m\u001b[43mstatement\u001b[49m\u001b[43m,\u001b[49m\u001b[43m \u001b[49m\u001b[43mparameters\u001b[49m\u001b[43m,\u001b[49m\u001b[43m \u001b[49m\u001b[43mcursor\u001b[49m\u001b[43m,\u001b[49m\u001b[43m \u001b[49m\u001b[43mcontext\u001b[49m\n\u001b[0;32m   1853\u001b[0m \u001b[43m    \u001b[49m\u001b[43m)\u001b[49m\n\u001b[0;32m   1855\u001b[0m \u001b[38;5;28;01mreturn\u001b[39;00m result\n",
      "File \u001b[1;32m~\\anaconda3\\envs\\env1\\lib\\site-packages\\sqlalchemy\\engine\\base.py:2032\u001b[0m, in \u001b[0;36mConnection._handle_dbapi_exception\u001b[1;34m(self, e, statement, parameters, cursor, context)\u001b[0m\n\u001b[0;32m   2030\u001b[0m     util\u001b[38;5;241m.\u001b[39mraise_(newraise, with_traceback\u001b[38;5;241m=\u001b[39mexc_info[\u001b[38;5;241m2\u001b[39m], from_\u001b[38;5;241m=\u001b[39me)\n\u001b[0;32m   2031\u001b[0m \u001b[38;5;28;01melif\u001b[39;00m should_wrap:\n\u001b[1;32m-> 2032\u001b[0m     \u001b[43mutil\u001b[49m\u001b[38;5;241;43m.\u001b[39;49m\u001b[43mraise_\u001b[49m\u001b[43m(\u001b[49m\n\u001b[0;32m   2033\u001b[0m \u001b[43m        \u001b[49m\u001b[43msqlalchemy_exception\u001b[49m\u001b[43m,\u001b[49m\u001b[43m \u001b[49m\u001b[43mwith_traceback\u001b[49m\u001b[38;5;241;43m=\u001b[39;49m\u001b[43mexc_info\u001b[49m\u001b[43m[\u001b[49m\u001b[38;5;241;43m2\u001b[39;49m\u001b[43m]\u001b[49m\u001b[43m,\u001b[49m\u001b[43m \u001b[49m\u001b[43mfrom_\u001b[49m\u001b[38;5;241;43m=\u001b[39;49m\u001b[43me\u001b[49m\n\u001b[0;32m   2034\u001b[0m \u001b[43m    \u001b[49m\u001b[43m)\u001b[49m\n\u001b[0;32m   2035\u001b[0m \u001b[38;5;28;01melse\u001b[39;00m:\n\u001b[0;32m   2036\u001b[0m     util\u001b[38;5;241m.\u001b[39mraise_(exc_info[\u001b[38;5;241m1\u001b[39m], with_traceback\u001b[38;5;241m=\u001b[39mexc_info[\u001b[38;5;241m2\u001b[39m])\n",
      "File \u001b[1;32m~\\anaconda3\\envs\\env1\\lib\\site-packages\\sqlalchemy\\util\\compat.py:207\u001b[0m, in \u001b[0;36mraise_\u001b[1;34m(***failed resolving arguments***)\u001b[0m\n\u001b[0;32m    204\u001b[0m     exception\u001b[38;5;241m.\u001b[39m__cause__ \u001b[38;5;241m=\u001b[39m replace_context\n\u001b[0;32m    206\u001b[0m \u001b[38;5;28;01mtry\u001b[39;00m:\n\u001b[1;32m--> 207\u001b[0m     \u001b[38;5;28;01mraise\u001b[39;00m exception\n\u001b[0;32m    208\u001b[0m \u001b[38;5;28;01mfinally\u001b[39;00m:\n\u001b[0;32m    209\u001b[0m     \u001b[38;5;66;03m# credit to\u001b[39;00m\n\u001b[0;32m    210\u001b[0m     \u001b[38;5;66;03m# https://cosmicpercolator.com/2016/01/13/exception-leaks-in-python-2-and-3/\u001b[39;00m\n\u001b[0;32m    211\u001b[0m     \u001b[38;5;66;03m# as the __traceback__ object creates a cycle\u001b[39;00m\n\u001b[0;32m    212\u001b[0m     \u001b[38;5;28;01mdel\u001b[39;00m exception, replace_context, from_, with_traceback\n",
      "File \u001b[1;32m~\\anaconda3\\envs\\env1\\lib\\site-packages\\sqlalchemy\\engine\\base.py:1808\u001b[0m, in \u001b[0;36mConnection._execute_context\u001b[1;34m(self, dialect, constructor, statement, parameters, execution_options, *args, **kw)\u001b[0m\n\u001b[0;32m   1806\u001b[0m                 \u001b[38;5;28;01mbreak\u001b[39;00m\n\u001b[0;32m   1807\u001b[0m     \u001b[38;5;28;01mif\u001b[39;00m \u001b[38;5;129;01mnot\u001b[39;00m evt_handled:\n\u001b[1;32m-> 1808\u001b[0m         \u001b[38;5;28;43mself\u001b[39;49m\u001b[38;5;241;43m.\u001b[39;49m\u001b[43mdialect\u001b[49m\u001b[38;5;241;43m.\u001b[39;49m\u001b[43mdo_execute\u001b[49m\u001b[43m(\u001b[49m\n\u001b[0;32m   1809\u001b[0m \u001b[43m            \u001b[49m\u001b[43mcursor\u001b[49m\u001b[43m,\u001b[49m\u001b[43m \u001b[49m\u001b[43mstatement\u001b[49m\u001b[43m,\u001b[49m\u001b[43m \u001b[49m\u001b[43mparameters\u001b[49m\u001b[43m,\u001b[49m\u001b[43m \u001b[49m\u001b[43mcontext\u001b[49m\n\u001b[0;32m   1810\u001b[0m \u001b[43m        \u001b[49m\u001b[43m)\u001b[49m\n\u001b[0;32m   1812\u001b[0m \u001b[38;5;28;01mif\u001b[39;00m \u001b[38;5;28mself\u001b[39m\u001b[38;5;241m.\u001b[39m_has_events \u001b[38;5;129;01mor\u001b[39;00m \u001b[38;5;28mself\u001b[39m\u001b[38;5;241m.\u001b[39mengine\u001b[38;5;241m.\u001b[39m_has_events:\n\u001b[0;32m   1813\u001b[0m     \u001b[38;5;28mself\u001b[39m\u001b[38;5;241m.\u001b[39mdispatch\u001b[38;5;241m.\u001b[39mafter_cursor_execute(\n\u001b[0;32m   1814\u001b[0m         \u001b[38;5;28mself\u001b[39m,\n\u001b[0;32m   1815\u001b[0m         cursor,\n\u001b[1;32m   (...)\u001b[0m\n\u001b[0;32m   1819\u001b[0m         context\u001b[38;5;241m.\u001b[39mexecutemany,\n\u001b[0;32m   1820\u001b[0m     )\n",
      "File \u001b[1;32m~\\anaconda3\\envs\\env1\\lib\\site-packages\\sqlalchemy\\engine\\default.py:732\u001b[0m, in \u001b[0;36mDefaultDialect.do_execute\u001b[1;34m(self, cursor, statement, parameters, context)\u001b[0m\n\u001b[0;32m    731\u001b[0m \u001b[38;5;28;01mdef\u001b[39;00m \u001b[38;5;21mdo_execute\u001b[39m(\u001b[38;5;28mself\u001b[39m, cursor, statement, parameters, context\u001b[38;5;241m=\u001b[39m\u001b[38;5;28;01mNone\u001b[39;00m):\n\u001b[1;32m--> 732\u001b[0m     \u001b[43mcursor\u001b[49m\u001b[38;5;241;43m.\u001b[39;49m\u001b[43mexecute\u001b[49m\u001b[43m(\u001b[49m\u001b[43mstatement\u001b[49m\u001b[43m,\u001b[49m\u001b[43m \u001b[49m\u001b[43mparameters\u001b[49m\u001b[43m)\u001b[49m\n",
      "\u001b[1;31mOperationalError\u001b[0m: (sqlite3.OperationalError) table insiders already exists\n[SQL: \n\n        CREATE TABLE insiders (\n            customer_id     INTEGER,\n            gross_revenue   REAL,\n            recency         INTEGER,\n            frequency       INTEGER,\n            items           INTEGER,\n            products        INTEGER,\n            returns         INTEGER,\n            cluster         INTEGER\n        )\n\n]\n(Background on this error at: https://sqlalche.me/e/14/e3q8)"
     ]
    }
   ],
   "source": [
    "# database connection\n",
    "conn = create_engine(\"sqlite:///../src/sqlite/insiders_db.sqlite\")\n",
    "\n",
    "# drop table\n",
    "# query_drop = \"\"\"\n",
    "#         DROP TABLE insiders\n",
    "\n",
    "# \"\"\"\n",
    "\n",
    "# create table\n",
    "query_create = \"\"\"\n",
    "\n",
    "        CREATE TABLE insiders (\n",
    "            customer_id     INTEGER,\n",
    "            gross_revenue   REAL,\n",
    "            recency         INTEGER,\n",
    "            frequency       INTEGER,\n",
    "            items           INTEGER,\n",
    "            products        INTEGER,\n",
    "            returns         INTEGER,\n",
    "            cluster         INTEGER\n",
    "        )\n",
    "\n",
    "\"\"\"\n",
    "\n",
    "conn.execute(query_create)"
   ]
  },
  {
   "cell_type": "code",
   "execution_count": null,
   "id": "3f60fff1",
   "metadata": {
    "papermill": {
     "duration": null,
     "end_time": null,
     "exception": null,
     "start_time": null,
     "status": "pending"
    },
    "tags": []
   },
   "outputs": [],
   "source": [
    "df92.to_sql('insiders', con=conn, if_exists='append', index=False)"
   ]
  },
  {
   "cell_type": "code",
   "execution_count": null,
   "id": "4622ab75",
   "metadata": {
    "papermill": {
     "duration": null,
     "end_time": null,
     "exception": null,
     "start_time": null,
     "status": "pending"
    },
    "tags": []
   },
   "outputs": [],
   "source": [
    "query_collect = \"\"\"\n",
    "        SELECT * FROM insiders\n",
    "\"\"\"\n",
    "df = pd.read_sql_query(query_collect, conn)\n",
    "df.head()"
   ]
  }
 ],
 "metadata": {
  "kernelspec": {
   "display_name": "env1",
   "language": "python",
   "name": "python3"
  },
  "language_info": {
   "codemirror_mode": {
    "name": "ipython",
    "version": 3
   },
   "file_extension": ".py",
   "mimetype": "text/x-python",
   "name": "python",
   "nbconvert_exporter": "python",
   "pygments_lexer": "ipython3",
   "version": "3.10.4"
  },
  "papermill": {
   "default_parameters": {},
   "duration": 131.959516,
   "end_time": "2023-10-03T03:00:37.824347",
   "environment_variables": {},
   "exception": true,
   "input_path": "C:/Users/Codo/Desktop/repos/insiders_clusterization/src/models/deploy.ipynb",
   "output_path": "C:/Users/Codo/Desktop/repos/insiders_clusterization/reports/notebook-deploy_02_10_2023_23_58_25.ipynb",
   "parameters": {},
   "start_time": "2023-10-03T02:58:25.864831",
   "version": "2.4.0"
  }
 },
 "nbformat": 4,
 "nbformat_minor": 5
}